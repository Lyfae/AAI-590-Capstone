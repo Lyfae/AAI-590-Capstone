{
 "cells": [
  {
   "cell_type": "markdown",
   "metadata": {
    "id": "MraSKD2TzHvE"
   },
   "source": [
    "# FLAN-T5-BASE CHATBOT MODEL"
   ]
  },
  {
   "cell_type": "markdown",
   "metadata": {
    "id": "BXPYmn_wa21i"
   },
   "source": [
    "This model is used to provide textual answers to general questions.\n",
    "For this project we used the conversations dataset: https://www.kaggle.com/datasets/kreeshrajani/3k-conversations-dataset-for-chatbot"
   ]
  },
  {
   "cell_type": "markdown",
   "metadata": {},
   "source": [
    "## Import all the necessary libraries"
   ]
  },
  {
   "cell_type": "code",
   "execution_count": 1,
   "metadata": {
    "id": "XgVKIyLB2f0U"
   },
   "outputs": [
    {
     "name": "stderr",
     "output_type": "stream",
     "text": [
      "c:\\Users\\Paul\\anaconda3\\envs\\torch\\lib\\site-packages\\tqdm\\auto.py:21: TqdmWarning: IProgress not found. Please update jupyter and ipywidgets. See https://ipywidgets.readthedocs.io/en/stable/user_install.html\n",
      "  from .autonotebook import tqdm as notebook_tqdm\n"
     ]
    }
   ],
   "source": [
    "import pandas as pd\n",
    "import matplotlib.pyplot as plt\n",
    "import seaborn as sns\n",
    "import numpy as np\n",
    "from collections import Counter\n",
    "import re\n",
    "from nltk.corpus import stopwords\n",
    "stop_words = set(stopwords.words('english'))\n",
    "import nltk\n",
    "from nltk.corpus import wordnet\n",
    "from nltk.stem import WordNetLemmatizer\n",
    "from sklearn.model_selection import train_test_split\n",
    "from datasets import Dataset\n",
    "from datasets import DatasetDict\n",
    "import torch\n",
    "from transformers import AutoModelForSeq2SeqLM, AutoTokenizer, GenerationConfig, TrainingArguments, Trainer\n",
    "from peft import LoraConfig, get_peft_model, TaskType\n",
    "from peft import PeftModel\n",
    "import json"
   ]
  },
  {
   "cell_type": "markdown",
   "metadata": {
    "id": "8EWU_b1dzHvF"
   },
   "source": [
    "## Read the data"
   ]
  },
  {
   "cell_type": "markdown",
   "metadata": {},
   "source": [
    "We checked the structure of the dataset and counted the number of available questions/answers. "
   ]
  },
  {
   "cell_type": "code",
   "execution_count": 2,
   "metadata": {
    "id": "svun_FJdzHvF"
   },
   "outputs": [],
   "source": [
    "# Create a DataFrame\n",
    "chatbot_df = pd.read_csv('Conversations_clean.csv')"
   ]
  },
  {
   "cell_type": "code",
   "execution_count": 3,
   "metadata": {
    "id": "newFd6gvzHvF",
    "outputId": "d612a537-39c4-4f7c-9eeb-367eca092f59"
   },
   "outputs": [
    {
     "data": {
      "text/html": [
       "<div>\n",
       "<style scoped>\n",
       "    .dataframe tbody tr th:only-of-type {\n",
       "        vertical-align: middle;\n",
       "    }\n",
       "\n",
       "    .dataframe tbody tr th {\n",
       "        vertical-align: top;\n",
       "    }\n",
       "\n",
       "    .dataframe thead th {\n",
       "        text-align: right;\n",
       "    }\n",
       "</style>\n",
       "<table border=\"1\" class=\"dataframe\">\n",
       "  <thead>\n",
       "    <tr style=\"text-align: right;\">\n",
       "      <th></th>\n",
       "      <th>question</th>\n",
       "      <th>answer</th>\n",
       "    </tr>\n",
       "  </thead>\n",
       "  <tbody>\n",
       "    <tr>\n",
       "      <th>0</th>\n",
       "      <td>hi, how are you doing?</td>\n",
       "      <td>i'm fine. how about yourself?</td>\n",
       "    </tr>\n",
       "    <tr>\n",
       "      <th>1</th>\n",
       "      <td>i'm fine. how about yourself?</td>\n",
       "      <td>i'm pretty good. thanks for asking.</td>\n",
       "    </tr>\n",
       "    <tr>\n",
       "      <th>2</th>\n",
       "      <td>i'm pretty good. thanks for asking.</td>\n",
       "      <td>no problem. so how have you been?</td>\n",
       "    </tr>\n",
       "    <tr>\n",
       "      <th>3</th>\n",
       "      <td>no problem. so how have you been?</td>\n",
       "      <td>i've been great. what about you?</td>\n",
       "    </tr>\n",
       "    <tr>\n",
       "      <th>4</th>\n",
       "      <td>i've been great. what about you?</td>\n",
       "      <td>i've been good. i'm in school right now.</td>\n",
       "    </tr>\n",
       "  </tbody>\n",
       "</table>\n",
       "</div>"
      ],
      "text/plain": [
       "                              question  \\\n",
       "0               hi, how are you doing?   \n",
       "1        i'm fine. how about yourself?   \n",
       "2  i'm pretty good. thanks for asking.   \n",
       "3    no problem. so how have you been?   \n",
       "4     i've been great. what about you?   \n",
       "\n",
       "                                     answer  \n",
       "0             i'm fine. how about yourself?  \n",
       "1       i'm pretty good. thanks for asking.  \n",
       "2         no problem. so how have you been?  \n",
       "3          i've been great. what about you?  \n",
       "4  i've been good. i'm in school right now.  "
      ]
     },
     "execution_count": 3,
     "metadata": {},
     "output_type": "execute_result"
    }
   ],
   "source": [
    "# Show the first few rows of the DataFrame\n",
    "chatbot_df.head()"
   ]
  },
  {
   "cell_type": "code",
   "execution_count": 4,
   "metadata": {
    "id": "2Ob-nsBazHvF",
    "outputId": "787972b5-4faf-4c67-906b-d5c610483566"
   },
   "outputs": [
    {
     "data": {
      "text/plain": [
       "(3725, 2)"
      ]
     },
     "execution_count": 4,
     "metadata": {},
     "output_type": "execute_result"
    }
   ],
   "source": [
    "chatbot_df.shape # print the dataset shape"
   ]
  },
  {
   "cell_type": "markdown",
   "metadata": {
    "id": "KPUwy4thzHvF"
   },
   "source": [
    "## EDA"
   ]
  },
  {
   "cell_type": "markdown",
   "metadata": {
    "id": "BltHnu6HzHvF"
   },
   "source": [
    "EDA was performed by following a similar procedure to the one described by Singh (n.d.).\n",
    "\n",
    "References:\n",
    "Singh, H. (n.d.). Complete Guide to EDA on Text Data. Kaggle. https://www.kaggle.com/code/harshsingh2209/complete-guide-to-eda-on-text-data"
   ]
  },
  {
   "cell_type": "code",
   "execution_count": 5,
   "metadata": {
    "id": "7ivx5yCjzHvG",
    "outputId": "14c75873-72dd-4112-f7fe-f279b23992e8"
   },
   "outputs": [
    {
     "data": {
      "image/png": "[encoded data removed]",
      "text/plain": [
       "<Figure size 2000x1500 with 4 Axes>"
      ]
     },
     "metadata": {},
     "output_type": "display_data"
    }
   ],
   "source": [
    "# Function to count the number of words in a sentence\n",
    "def count_words(text):\n",
    "    words = text.split() # extract the words from text\n",
    "    num_words = len(words) # count the number of words\n",
    "    return num_words\n",
    "\n",
    "# Function to count the number of characters in a sentence\n",
    "def count_characters(text):\n",
    "    num_char = len(text) # count the number of chatacters\n",
    "    return num_char\n",
    "\n",
    "num_words_question = chatbot_df['question'].apply(count_words)\n",
    "num_words_answer = chatbot_df['answer'].apply(count_words)\n",
    "num_char_question = chatbot_df['question'].apply(count_characters)\n",
    "num_char_answer = chatbot_df['answer'].apply(count_characters)\n",
    "\n",
    "plt.figure(figsize = (20, 15))  \n",
    "plt.subplot(2, 2, 1)\n",
    "sns.boxplot(y = num_words_question)\n",
    "plt.yticks(fontsize = 30)\n",
    "plt.ylabel('Words', fontsize = 40)\n",
    "plt.title('Questions', fontsize = 40)\n",
    "plt.subplot(2, 2, 2)\n",
    "sns.boxplot(y = num_words_answer)\n",
    "plt.yticks(fontsize = 30)\n",
    "plt.ylabel('')\n",
    "plt.title('Answers', fontsize = 40)\n",
    "plt.subplot(2, 2, 3)\n",
    "sns.boxplot(y = num_char_question)\n",
    "plt.yticks(fontsize = 30)\n",
    "plt.ylabel('Characters', fontsize = 40)\n",
    "plt.subplot(2, 2, 4)\n",
    "sns.boxplot(y = num_char_answer)\n",
    "plt.yticks(fontsize = 30)\n",
    "plt.ylabel('')\n",
    "plt.savefig('Boxplots_QA.png')\n",
    "plt.show()"
   ]
  },
  {
   "cell_type": "code",
   "execution_count": 6,
   "metadata": {
    "id": "SrpqiEVkzHvG",
    "outputId": "f42473c4-be99-484f-a3fb-8414ea998b3d"
   },
   "outputs": [
    {
     "data": {
      "image/png": "[encoded data removed]",
      "text/plain": [
       "<Figure size 640x480 with 1 Axes>"
      ]
     },
     "metadata": {},
     "output_type": "display_data"
    },
    {
     "data": {
      "image/png": "[encoded data removed]",
      "text/plain": [
       "<Figure size 640x480 with 1 Axes>"
      ]
     },
     "metadata": {},
     "output_type": "display_data"
    }
   ],
   "source": [
    "# Identify the most frequent words in the question/answer columns\n",
    "\n",
    "# Function to get the list of words in a sentence\n",
    "def list_words(text):\n",
    "    words = text.split() # extract the words from text\n",
    "    return words\n",
    "\n",
    "# Function to get the top 20 most common words and their counts\n",
    "def words_freq(corpus):\n",
    "    mostcommon = Counter(corpus).most_common(20)\n",
    "    words = []\n",
    "    counts = []\n",
    "    for word, count in mostcommon:\n",
    "        words.append(word)\n",
    "        counts.append(count)\n",
    "    return words, counts\n",
    "\n",
    "words_question = chatbot_df['question'].apply(list_words)\n",
    "words_answer = chatbot_df['answer'].apply(list_words)\n",
    "corpus_question = []\n",
    "for jj in range(len(words_question)):\n",
    "    corpus_question += words_question[jj] # all the words in all the questions\n",
    "corpus_answer = []\n",
    "for jj in range(len(words_answer)):\n",
    "    corpus_answer += words_answer[jj] # all the words in all the answers\n",
    "words_question, counts_question = words_freq(corpus_question) # top 20 most common words and their counts in questions\n",
    "words_answer, counts_answer = words_freq(corpus_answer) # top 20 most common words and their counts in answers\n",
    "\n",
    "sns.barplot(x = counts_question, y = words_question)\n",
    "plt.xticks(fontsize = 15)\n",
    "plt.yticks(fontsize = 15)\n",
    "plt.title('Questions', fontsize = 30)\n",
    "plt.savefig('Common_Words_Questions.png')\n",
    "plt.show()\n",
    "\n",
    "sns.barplot(x = counts_answer, y = words_answer)\n",
    "plt.xticks(fontsize = 15)\n",
    "plt.yticks(fontsize = 15)\n",
    "plt.title('Answers', fontsize = 30)\n",
    "plt.savefig('Common_Words_Answers.png')\n",
    "plt.show()"
   ]
  },
  {
   "cell_type": "markdown",
   "metadata": {
    "id": "13ml5Q_RzHvG"
   },
   "source": [
    "## Preprocessing"
   ]
  },
  {
   "cell_type": "markdown",
   "metadata": {},
   "source": [
    "In order to replace contractions, we adopted the same procedure described in Replace apostrophe/short words in python (n.d.). \n",
    "\n",
    "References: \n",
    "Replace apostrophe/short words in python. (n.d.). Stack Overflow. Retrieved July 24, 2024, from https://stackoverflow.com/questions/43018030/replace-apostrophe-short-words-in-python"
   ]
  },
  {
   "cell_type": "code",
   "execution_count": 7,
   "metadata": {
    "id": "GMp8EaY8zHvG",
    "outputId": "328b6aa0-146a-431e-a319-9d1202adae05"
   },
   "outputs": [
    {
     "data": {
      "text/html": [
       "<div>\n",
       "<style scoped>\n",
       "    .dataframe tbody tr th:only-of-type {\n",
       "        vertical-align: middle;\n",
       "    }\n",
       "\n",
       "    .dataframe tbody tr th {\n",
       "        vertical-align: top;\n",
       "    }\n",
       "\n",
       "    .dataframe thead th {\n",
       "        text-align: right;\n",
       "    }\n",
       "</style>\n",
       "<table border=\"1\" class=\"dataframe\">\n",
       "  <thead>\n",
       "    <tr style=\"text-align: right;\">\n",
       "      <th></th>\n",
       "      <th>question</th>\n",
       "      <th>answer</th>\n",
       "    </tr>\n",
       "  </thead>\n",
       "  <tbody>\n",
       "    <tr>\n",
       "      <th>0</th>\n",
       "      <td>hi how are you doing</td>\n",
       "      <td>I am fine how about yourself</td>\n",
       "    </tr>\n",
       "    <tr>\n",
       "      <th>1</th>\n",
       "      <td>I am fine how about yourself</td>\n",
       "      <td>I am pretty good thanks for asking</td>\n",
       "    </tr>\n",
       "    <tr>\n",
       "      <th>2</th>\n",
       "      <td>I am pretty good thanks for asking</td>\n",
       "      <td>no problem so how have you been</td>\n",
       "    </tr>\n",
       "    <tr>\n",
       "      <th>3</th>\n",
       "      <td>no problem so how have you been</td>\n",
       "      <td>I have been great what about you</td>\n",
       "    </tr>\n",
       "    <tr>\n",
       "      <th>4</th>\n",
       "      <td>I have been great what about you</td>\n",
       "      <td>I have been good I am in school right now</td>\n",
       "    </tr>\n",
       "  </tbody>\n",
       "</table>\n",
       "</div>"
      ],
      "text/plain": [
       "                             question  \\\n",
       "0                hi how are you doing   \n",
       "1        I am fine how about yourself   \n",
       "2  I am pretty good thanks for asking   \n",
       "3     no problem so how have you been   \n",
       "4    I have been great what about you   \n",
       "\n",
       "                                      answer  \n",
       "0               I am fine how about yourself  \n",
       "1         I am pretty good thanks for asking  \n",
       "2            no problem so how have you been  \n",
       "3           I have been great what about you  \n",
       "4  I have been good I am in school right now  "
      ]
     },
     "execution_count": 7,
     "metadata": {},
     "output_type": "execute_result"
    }
   ],
   "source": [
    "# List of common contractions \n",
    "contractions = {\n",
    "\"ain't\": \"am not / are not\",\n",
    "\"aren't\": \"are not / am not\",\n",
    "\"can't\": \"cannot\",\n",
    "\"can't've\": \"cannot have\",\n",
    "\"'cause\": \"because\",\n",
    "\"could've\": \"could have\",\n",
    "\"couldn't\": \"could not\",\n",
    "\"couldn't've\": \"could not have\",\n",
    "\"didn't\": \"did not\",\n",
    "\"doesn't\": \"does not\",\n",
    "\"don't\": \"do not\",\n",
    "\"hadn't\": \"had not\",\n",
    "\"hadn't've\": \"had not have\",\n",
    "\"hasn't\": \"has not\",\n",
    "\"haven't\": \"have not\",\n",
    "\"he'd\": \"he had / he would\",\n",
    "\"he'd've\": \"he would have\",\n",
    "\"he'll\": \"he shall / he will\",\n",
    "\"he'll've\": \"he shall have / he will have\",\n",
    "\"he's\": \"he has / he is\",\n",
    "\"how'd\": \"how did\",\n",
    "\"how'd'y\": \"how do you\",\n",
    "\"how'll\": \"how will\",\n",
    "\"how's\": \"how has / how is\",\n",
    "\"i'd\": \"I had / I would\",\n",
    "\"i'd've\": \"I would have\",\n",
    "\"i'll\": \"I shall / I will\",\n",
    "\"i'll've\": \"I shall have / I will have\",\n",
    "\"i'm\": \"I am\",\n",
    "\"i've\": \"I have\",\n",
    "\"isn't\": \"is not\",\n",
    "\"it'd\": \"it had / it would\",\n",
    "\"it'd've\": \"it would have\",\n",
    "\"it'll\": \"it shall / it will\",\n",
    "\"it'll've\": \"it shall have / it will have\",\n",
    "\"it's\": \"it has / it is\",\n",
    "\"let's\": \"let us\",\n",
    "\"ma'am\": \"madam\",\n",
    "\"mayn't\": \"may not\",\n",
    "\"might've\": \"might have\",\n",
    "\"mightn't\": \"might not\",\n",
    "\"mightn't've\": \"might not have\",\n",
    "\"must've\": \"must have\",\n",
    "\"mustn't\": \"must not\",\n",
    "\"mustn't've\": \"must not have\",\n",
    "\"needn't\": \"need not\",\n",
    "\"needn't've\": \"need not have\",\n",
    "\"o'clock\": \"of the clock\",\n",
    "\"oughtn't\": \"ought not\",\n",
    "\"oughtn't've\": \"ought not have\",\n",
    "\"shan't\": \"shall not\",\n",
    "\"sha'n't\": \"shall not\",\n",
    "\"shan't've\": \"shall not have\",\n",
    "\"she'd\": \"she had / she would\",\n",
    "\"she'd've\": \"she would have\",\n",
    "\"she'll\": \"she shall / she will\",\n",
    "\"she'll've\": \"she shall have / she will have\",\n",
    "\"she's\": \"she has / she is\",\n",
    "\"should've\": \"should have\",\n",
    "\"shouldn't\": \"should not\",\n",
    "\"shouldn't've\": \"should not have\",\n",
    "\"so've\": \"so have\",\n",
    "\"so's\": \"so as / so is\",\n",
    "\"that'd\": \"that would / that had\",\n",
    "\"that'd've\": \"that would have\",\n",
    "\"that's\": \"that has / that is\",\n",
    "\"there'd\": \"there had / there would\",\n",
    "\"there'd've\": \"there would have\",\n",
    "\"there's\": \"there has / there is\",\n",
    "\"they'd\": \"they had / they would\",\n",
    "\"they'd've\": \"they would have\",\n",
    "\"they'll\": \"they shall / they will\",\n",
    "\"they'll've\": \"they shall have / they will have\",\n",
    "\"they're\": \"they are\",\n",
    "\"they've\": \"they have\",\n",
    "\"to've\": \"to have\",\n",
    "\"wasn't\": \"was not\",\n",
    "\"we'd\": \"we had / we would\",\n",
    "\"we'd've\": \"we would have\",\n",
    "\"we'll\": \"we will\",\n",
    "\"we'll've\": \"we will have\",\n",
    "\"we're\": \"we are\",\n",
    "\"we've\": \"we have\",\n",
    "\"weren't\": \"were not\",\n",
    "\"what'll\": \"what shall / what will\",\n",
    "\"what'll've\": \"what shall have / what will have\",\n",
    "\"what're\": \"what are\",\n",
    "\"what's\": \"what has / what is\",\n",
    "\"what've\": \"what have\",\n",
    "\"when's\": \"when has / when is\",\n",
    "\"when've\": \"when have\",\n",
    "\"where'd\": \"where did\",\n",
    "\"where's\": \"where has / where is\",\n",
    "\"where've\": \"where have\",\n",
    "\"who'll\": \"who shall / who will\",\n",
    "\"who'll've\": \"who shall have / who will have\",\n",
    "\"who's\": \"who has / who is\",\n",
    "\"who've\": \"who have\",\n",
    "\"why's\": \"why has / why is\",\n",
    "\"why've\": \"why have\",\n",
    "\"will've\": \"will have\",\n",
    "\"won't\": \"will not\",\n",
    "\"won't've\": \"will not have\",\n",
    "\"would've\": \"would have\",\n",
    "\"wouldn't\": \"would not\",\n",
    "\"wouldn't've\": \"would not have\",\n",
    "\"y'all\": \"you all\",\n",
    "\"y'all'd\": \"you all would\",\n",
    "\"y'all'd've\": \"you all would have\",\n",
    "\"y'all're\": \"you all are\",\n",
    "\"y'all've\": \"you all have\",\n",
    "\"you'd\": \"you had / you would\",\n",
    "\"you'd've\": \"you would have\",\n",
    "\"you'll\": \"you shall / you will\",\n",
    "\"you'll've\": \"you shall have / you will have\",\n",
    "\"you're\": \"you are\",\n",
    "\"you've\": \"you have\"\n",
    "}\n",
    "\n",
    "# Function to replace contractions, remove punctuation and apply lowercase\n",
    "def clear_text(text):\n",
    "    for word in text.split(): # remove contractions and apply lowercase\n",
    "        word = word.lower()\n",
    "        if word in contractions:\n",
    "            text = text.replace(word, contractions[word])\n",
    "    text = re.sub(r'[^\\w\\s]', '', text) # remove punctuation\n",
    "    return text\n",
    "\n",
    "chatbot_df['question'] = chatbot_df['question'].apply(clear_text)\n",
    "chatbot_df['answer'] = chatbot_df['answer'].apply(clear_text)\n",
    "chatbot_df.head()"
   ]
  },
  {
   "cell_type": "code",
   "execution_count": 8,
   "metadata": {
    "id": "DOCcNii2zHvG",
    "outputId": "df6bcf54-ba75-438d-e7d2-a07952e283eb"
   },
   "outputs": [
    {
     "data": {
      "text/html": [
       "<div>\n",
       "<style scoped>\n",
       "    .dataframe tbody tr th:only-of-type {\n",
       "        vertical-align: middle;\n",
       "    }\n",
       "\n",
       "    .dataframe tbody tr th {\n",
       "        vertical-align: top;\n",
       "    }\n",
       "\n",
       "    .dataframe thead th {\n",
       "        text-align: right;\n",
       "    }\n",
       "</style>\n",
       "<table border=\"1\" class=\"dataframe\">\n",
       "  <thead>\n",
       "    <tr style=\"text-align: right;\">\n",
       "      <th></th>\n",
       "      <th>question</th>\n",
       "      <th>answer</th>\n",
       "      <th>token_question</th>\n",
       "      <th>token_answer</th>\n",
       "    </tr>\n",
       "  </thead>\n",
       "  <tbody>\n",
       "    <tr>\n",
       "      <th>0</th>\n",
       "      <td>hi how are you doing</td>\n",
       "      <td>I am fine how about yourself</td>\n",
       "      <td>[hi, how, are, you, doing]</td>\n",
       "      <td>[I, am, fine, how, about, yourself]</td>\n",
       "    </tr>\n",
       "    <tr>\n",
       "      <th>1</th>\n",
       "      <td>I am fine how about yourself</td>\n",
       "      <td>I am pretty good thanks for asking</td>\n",
       "      <td>[I, am, fine, how, about, yourself]</td>\n",
       "      <td>[I, am, pretty, good, thanks, for, asking]</td>\n",
       "    </tr>\n",
       "    <tr>\n",
       "      <th>2</th>\n",
       "      <td>I am pretty good thanks for asking</td>\n",
       "      <td>no problem so how have you been</td>\n",
       "      <td>[I, am, pretty, good, thanks, for, asking]</td>\n",
       "      <td>[no, problem, so, how, have, you, been]</td>\n",
       "    </tr>\n",
       "    <tr>\n",
       "      <th>3</th>\n",
       "      <td>no problem so how have you been</td>\n",
       "      <td>I have been great what about you</td>\n",
       "      <td>[no, problem, so, how, have, you, been]</td>\n",
       "      <td>[I, have, been, great, what, about, you]</td>\n",
       "    </tr>\n",
       "    <tr>\n",
       "      <th>4</th>\n",
       "      <td>I have been great what about you</td>\n",
       "      <td>I have been good I am in school right now</td>\n",
       "      <td>[I, have, been, great, what, about, you]</td>\n",
       "      <td>[I, have, been, good, I, am, in, school, right...</td>\n",
       "    </tr>\n",
       "  </tbody>\n",
       "</table>\n",
       "</div>"
      ],
      "text/plain": [
       "                             question  \\\n",
       "0                hi how are you doing   \n",
       "1        I am fine how about yourself   \n",
       "2  I am pretty good thanks for asking   \n",
       "3     no problem so how have you been   \n",
       "4    I have been great what about you   \n",
       "\n",
       "                                      answer  \\\n",
       "0               I am fine how about yourself   \n",
       "1         I am pretty good thanks for asking   \n",
       "2            no problem so how have you been   \n",
       "3           I have been great what about you   \n",
       "4  I have been good I am in school right now   \n",
       "\n",
       "                               token_question  \\\n",
       "0                  [hi, how, are, you, doing]   \n",
       "1         [I, am, fine, how, about, yourself]   \n",
       "2  [I, am, pretty, good, thanks, for, asking]   \n",
       "3     [no, problem, so, how, have, you, been]   \n",
       "4    [I, have, been, great, what, about, you]   \n",
       "\n",
       "                                        token_answer  \n",
       "0                [I, am, fine, how, about, yourself]  \n",
       "1         [I, am, pretty, good, thanks, for, asking]  \n",
       "2            [no, problem, so, how, have, you, been]  \n",
       "3           [I, have, been, great, what, about, you]  \n",
       "4  [I, have, been, good, I, am, in, school, right...  "
      ]
     },
     "execution_count": 8,
     "metadata": {},
     "output_type": "execute_result"
    }
   ],
   "source": [
    "# Tokenization\n",
    "chatbot_df['token_question'] = chatbot_df['question'].apply(nltk.word_tokenize)\n",
    "chatbot_df['token_answer'] = chatbot_df['answer'].apply(nltk.word_tokenize)\n",
    "chatbot_df.head()"
   ]
  },
  {
   "cell_type": "code",
   "execution_count": 9,
   "metadata": {
    "id": "5vP4gdpozHvG",
    "outputId": "2640e919-2bed-4133-efdb-b5260f67d224"
   },
   "outputs": [
    {
     "data": {
      "text/html": [
       "<div>\n",
       "<style scoped>\n",
       "    .dataframe tbody tr th:only-of-type {\n",
       "        vertical-align: middle;\n",
       "    }\n",
       "\n",
       "    .dataframe tbody tr th {\n",
       "        vertical-align: top;\n",
       "    }\n",
       "\n",
       "    .dataframe thead th {\n",
       "        text-align: right;\n",
       "    }\n",
       "</style>\n",
       "<table border=\"1\" class=\"dataframe\">\n",
       "  <thead>\n",
       "    <tr style=\"text-align: right;\">\n",
       "      <th></th>\n",
       "      <th>question</th>\n",
       "      <th>answer</th>\n",
       "      <th>token_question</th>\n",
       "      <th>token_answer</th>\n",
       "      <th>lem_question</th>\n",
       "      <th>lem_answer</th>\n",
       "    </tr>\n",
       "  </thead>\n",
       "  <tbody>\n",
       "    <tr>\n",
       "      <th>0</th>\n",
       "      <td>hi how are you doing</td>\n",
       "      <td>I am fine how about yourself</td>\n",
       "      <td>[hi, how, are, you, doing]</td>\n",
       "      <td>[I, am, fine, how, about, yourself]</td>\n",
       "      <td>[hi, how, be, you, do]</td>\n",
       "      <td>[I, be, fine, how, about, yourself]</td>\n",
       "    </tr>\n",
       "    <tr>\n",
       "      <th>1</th>\n",
       "      <td>I am fine how about yourself</td>\n",
       "      <td>I am pretty good thanks for asking</td>\n",
       "      <td>[I, am, fine, how, about, yourself]</td>\n",
       "      <td>[I, am, pretty, good, thanks, for, asking]</td>\n",
       "      <td>[I, be, fine, how, about, yourself]</td>\n",
       "      <td>[I, be, pretty, good, thanks, for, ask]</td>\n",
       "    </tr>\n",
       "    <tr>\n",
       "      <th>2</th>\n",
       "      <td>I am pretty good thanks for asking</td>\n",
       "      <td>no problem so how have you been</td>\n",
       "      <td>[I, am, pretty, good, thanks, for, asking]</td>\n",
       "      <td>[no, problem, so, how, have, you, been]</td>\n",
       "      <td>[I, be, pretty, good, thanks, for, ask]</td>\n",
       "      <td>[no, problem, so, how, have, you, be]</td>\n",
       "    </tr>\n",
       "    <tr>\n",
       "      <th>3</th>\n",
       "      <td>no problem so how have you been</td>\n",
       "      <td>I have been great what about you</td>\n",
       "      <td>[no, problem, so, how, have, you, been]</td>\n",
       "      <td>[I, have, been, great, what, about, you]</td>\n",
       "      <td>[no, problem, so, how, have, you, be]</td>\n",
       "      <td>[I, have, be, great, what, about, you]</td>\n",
       "    </tr>\n",
       "    <tr>\n",
       "      <th>4</th>\n",
       "      <td>I have been great what about you</td>\n",
       "      <td>I have been good I am in school right now</td>\n",
       "      <td>[I, have, been, great, what, about, you]</td>\n",
       "      <td>[I, have, been, good, I, am, in, school, right...</td>\n",
       "      <td>[I, have, be, great, what, about, you]</td>\n",
       "      <td>[I, have, be, good, I, be, in, school, right, ...</td>\n",
       "    </tr>\n",
       "  </tbody>\n",
       "</table>\n",
       "</div>"
      ],
      "text/plain": [
       "                             question  \\\n",
       "0                hi how are you doing   \n",
       "1        I am fine how about yourself   \n",
       "2  I am pretty good thanks for asking   \n",
       "3     no problem so how have you been   \n",
       "4    I have been great what about you   \n",
       "\n",
       "                                      answer  \\\n",
       "0               I am fine how about yourself   \n",
       "1         I am pretty good thanks for asking   \n",
       "2            no problem so how have you been   \n",
       "3           I have been great what about you   \n",
       "4  I have been good I am in school right now   \n",
       "\n",
       "                               token_question  \\\n",
       "0                  [hi, how, are, you, doing]   \n",
       "1         [I, am, fine, how, about, yourself]   \n",
       "2  [I, am, pretty, good, thanks, for, asking]   \n",
       "3     [no, problem, so, how, have, you, been]   \n",
       "4    [I, have, been, great, what, about, you]   \n",
       "\n",
       "                                        token_answer  \\\n",
       "0                [I, am, fine, how, about, yourself]   \n",
       "1         [I, am, pretty, good, thanks, for, asking]   \n",
       "2            [no, problem, so, how, have, you, been]   \n",
       "3           [I, have, been, great, what, about, you]   \n",
       "4  [I, have, been, good, I, am, in, school, right...   \n",
       "\n",
       "                              lem_question  \\\n",
       "0                   [hi, how, be, you, do]   \n",
       "1      [I, be, fine, how, about, yourself]   \n",
       "2  [I, be, pretty, good, thanks, for, ask]   \n",
       "3    [no, problem, so, how, have, you, be]   \n",
       "4   [I, have, be, great, what, about, you]   \n",
       "\n",
       "                                          lem_answer  \n",
       "0                [I, be, fine, how, about, yourself]  \n",
       "1            [I, be, pretty, good, thanks, for, ask]  \n",
       "2              [no, problem, so, how, have, you, be]  \n",
       "3             [I, have, be, great, what, about, you]  \n",
       "4  [I, have, be, good, I, be, in, school, right, ...  "
      ]
     },
     "execution_count": 9,
     "metadata": {},
     "output_type": "execute_result"
    }
   ],
   "source": [
    "# Lemmatization\n",
    "\n",
    "# Function to obtain the right positional tagging prior to lemmatization\n",
    "# Same function presented in Python – Lemmatization Approaches with Examples (n.d.)\n",
    "def right_pos_tagging(tag):\n",
    "    if tag.startswith('J'):\n",
    "        return wordnet.ADJ\n",
    "    elif tag.startswith('V'):\n",
    "        return wordnet.VERB\n",
    "    elif tag.startswith('N'):\n",
    "        return wordnet.NOUN\n",
    "    elif tag.startswith('R'):\n",
    "        return wordnet.ADV\n",
    "    else:\n",
    "        return None\n",
    "\n",
    "# Obtain the right positional tagging prior to lemmatization\n",
    "# Positional tags were modified as suggested by Python – Lemmatization Approaches with Examples (n.d.)\n",
    "\n",
    "tokens = chatbot_df['token_question']\n",
    "new_tag_tokens = []\n",
    "for jj in range(len(tokens)):\n",
    "    tokens_jj = tokens[jj] # tokens at the jjth row\n",
    "    tag_tokens_jj = nltk.pos_tag(tokens_jj) # POS tags for the generic tokens_jj\n",
    "    new_tag_tokens.append(list(map(lambda x: (x[0], right_pos_tagging(x[1])), tag_tokens_jj))) # modified POS tags for the generic tokens_jj (as Python – Lemmatization Approaches with Examples, n.d.)\n",
    "tagged_token_question = new_tag_tokens\n",
    "\n",
    "tokens = chatbot_df['token_answer']\n",
    "new_tag_tokens = []\n",
    "for jj in range(len(tokens)):\n",
    "    tokens_jj = tokens[jj] # tokens at the jjth row\n",
    "    tag_tokens_jj = nltk.pos_tag(tokens_jj) # POS tags for the generic tokens_jj\n",
    "    new_tag_tokens.append(list(map(lambda x: (x[0], right_pos_tagging(x[1])), tag_tokens_jj))) # modified POS tags for the generic tokens_jj (as Python – Lemmatization Approaches with Examples, n.d.)\n",
    "tagged_token_answer = new_tag_tokens\n",
    "\n",
    "# Implement lemmatization on the tokens\n",
    "# A procedure similar to the one described in Python – Lemmatization Approaches with Examples (n.d.) and by Kumar (2021) was applied\n",
    "\n",
    "wnl = WordNetLemmatizer()\n",
    "Lemmatization = []\n",
    "for jj in range(len(tagged_token_question)):\n",
    "    lemmatized_question = []\n",
    "# Same lines of codes used in Python – Lemmatization Approaches with Examples (n.d.)\n",
    "    for word, tag in tagged_token_question[jj]:\n",
    "        if tag is None:\n",
    "            lemmatized_question.append(word)\n",
    "        else:\n",
    "            lemmatized_question.append(wnl.lemmatize(word, tag))\n",
    "    Lemmatization.append(lemmatized_question)\n",
    "chatbot_df['lem_question'] = Lemmatization\n",
    "\n",
    "Lemmatization = []\n",
    "for jj in range(len(tagged_token_answer)):\n",
    "    lemmatized_answer = []\n",
    "# Same lines of codes used in Python – Lemmatization Approaches with Examples (n.d.)\n",
    "    for word, tag in tagged_token_answer[jj]:\n",
    "        if tag is None:\n",
    "            lemmatized_answer.append(word)\n",
    "        else:\n",
    "            lemmatized_answer.append(wnl.lemmatize(word, tag))\n",
    "    Lemmatization.append(lemmatized_answer)\n",
    "chatbot_df['lem_answer'] = Lemmatization\n",
    "\n",
    "chatbot_df.head()\n",
    "\n",
    "# References\n",
    "# Kumar, R. (2021, August 6). Natural Language Processing | Text Preprocessing | Spacy vs NLTK. Medium. https://medium.com/nerd-for-tech/natural-language-processing-text-preprocessing-spacy-vs-nltk-b70b734f5560\n",
    "# Python – Lemmatization Approaches with Examples. (n.d.). Geeks for Geeks.  https://www.geeksforgeeks.org/python-lemmatization-approaches-with-examples/"
   ]
  },
  {
   "cell_type": "markdown",
   "metadata": {},
   "source": [
    "## Flan-T5-Base Fine Tuning"
   ]
  },
  {
   "cell_type": "markdown",
   "metadata": {},
   "source": [
    "This section was created by following the same procedure described by Bhandare (n.d.).\n",
    "\n",
    "References: \n",
    "Bhandare, A. (n.d.). Fine-tune Flan-T5-base for chat with PEFT/LoRA! Kaggle. https://www.kaggle.com/code/ajinkyabhandare2002/fine-tune-flan-t5-base-for-chat-with-peft-lora\n"
   ]
  },
  {
   "cell_type": "markdown",
   "metadata": {},
   "source": [
    "#### Import tokenizer and model"
   ]
  },
  {
   "cell_type": "code",
   "execution_count": 10,
   "metadata": {},
   "outputs": [],
   "source": [
    "model_name = 'google/flan-t5-base' # define the model to use \n",
    "model = AutoModelForSeq2SeqLM.from_pretrained(model_name, torch_dtype = torch.bfloat16) # load the model with an indication of the memory type\n",
    "tokenizer = AutoTokenizer.from_pretrained(model_name) # load the tokenizer"
   ]
  },
  {
   "cell_type": "markdown",
   "metadata": {},
   "source": [
    "#### Preprocess data for retrain"
   ]
  },
  {
   "cell_type": "code",
   "execution_count": 11,
   "metadata": {},
   "outputs": [],
   "source": [
    "chatbot_df = chatbot_df.drop(columns = ['token_question','token_answer','lem_question','lem_answer']) # just use the questions and answers columns"
   ]
  },
  {
   "cell_type": "code",
   "execution_count": 12,
   "metadata": {},
   "outputs": [],
   "source": [
    "# Define the training, validation and testing sets\n",
    "train_data, val_test_data = train_test_split(chatbot_df, test_size = 0.2, random_state = 42)\n",
    "val_data, test_data = train_test_split(val_test_data, test_size = 0.5, random_state = 42)\n",
    "train_dataset = Dataset.from_pandas(train_data)\n",
    "val_dataset = Dataset.from_pandas(val_data)\n",
    "test_dataset = Dataset.from_pandas(test_data)"
   ]
  },
  {
   "cell_type": "code",
   "execution_count": 13,
   "metadata": {},
   "outputs": [
    {
     "data": {
      "text/plain": [
       "DatasetDict({\n",
       "    train: Dataset({\n",
       "        features: ['question', 'answer', '__index_level_0__'],\n",
       "        num_rows: 2980\n",
       "    })\n",
       "    validation: Dataset({\n",
       "        features: ['question', 'answer', '__index_level_0__'],\n",
       "        num_rows: 372\n",
       "    })\n",
       "    test: Dataset({\n",
       "        features: ['question', 'answer', '__index_level_0__'],\n",
       "        num_rows: 373\n",
       "    })\n",
       "})"
      ]
     },
     "execution_count": 13,
     "metadata": {},
     "output_type": "execute_result"
    }
   ],
   "source": [
    "# Create a working dataset, including the training, validation and testing sets\n",
    "working_dataset = DatasetDict({\n",
    "    \"train\": train_dataset,\n",
    "    \"validation\": val_dataset,\n",
    "    \"test\": test_dataset,\n",
    "})\n",
    "working_dataset"
   ]
  },
  {
   "cell_type": "code",
   "execution_count": 14,
   "metadata": {},
   "outputs": [
    {
     "data": {
      "text/plain": [
       "DatasetDict({\n",
       "    train: Dataset({\n",
       "        features: ['question', 'answer'],\n",
       "        num_rows: 2980\n",
       "    })\n",
       "    validation: Dataset({\n",
       "        features: ['question', 'answer'],\n",
       "        num_rows: 372\n",
       "    })\n",
       "    test: Dataset({\n",
       "        features: ['question', 'answer'],\n",
       "        num_rows: 373\n",
       "    })\n",
       "})"
      ]
     },
     "execution_count": 14,
     "metadata": {},
     "output_type": "execute_result"
    }
   ],
   "source": [
    "# Remove the unnecessary columns\n",
    "working_dataset[\"train\"] = working_dataset[\"train\"].remove_columns(\"__index_level_0__\") \n",
    "working_dataset[\"validation\"] = working_dataset[\"validation\"].remove_columns(\"__index_level_0__\")\n",
    "working_dataset[\"test\"] = working_dataset[\"test\"].remove_columns(\"__index_level_0__\")\n",
    "working_dataset"
   ]
  },
  {
   "cell_type": "code",
   "execution_count": 15,
   "metadata": {},
   "outputs": [
    {
     "name": "stderr",
     "output_type": "stream",
     "text": [
      "Map: 100%|██████████| 2980/2980 [00:00<00:00, 6435.89 examples/s]\n",
      "Map: 100%|██████████| 372/372 [00:00<00:00, 6722.25 examples/s]\n",
      "Map: 100%|██████████| 373/373 [00:00<00:00, 6957.27 examples/s]\n"
     ]
    },
    {
     "data": {
      "text/plain": [
       "DatasetDict({\n",
       "    train: Dataset({\n",
       "        features: ['input_ids', 'labels'],\n",
       "        num_rows: 2980\n",
       "    })\n",
       "    validation: Dataset({\n",
       "        features: ['input_ids', 'labels'],\n",
       "        num_rows: 372\n",
       "    })\n",
       "    test: Dataset({\n",
       "        features: ['input_ids', 'labels'],\n",
       "        num_rows: 373\n",
       "    })\n",
       "})"
      ]
     },
     "execution_count": 15,
     "metadata": {},
     "output_type": "execute_result"
    }
   ],
   "source": [
    "# Function to tokenize questions/answers and get their input_ids\n",
    "def tok_fun(example):\n",
    "    example['input_ids'] = tokenizer(example['question'], padding = 'max_length', truncation = True, return_tensors = \"pt\").input_ids\n",
    "    example['labels'] = tokenizer(example[\"answer\"], padding = 'max_length', truncation = True, return_tensors = \"pt\").input_ids\n",
    "    return example\n",
    "\n",
    "tokenized_datasets = working_dataset.map(tok_fun, batched = True) # apply the function to tokenize to questions and answers in the working dataset\n",
    "tokenized_datasets = tokenized_datasets.remove_columns(['question', 'answer']) # remove the original question and answer columns, which are not necessary for training\n",
    "tokenized_datasets"
   ]
  },
  {
   "cell_type": "markdown",
   "metadata": {},
   "source": [
    "#### Setup the PEFT/LoRA model "
   ]
  },
  {
   "cell_type": "code",
   "execution_count": 16,
   "metadata": {},
   "outputs": [],
   "source": [
    "lora_config = LoraConfig(\n",
    "    r = 8, \n",
    "    lora_alpha = 8,\n",
    "    target_modules = [\"q\", \"v\"],\n",
    "    lora_dropout = 0.05,\n",
    "    bias = \"none\",\n",
    "    task_type = TaskType.SEQ_2_SEQ_LM\n",
    ")"
   ]
  },
  {
   "cell_type": "markdown",
   "metadata": {},
   "source": [
    "#### Add the LoRA adapter layers/parameters to the LLM model"
   ]
  },
  {
   "cell_type": "code",
   "execution_count": 17,
   "metadata": {},
   "outputs": [
    {
     "name": "stdout",
     "output_type": "stream",
     "text": [
      "bin c:\\Users\\Paul\\anaconda3\\envs\\torch\\lib\\site-packages\\bitsandbytes\\libbitsandbytes_cuda118.dll\n"
     ]
    }
   ],
   "source": [
    "peft_model = get_peft_model(model, lora_config)"
   ]
  },
  {
   "cell_type": "markdown",
   "metadata": {},
   "source": [
    "#### Prepare the trainer"
   ]
  },
  {
   "cell_type": "code",
   "execution_count": 18,
   "metadata": {},
   "outputs": [
    {
     "name": "stderr",
     "output_type": "stream",
     "text": [
      "c:\\Users\\Paul\\anaconda3\\envs\\torch\\lib\\site-packages\\transformers\\training_args.py:1525: FutureWarning: `evaluation_strategy` is deprecated and will be removed in version 4.46 of 🤗 Transformers. Use `eval_strategy` instead\n",
      "  warnings.warn(\n"
     ]
    }
   ],
   "source": [
    "# Define the output directory\n",
    "output_dir = f'./peft-conversation-training'\n",
    "\n",
    "# Define the training arguments\n",
    "peft_training_args = TrainingArguments(\n",
    "    output_dir = output_dir,\n",
    "    auto_find_batch_size = True,\n",
    "    learning_rate = 1e-3, \n",
    "    num_train_epochs = 5,\n",
    "    save_steps = 100,\n",
    "    save_strategy = 'steps',\n",
    "    evaluation_strategy = 'steps',\n",
    "    eval_steps = 10,\n",
    ")\n",
    "\n",
    "# Create the trainer instance\n",
    "peft_trainer = Trainer(\n",
    "    model = peft_model,\n",
    "    args = peft_training_args,\n",
    "    train_dataset = tokenized_datasets[\"train\"],\n",
    "    eval_dataset = tokenized_datasets['validation']\n",
    ")"
   ]
  },
  {
   "cell_type": "markdown",
   "metadata": {},
   "source": [
    "#### Train the model"
   ]
  },
  {
   "cell_type": "code",
   "execution_count": null,
   "metadata": {},
   "outputs": [],
   "source": [
    "# Run the trainer\n",
    "peft_trainer.train()"
   ]
  },
  {
   "cell_type": "code",
   "execution_count": 19,
   "metadata": {},
   "outputs": [
    {
     "data": {
      "image/png": "[encoded data removed]",
      "text/plain": [
       "<Figure size 1000x600 with 1 Axes>"
      ]
     },
     "metadata": {},
     "output_type": "display_data"
    }
   ],
   "source": [
    "# Path to the log file\n",
    "log_file_path = f\"{output_dir}/checkpoint-1865/trainer_state_loss.json\"\n",
    "log_file_path_val = f\"{output_dir}/checkpoint-1865/trainer_state_val.json\"\n",
    "\n",
    "# Load the log file\n",
    "with open(log_file_path, \"r\") as log_file:\n",
    "    logs = json.load(log_file)\n",
    "with open(log_file_path_val, \"r\") as log_file_val:\n",
    "    logs_val = json.load(log_file_val)\n",
    "# Extract the training losses\n",
    "training_losses = [entry[\"loss\"] for entry in logs[\"log_history\"] if \"loss\" in entry]\n",
    "validation_losses = [entry[\"eval_loss\"] for entry in logs_val[\"log_history\"] if \"eval_loss\" in entry]\n",
    "# Plot the learning curve\n",
    "plt.figure(figsize = (10, 6))\n",
    "plt.plot(training_losses, 'bo-', label = \"Training loss\")\n",
    "plt.plot(validation_losses, 'ro-', label = \"Validation loss\")\n",
    "plt.xlabel(\"Steps\")\n",
    "plt.ylabel(\"Loss\")\n",
    "plt.xlim([-5, 120])\n",
    "plt.legend()\n",
    "plt.savefig('Learning_Curve_Chatbot')\n",
    "plt.show()"
   ]
  },
  {
   "cell_type": "markdown",
   "metadata": {},
   "source": [
    "#### Save the fine-tuned model"
   ]
  },
  {
   "cell_type": "code",
   "execution_count": null,
   "metadata": {},
   "outputs": [],
   "source": [
    "peft_model_path=\"./peft-conversation-checkpoint-local\"\n",
    "\n",
    "peft_trainer.model.save_pretrained(peft_model_path)\n",
    "tokenizer.save_pretrained(peft_model_path)"
   ]
  },
  {
   "cell_type": "markdown",
   "metadata": {},
   "source": [
    "#### Define the final model"
   ]
  },
  {
   "cell_type": "code",
   "execution_count": 20,
   "metadata": {},
   "outputs": [],
   "source": [
    "peft_model_base = AutoModelForSeq2SeqLM.from_pretrained(\"google/flan-t5-base\", torch_dtype = torch.bfloat16)\n",
    "tokenizer = AutoTokenizer.from_pretrained(\"google/flan-t5-base\")\n",
    "\n",
    "# Add the trained adapter to the original Flan-T5-Base model\n",
    "peft_model = PeftModel.from_pretrained(peft_model_base,\n",
    "                                       'peft-conversation-checkpoint-local',\n",
    "                                       torch_dtype = torch.bfloat16,\n",
    "                                       is_trainable = False)"
   ]
  },
  {
   "cell_type": "markdown",
   "metadata": {},
   "source": [
    "## Evaluate the final model performance"
   ]
  },
  {
   "cell_type": "markdown",
   "metadata": {},
   "source": [
    "Textual responses were generated as suggested by Bhandare (n.d.).\n",
    "\n",
    "References: \n",
    "Bhandare, A. (n.d.). Fine-tune Flan-T5-base for chat with PEFT/LoRA! Kaggle. https://www.kaggle.com/code/ajinkyabhandare2002/fine-tune-flan-t5-base-for-chat-with-peft-lora"
   ]
  },
  {
   "cell_type": "code",
   "execution_count": 21,
   "metadata": {},
   "outputs": [],
   "source": [
    "def insert_prompt(prompt):\n",
    "    \n",
    "    input_ids = tokenizer(prompt, return_tensors = \"pt\").input_ids # get the input_ids from the received prompt\n",
    "    outputs = peft_model.generate(input_ids = input_ids, generation_config = GenerationConfig(max_new_tokens = 200, num_beams = 1)) # get the model outputs\n",
    "    text_output = tokenizer.decode(outputs[0], skip_special_tokens = True) # convert the model outputs into text\n",
    "\n",
    "    return text_output"
   ]
  },
  {
   "cell_type": "code",
   "execution_count": 22,
   "metadata": {},
   "outputs": [
    {
     "name": "stdout",
     "output_type": "stream",
     "text": [
      "question:\n",
      "Hello, how are you?\n",
      "PEFT MODEL: I'm fine. I'm fine.\n"
     ]
    }
   ],
   "source": [
    "prompt = \"Hello, how are you?\"\n",
    "\n",
    "print(f'question:\\n{prompt}')\n",
    "print(f'PEFT MODEL: {insert_prompt(prompt)}')"
   ]
  },
  {
   "cell_type": "code",
   "execution_count": 23,
   "metadata": {},
   "outputs": [
    {
     "name": "stdout",
     "output_type": "stream",
     "text": [
      "question:\n",
      "What is your name?\n",
      "PEFT MODEL: samuel\n"
     ]
    }
   ],
   "source": [
    "prompt = \"What is your name?\"\n",
    "\n",
    "print(f'question:\\n{prompt}')\n",
    "print(f'PEFT MODEL: {insert_prompt(prompt)}')"
   ]
  },
  {
   "cell_type": "code",
   "execution_count": 24,
   "metadata": {},
   "outputs": [
    {
     "name": "stdout",
     "output_type": "stream",
     "text": [
      "question:\n",
      "Are you happy today?\n",
      "PEFT MODEL: I am happy\n"
     ]
    }
   ],
   "source": [
    "prompt = \"Are you happy today?\"\n",
    "\n",
    "print(f'question:\\n{prompt}')\n",
    "print(f'PEFT MODEL: {insert_prompt(prompt)}')"
   ]
  },
  {
   "cell_type": "code",
   "execution_count": 25,
   "metadata": {},
   "outputs": [
    {
     "name": "stdout",
     "output_type": "stream",
     "text": [
      "question:\n",
      "What is your favorite color?\n",
      "PEFT MODEL: blue\n"
     ]
    }
   ],
   "source": [
    "prompt = \"What is your favorite color?\"\n",
    "\n",
    "print(f'question:\\n{prompt}')\n",
    "print(f'PEFT MODEL: {insert_prompt(prompt)}')"
   ]
  },
  {
   "cell_type": "code",
   "execution_count": 26,
   "metadata": {},
   "outputs": [
    {
     "name": "stdout",
     "output_type": "stream",
     "text": [
      "question:\n",
      "Do you think it will rain in the afternoon?\n",
      "PEFT MODEL: It is not expected to rain\n"
     ]
    }
   ],
   "source": [
    "prompt = \"Do you think it will rain in the afternoon?\"\n",
    "\n",
    "print(f'question:\\n{prompt}')\n",
    "print(f'PEFT MODEL: {insert_prompt(prompt)}')"
   ]
  },
  {
   "cell_type": "code",
   "execution_count": 27,
   "metadata": {},
   "outputs": [
    {
     "name": "stdout",
     "output_type": "stream",
     "text": [
      "question:\n",
      "What is your dream?\n",
      "PEFT MODEL: i want to be a good singer\n"
     ]
    }
   ],
   "source": [
    "prompt = \"What is your dream?\"\n",
    "\n",
    "print(f'question:\\n{prompt}')\n",
    "print(f'PEFT MODEL: {insert_prompt(prompt)}')"
   ]
  },
  {
   "cell_type": "code",
   "execution_count": 28,
   "metadata": {},
   "outputs": [
    {
     "name": "stdout",
     "output_type": "stream",
     "text": [
      "question:\n",
      "What is the capital of California?\n",
      "PEFT MODEL: san francisco\n"
     ]
    }
   ],
   "source": [
    "prompt = \"What is the capital of California?\"\n",
    "\n",
    "print(f'question:\\n{prompt}')\n",
    "print(f'PEFT MODEL: {insert_prompt(prompt)}')"
   ]
  },
  {
   "cell_type": "code",
   "execution_count": 29,
   "metadata": {},
   "outputs": [
    {
     "name": "stdout",
     "output_type": "stream",
     "text": [
      "question:\n",
      "What is the capital of Italy?\n",
      "PEFT MODEL: rome\n"
     ]
    }
   ],
   "source": [
    "prompt = \"What is the capital of Italy?\"\n",
    "\n",
    "print(f'question:\\n{prompt}')\n",
    "print(f'PEFT MODEL: {insert_prompt(prompt)}')"
   ]
  },
  {
   "cell_type": "code",
   "execution_count": 30,
   "metadata": {},
   "outputs": [
    {
     "name": "stdout",
     "output_type": "stream",
     "text": [
      "question:\n",
      "When does summer begin?\n",
      "PEFT MODEL: summer\n"
     ]
    }
   ],
   "source": [
    "prompt = \"When does summer begin?\"\n",
    "\n",
    "print(f'question:\\n{prompt}')\n",
    "print(f'PEFT MODEL: {insert_prompt(prompt)}')"
   ]
  },
  {
   "cell_type": "code",
   "execution_count": 31,
   "metadata": {},
   "outputs": [
    {
     "name": "stdout",
     "output_type": "stream",
     "text": [
      "question:\n",
      "What is the best drink for a hangover?\n",
      "PEFT MODEL: a stout\n"
     ]
    }
   ],
   "source": [
    "prompt = \"What is the best drink for a hangover?\"\n",
    "\n",
    "print(f'question:\\n{prompt}')\n",
    "print(f'PEFT MODEL: {insert_prompt(prompt)}')"
   ]
  },
  {
   "cell_type": "code",
   "execution_count": 32,
   "metadata": {},
   "outputs": [
    {
     "name": "stdout",
     "output_type": "stream",
     "text": [
      "question:\n",
      "What is the probability that two apples will fall at the same time?\n",
      "PEFT MODEL: 1 / 2\n"
     ]
    }
   ],
   "source": [
    "prompt = \"What is the probability that two apples will fall at the same time?\"\n",
    "\n",
    "print(f'question:\\n{prompt}')\n",
    "print(f'PEFT MODEL: {insert_prompt(prompt)}')"
   ]
  },
  {
   "cell_type": "code",
   "execution_count": 33,
   "metadata": {},
   "outputs": [
    {
     "name": "stdout",
     "output_type": "stream",
     "text": [
      "question:\n",
      "Could you please recommend an American dish?\n",
      "PEFT MODEL: a burger\n"
     ]
    }
   ],
   "source": [
    "prompt = \"Could you please recommend an American dish?\"\n",
    "\n",
    "print(f'question:\\n{prompt}')\n",
    "print(f'PEFT MODEL: {insert_prompt(prompt)}')"
   ]
  },
  {
   "cell_type": "code",
   "execution_count": 34,
   "metadata": {},
   "outputs": [
    {
     "name": "stdout",
     "output_type": "stream",
     "text": [
      "question:\n",
      "Where would you go on vacation this summer?\n",
      "PEFT MODEL: san francisco\n"
     ]
    }
   ],
   "source": [
    "prompt = \"Where would you go on vacation this summer?\"\n",
    "\n",
    "print(f'question:\\n{prompt}')\n",
    "print(f'PEFT MODEL: {insert_prompt(prompt)}')"
   ]
  },
  {
   "cell_type": "code",
   "execution_count": 35,
   "metadata": {},
   "outputs": [
    {
     "name": "stdout",
     "output_type": "stream",
     "text": [
      "question:\n",
      "What is Buddhism?\n",
      "PEFT MODEL: Buddhism is a philosophy\n"
     ]
    }
   ],
   "source": [
    "prompt = \"What is Buddhism?\"\n",
    "\n",
    "print(f'question:\\n{prompt}')\n",
    "print(f'PEFT MODEL: {insert_prompt(prompt)}')"
   ]
  },
  {
   "cell_type": "code",
   "execution_count": 36,
   "metadata": {},
   "outputs": [
    {
     "name": "stdout",
     "output_type": "stream",
     "text": [
      "question:\n",
      "Could you suggest a person's name with C?\n",
      "PEFT MODEL: charlie c\n"
     ]
    }
   ],
   "source": [
    "prompt = \"Could you suggest a person's name with C?\"\n",
    "\n",
    "print(f'question:\\n{prompt}')\n",
    "print(f'PEFT MODEL: {insert_prompt(prompt)}')"
   ]
  },
  {
   "cell_type": "code",
   "execution_count": 37,
   "metadata": {},
   "outputs": [
    {
     "name": "stdout",
     "output_type": "stream",
     "text": [
      "question:\n",
      "Who is Chris Martin?\n",
      "PEFT MODEL: british actor\n"
     ]
    }
   ],
   "source": [
    "prompt = \"Who is Chris Martin?\"\n",
    "\n",
    "print(f'question:\\n{prompt}')\n",
    "print(f'PEFT MODEL: {insert_prompt(prompt)}')"
   ]
  },
  {
   "cell_type": "code",
   "execution_count": 38,
   "metadata": {},
   "outputs": [
    {
     "name": "stdout",
     "output_type": "stream",
     "text": [
      "question:\n",
      "When will next Easter be celebrated?\n",
      "PEFT MODEL: in the spring\n"
     ]
    }
   ],
   "source": [
    "prompt = \"When will next Easter be celebrated?\"\n",
    "\n",
    "print(f'question:\\n{prompt}')\n",
    "print(f'PEFT MODEL: {insert_prompt(prompt)}')"
   ]
  },
  {
   "cell_type": "code",
   "execution_count": 39,
   "metadata": {},
   "outputs": [
    {
     "name": "stdout",
     "output_type": "stream",
     "text": [
      "question:\n",
      "What is rosemary?\n",
      "PEFT MODEL: rosemary\n"
     ]
    }
   ],
   "source": [
    "prompt = \"What is rosemary?\"\n",
    "\n",
    "print(f'question:\\n{prompt}')\n",
    "print(f'PEFT MODEL: {insert_prompt(prompt)}')"
   ]
  },
  {
   "cell_type": "code",
   "execution_count": 40,
   "metadata": {},
   "outputs": [
    {
     "name": "stdout",
     "output_type": "stream",
     "text": [
      "question:\n",
      "What would you do in case of dehydration?\n",
      "PEFT MODEL: drink water\n"
     ]
    }
   ],
   "source": [
    "prompt = \"What would you do in case of dehydration?\"\n",
    "\n",
    "print(f'question:\\n{prompt}')\n",
    "print(f'PEFT MODEL: {insert_prompt(prompt)}')"
   ]
  }
 ],
 "metadata": {
  "colab": {
   "provenance": []
  },
  "kernelspec": {
   "display_name": "Python 3 (ipykernel)",
   "language": "python",
   "name": "python3"
  },
  "language_info": {
   "codemirror_mode": {
    "name": "ipython",
    "version": 3
   },
   "file_extension": ".py",
   "mimetype": "text/x-python",
   "name": "python",
   "nbconvert_exporter": "python",
   "pygments_lexer": "ipython3",
   "version": "3.9.13"
  }
 },
 "nbformat": 4,
 "nbformat_minor": 4
}
