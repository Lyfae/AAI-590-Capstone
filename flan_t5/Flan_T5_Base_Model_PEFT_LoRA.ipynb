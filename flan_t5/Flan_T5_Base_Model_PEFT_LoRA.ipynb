{
 "cells": [
  {
   "cell_type": "markdown",
   "metadata": {
    "id": "MraSKD2TzHvE"
   },
   "source": [
    "For this project, we adopted two different datasets, mentioned below."
   ]
  },
  {
   "cell_type": "markdown",
   "metadata": {
    "id": "BXPYmn_wa21i"
   },
   "source": [
    "ASL alphabet dataset : https://www.kaggle.com/datasets/grassknoted/asl-alphabet\n",
    "\n",
    "Chatbot dataset : https://www.kaggle.com/datasets/kreeshrajani/3k-conversations-dataset-for-chatbot"
   ]
  },
  {
   "cell_type": "code",
   "execution_count": 1,
   "metadata": {
    "id": "XgVKIyLB2f0U"
   },
   "outputs": [
    {
     "name": "stderr",
     "output_type": "stream",
     "text": [
      "c:\\Users\\Paul\\anaconda3\\envs\\torch\\lib\\site-packages\\tqdm\\auto.py:21: TqdmWarning: IProgress not found. Please update jupyter and ipywidgets. See https://ipywidgets.readthedocs.io/en/stable/user_install.html\n",
      "  from .autonotebook import tqdm as notebook_tqdm\n"
     ]
    }
   ],
   "source": [
    "import pandas as pd\n",
    "import matplotlib.pyplot as plt\n",
    "import seaborn as sns\n",
    "import numpy as np\n",
    "from collections import Counter\n",
    "import re\n",
    "from nltk.corpus import stopwords\n",
    "stop_words = set(stopwords.words('english'))\n",
    "import nltk\n",
    "from nltk.corpus import wordnet\n",
    "from nltk.stem import WordNetLemmatizer\n",
    "from sklearn.model_selection import train_test_split\n",
    "from datasets import Dataset\n",
    "from datasets import DatasetDict\n",
    "import torch\n",
    "from transformers import AutoModelForSeq2SeqLM, AutoTokenizer, GenerationConfig, TrainingArguments, Trainer\n",
    "from peft import LoraConfig, get_peft_model, TaskType\n",
    "from peft import PeftModel\n"
   ]
  },
  {
   "cell_type": "markdown",
   "metadata": {
    "id": "8EWU_b1dzHvF"
   },
   "source": [
    "## Chatbot Dataset - EDA and preprocessing"
   ]
  },
  {
   "cell_type": "code",
   "execution_count": 2,
   "metadata": {
    "id": "svun_FJdzHvF"
   },
   "outputs": [],
   "source": [
    "chatbot_df = pd.read_csv('Conversations_clean.csv')"
   ]
  },
  {
   "cell_type": "code",
   "execution_count": 3,
   "metadata": {
    "id": "newFd6gvzHvF",
    "outputId": "d612a537-39c4-4f7c-9eeb-367eca092f59"
   },
   "outputs": [
    {
     "data": {
      "text/html": [
       "<div>\n",
       "<style scoped>\n",
       "    .dataframe tbody tr th:only-of-type {\n",
       "        vertical-align: middle;\n",
       "    }\n",
       "\n",
       "    .dataframe tbody tr th {\n",
       "        vertical-align: top;\n",
       "    }\n",
       "\n",
       "    .dataframe thead th {\n",
       "        text-align: right;\n",
       "    }\n",
       "</style>\n",
       "<table border=\"1\" class=\"dataframe\">\n",
       "  <thead>\n",
       "    <tr style=\"text-align: right;\">\n",
       "      <th></th>\n",
       "      <th>question</th>\n",
       "      <th>answer</th>\n",
       "    </tr>\n",
       "  </thead>\n",
       "  <tbody>\n",
       "    <tr>\n",
       "      <th>0</th>\n",
       "      <td>hi, how are you doing?</td>\n",
       "      <td>i'm fine. how about yourself?</td>\n",
       "    </tr>\n",
       "    <tr>\n",
       "      <th>1</th>\n",
       "      <td>i'm fine. how about yourself?</td>\n",
       "      <td>i'm pretty good. thanks for asking.</td>\n",
       "    </tr>\n",
       "    <tr>\n",
       "      <th>2</th>\n",
       "      <td>i'm pretty good. thanks for asking.</td>\n",
       "      <td>no problem. so how have you been?</td>\n",
       "    </tr>\n",
       "    <tr>\n",
       "      <th>3</th>\n",
       "      <td>no problem. so how have you been?</td>\n",
       "      <td>i've been great. what about you?</td>\n",
       "    </tr>\n",
       "    <tr>\n",
       "      <th>4</th>\n",
       "      <td>i've been great. what about you?</td>\n",
       "      <td>i've been good. i'm in school right now.</td>\n",
       "    </tr>\n",
       "  </tbody>\n",
       "</table>\n",
       "</div>"
      ],
      "text/plain": [
       "                              question  \\\n",
       "0               hi, how are you doing?   \n",
       "1        i'm fine. how about yourself?   \n",
       "2  i'm pretty good. thanks for asking.   \n",
       "3    no problem. so how have you been?   \n",
       "4     i've been great. what about you?   \n",
       "\n",
       "                                     answer  \n",
       "0             i'm fine. how about yourself?  \n",
       "1       i'm pretty good. thanks for asking.  \n",
       "2         no problem. so how have you been?  \n",
       "3          i've been great. what about you?  \n",
       "4  i've been good. i'm in school right now.  "
      ]
     },
     "execution_count": 3,
     "metadata": {},
     "output_type": "execute_result"
    }
   ],
   "source": [
    "chatbot_df.head()"
   ]
  },
  {
   "cell_type": "code",
   "execution_count": 4,
   "metadata": {
    "id": "2Ob-nsBazHvF",
    "outputId": "787972b5-4faf-4c67-906b-d5c610483566"
   },
   "outputs": [
    {
     "data": {
      "text/plain": [
       "(3725, 2)"
      ]
     },
     "execution_count": 4,
     "metadata": {},
     "output_type": "execute_result"
    }
   ],
   "source": [
    "chatbot_df.shape"
   ]
  },
  {
   "cell_type": "markdown",
   "metadata": {
    "id": "KPUwy4thzHvF"
   },
   "source": [
    "#### EDA"
   ]
  },
  {
   "cell_type": "markdown",
   "metadata": {
    "id": "BltHnu6HzHvF"
   },
   "source": [
    "EDA was performed by following a similar procedure to the one described by Singh (n.d.).\n",
    "\n",
    "References:\n",
    "\n",
    "Singh, H. (n.d.). Complete Guide to EDA on Text Data. Kaggle. https://www.kaggle.com/code/harshsingh2209/complete-guide-to-eda-on-text-data"
   ]
  },
  {
   "cell_type": "code",
   "execution_count": 5,
   "metadata": {
    "id": "7ivx5yCjzHvG",
    "outputId": "14c75873-72dd-4112-f7fe-f279b23992e8"
   },
   "outputs": [
    {
     "data": {
      "image/png": "[encoded data removed]",
      "text/plain": [
       "<Figure size 640x480 with 4 Axes>"
      ]
     },
     "metadata": {},
     "output_type": "display_data"
    }
   ],
   "source": [
    "# Function to count the number of words in a sentence\n",
    "def count_words(text):\n",
    "    words = text.split() # extract the words from text\n",
    "    num_words = len(words) # count the number of words\n",
    "    return num_words\n",
    "\n",
    "# Function to count the number of characters in a sentence\n",
    "def count_characters(text):\n",
    "    num_char = len(text) # count the number of chatacters\n",
    "    return num_char\n",
    "\n",
    "num_words_question = chatbot_df['question'].apply(count_words)\n",
    "num_words_answer = chatbot_df['answer'].apply(count_words)\n",
    "num_char_question = chatbot_df['question'].apply(count_characters)\n",
    "num_char_answer = chatbot_df['answer'].apply(count_characters)\n",
    "\n",
    "plt.subplot(2, 2, 1)\n",
    "sns.boxplot(y = num_words_question)\n",
    "plt.ylabel('Words per Question')\n",
    "plt.subplot(2, 2, 2)\n",
    "sns.boxplot(y = num_words_answer)\n",
    "plt.ylabel('Words per Answer')\n",
    "plt.subplot(2, 2, 3)\n",
    "sns.boxplot(y = num_char_question)\n",
    "plt.ylabel('Characters per Question')\n",
    "plt.subplot(2, 2, 4)\n",
    "sns.boxplot(y = num_char_answer)\n",
    "plt.ylabel('Characters per Answer')\n",
    "plt.subplots_adjust(left = 0.1, bottom = 0.1, right = 0.9, top = 0.9, wspace = 0.4, hspace = 0.4)\n",
    "plt.show()"
   ]
  },
  {
   "cell_type": "code",
   "execution_count": 6,
   "metadata": {
    "id": "SrpqiEVkzHvG",
    "outputId": "f42473c4-be99-484f-a3fb-8414ea998b3d"
   },
   "outputs": [
    {
     "data": {
      "image/png": "[encoded data removed]",
      "text/plain": [
       "<Figure size 640x480 with 1 Axes>"
      ]
     },
     "metadata": {},
     "output_type": "display_data"
    },
    {
     "data": {
      "image/png": "[encoded data removed]",
      "text/plain": [
       "<Figure size 640x480 with 1 Axes>"
      ]
     },
     "metadata": {},
     "output_type": "display_data"
    }
   ],
   "source": [
    "# Identify the most frequent words in the question/answer columns\n",
    "\n",
    "# Function to get the list of words in a sentence\n",
    "def list_words(text):\n",
    "    words = text.split() # extract the words from text\n",
    "    return words\n",
    "\n",
    "# Function to get the top 20 most common words and their counts\n",
    "def words_freq(mostcommon):\n",
    "    words = []\n",
    "    counts = []\n",
    "    for word, count in mostcommon:\n",
    "        words.append(word)\n",
    "        counts.append(count)\n",
    "    return words, counts\n",
    "\n",
    "words_question = chatbot_df['question'].apply(list_words)\n",
    "words_answer = chatbot_df['answer'].apply(list_words)\n",
    "corpus_question = []\n",
    "for jj in range(len(words_question)):\n",
    "    corpus_question += words_question[jj] # all the words in all the questions\n",
    "corpus_answer = []\n",
    "for jj in range(len(words_answer)):\n",
    "    corpus_answer += words_answer[jj] # all the words in all the answers\n",
    "mostcommon_words_question = Counter(corpus_question).most_common(20) # 20 most common words in all the questions\n",
    "mostcommon_words_answer = Counter(corpus_answer).most_common(20) # 20 most common words in all the answers\n",
    "words_question, counts_question = words_freq(mostcommon_words_question) # top 20 most common words and their counts in questions\n",
    "words_answer, counts_answer = words_freq(mostcommon_words_answer) # top 20 most common words and their counts in answers\n",
    "\n",
    "sns.barplot(x = counts_question, y = words_question)\n",
    "plt.title('Top 20 most common words in questions')\n",
    "plt.show()\n",
    "\n",
    "sns.barplot(x = counts_answer, y = words_answer)\n",
    "plt.title('Top 20 most common words in answers')\n",
    "plt.show()"
   ]
  },
  {
   "cell_type": "markdown",
   "metadata": {
    "id": "13ml5Q_RzHvG"
   },
   "source": [
    "#### Preprocessing"
   ]
  },
  {
   "cell_type": "markdown",
   "metadata": {},
   "source": [
    "In order to replace contractions, we adopted the same procedure described in Replace apostrophe/short words in python (n.d.). \n",
    "\n",
    "References: \n",
    "\n",
    "Replace apostrophe/short words in python. (n.d.). Stack Overflow. Retrieved July 24, 2024, from https://owl.purdue.edu/owl/research_and_citation/apa_style/apa_formatting_and_style_guide/reference_list_electronic_sources.html"
   ]
  },
  {
   "cell_type": "code",
   "execution_count": 7,
   "metadata": {
    "id": "GMp8EaY8zHvG",
    "outputId": "328b6aa0-146a-431e-a319-9d1202adae05"
   },
   "outputs": [
    {
     "data": {
      "text/html": [
       "<div>\n",
       "<style scoped>\n",
       "    .dataframe tbody tr th:only-of-type {\n",
       "        vertical-align: middle;\n",
       "    }\n",
       "\n",
       "    .dataframe tbody tr th {\n",
       "        vertical-align: top;\n",
       "    }\n",
       "\n",
       "    .dataframe thead th {\n",
       "        text-align: right;\n",
       "    }\n",
       "</style>\n",
       "<table border=\"1\" class=\"dataframe\">\n",
       "  <thead>\n",
       "    <tr style=\"text-align: right;\">\n",
       "      <th></th>\n",
       "      <th>question</th>\n",
       "      <th>answer</th>\n",
       "    </tr>\n",
       "  </thead>\n",
       "  <tbody>\n",
       "    <tr>\n",
       "      <th>0</th>\n",
       "      <td>hi how are you doing</td>\n",
       "      <td>I am fine how about yourself</td>\n",
       "    </tr>\n",
       "    <tr>\n",
       "      <th>1</th>\n",
       "      <td>I am fine how about yourself</td>\n",
       "      <td>I am pretty good thanks for asking</td>\n",
       "    </tr>\n",
       "    <tr>\n",
       "      <th>2</th>\n",
       "      <td>I am pretty good thanks for asking</td>\n",
       "      <td>no problem so how have you been</td>\n",
       "    </tr>\n",
       "    <tr>\n",
       "      <th>3</th>\n",
       "      <td>no problem so how have you been</td>\n",
       "      <td>I have been great what about you</td>\n",
       "    </tr>\n",
       "    <tr>\n",
       "      <th>4</th>\n",
       "      <td>I have been great what about you</td>\n",
       "      <td>I have been good I am in school right now</td>\n",
       "    </tr>\n",
       "  </tbody>\n",
       "</table>\n",
       "</div>"
      ],
      "text/plain": [
       "                             question  \\\n",
       "0                hi how are you doing   \n",
       "1        I am fine how about yourself   \n",
       "2  I am pretty good thanks for asking   \n",
       "3     no problem so how have you been   \n",
       "4    I have been great what about you   \n",
       "\n",
       "                                      answer  \n",
       "0               I am fine how about yourself  \n",
       "1         I am pretty good thanks for asking  \n",
       "2            no problem so how have you been  \n",
       "3           I have been great what about you  \n",
       "4  I have been good I am in school right now  "
      ]
     },
     "execution_count": 7,
     "metadata": {},
     "output_type": "execute_result"
    }
   ],
   "source": [
    "# List of common contractions \n",
    "contractions = {\n",
    "\"ain't\": \"am not / are not\",\n",
    "\"aren't\": \"are not / am not\",\n",
    "\"can't\": \"cannot\",\n",
    "\"can't've\": \"cannot have\",\n",
    "\"'cause\": \"because\",\n",
    "\"could've\": \"could have\",\n",
    "\"couldn't\": \"could not\",\n",
    "\"couldn't've\": \"could not have\",\n",
    "\"didn't\": \"did not\",\n",
    "\"doesn't\": \"does not\",\n",
    "\"don't\": \"do not\",\n",
    "\"hadn't\": \"had not\",\n",
    "\"hadn't've\": \"had not have\",\n",
    "\"hasn't\": \"has not\",\n",
    "\"haven't\": \"have not\",\n",
    "\"he'd\": \"he had / he would\",\n",
    "\"he'd've\": \"he would have\",\n",
    "\"he'll\": \"he shall / he will\",\n",
    "\"he'll've\": \"he shall have / he will have\",\n",
    "\"he's\": \"he has / he is\",\n",
    "\"how'd\": \"how did\",\n",
    "\"how'd'y\": \"how do you\",\n",
    "\"how'll\": \"how will\",\n",
    "\"how's\": \"how has / how is\",\n",
    "\"i'd\": \"I had / I would\",\n",
    "\"i'd've\": \"I would have\",\n",
    "\"i'll\": \"I shall / I will\",\n",
    "\"i'll've\": \"I shall have / I will have\",\n",
    "\"i'm\": \"I am\",\n",
    "\"i've\": \"I have\",\n",
    "\"isn't\": \"is not\",\n",
    "\"it'd\": \"it had / it would\",\n",
    "\"it'd've\": \"it would have\",\n",
    "\"it'll\": \"it shall / it will\",\n",
    "\"it'll've\": \"it shall have / it will have\",\n",
    "\"it's\": \"it has / it is\",\n",
    "\"let's\": \"let us\",\n",
    "\"ma'am\": \"madam\",\n",
    "\"mayn't\": \"may not\",\n",
    "\"might've\": \"might have\",\n",
    "\"mightn't\": \"might not\",\n",
    "\"mightn't've\": \"might not have\",\n",
    "\"must've\": \"must have\",\n",
    "\"mustn't\": \"must not\",\n",
    "\"mustn't've\": \"must not have\",\n",
    "\"needn't\": \"need not\",\n",
    "\"needn't've\": \"need not have\",\n",
    "\"o'clock\": \"of the clock\",\n",
    "\"oughtn't\": \"ought not\",\n",
    "\"oughtn't've\": \"ought not have\",\n",
    "\"shan't\": \"shall not\",\n",
    "\"sha'n't\": \"shall not\",\n",
    "\"shan't've\": \"shall not have\",\n",
    "\"she'd\": \"she had / she would\",\n",
    "\"she'd've\": \"she would have\",\n",
    "\"she'll\": \"she shall / she will\",\n",
    "\"she'll've\": \"she shall have / she will have\",\n",
    "\"she's\": \"she has / she is\",\n",
    "\"should've\": \"should have\",\n",
    "\"shouldn't\": \"should not\",\n",
    "\"shouldn't've\": \"should not have\",\n",
    "\"so've\": \"so have\",\n",
    "\"so's\": \"so as / so is\",\n",
    "\"that'd\": \"that would / that had\",\n",
    "\"that'd've\": \"that would have\",\n",
    "\"that's\": \"that has / that is\",\n",
    "\"there'd\": \"there had / there would\",\n",
    "\"there'd've\": \"there would have\",\n",
    "\"there's\": \"there has / there is\",\n",
    "\"they'd\": \"they had / they would\",\n",
    "\"they'd've\": \"they would have\",\n",
    "\"they'll\": \"they shall / they will\",\n",
    "\"they'll've\": \"they shall have / they will have\",\n",
    "\"they're\": \"they are\",\n",
    "\"they've\": \"they have\",\n",
    "\"to've\": \"to have\",\n",
    "\"wasn't\": \"was not\",\n",
    "\"we'd\": \"we had / we would\",\n",
    "\"we'd've\": \"we would have\",\n",
    "\"we'll\": \"we will\",\n",
    "\"we'll've\": \"we will have\",\n",
    "\"we're\": \"we are\",\n",
    "\"we've\": \"we have\",\n",
    "\"weren't\": \"were not\",\n",
    "\"what'll\": \"what shall / what will\",\n",
    "\"what'll've\": \"what shall have / what will have\",\n",
    "\"what're\": \"what are\",\n",
    "\"what's\": \"what has / what is\",\n",
    "\"what've\": \"what have\",\n",
    "\"when's\": \"when has / when is\",\n",
    "\"when've\": \"when have\",\n",
    "\"where'd\": \"where did\",\n",
    "\"where's\": \"where has / where is\",\n",
    "\"where've\": \"where have\",\n",
    "\"who'll\": \"who shall / who will\",\n",
    "\"who'll've\": \"who shall have / who will have\",\n",
    "\"who's\": \"who has / who is\",\n",
    "\"who've\": \"who have\",\n",
    "\"why's\": \"why has / why is\",\n",
    "\"why've\": \"why have\",\n",
    "\"will've\": \"will have\",\n",
    "\"won't\": \"will not\",\n",
    "\"won't've\": \"will not have\",\n",
    "\"would've\": \"would have\",\n",
    "\"wouldn't\": \"would not\",\n",
    "\"wouldn't've\": \"would not have\",\n",
    "\"y'all\": \"you all\",\n",
    "\"y'all'd\": \"you all would\",\n",
    "\"y'all'd've\": \"you all would have\",\n",
    "\"y'all're\": \"you all are\",\n",
    "\"y'all've\": \"you all have\",\n",
    "\"you'd\": \"you had / you would\",\n",
    "\"you'd've\": \"you would have\",\n",
    "\"you'll\": \"you shall / you will\",\n",
    "\"you'll've\": \"you shall have / you will have\",\n",
    "\"you're\": \"you are\",\n",
    "\"you've\": \"you have\"\n",
    "}\n",
    "\n",
    "# Function to replace contractions, remove punctuation and apply lowercase\n",
    "def clear_text(text):\n",
    "    for word in text.split(): # remove contractions and apply lowercase\n",
    "        if word.lower() in contractions:\n",
    "            text = text.replace(word, contractions[word.lower()])\n",
    "    text = re.sub(r'[^\\w\\s]', '', text) # remove punctuation\n",
    "    return text\n",
    "\n",
    "chatbot_df['question'] = chatbot_df['question'].apply(clear_text)\n",
    "chatbot_df['answer'] = chatbot_df['answer'].apply(clear_text)\n",
    "chatbot_df.head()"
   ]
  },
  {
   "cell_type": "code",
   "execution_count": 8,
   "metadata": {
    "id": "DOCcNii2zHvG",
    "outputId": "df6bcf54-ba75-438d-e7d2-a07952e283eb"
   },
   "outputs": [
    {
     "data": {
      "text/html": [
       "<div>\n",
       "<style scoped>\n",
       "    .dataframe tbody tr th:only-of-type {\n",
       "        vertical-align: middle;\n",
       "    }\n",
       "\n",
       "    .dataframe tbody tr th {\n",
       "        vertical-align: top;\n",
       "    }\n",
       "\n",
       "    .dataframe thead th {\n",
       "        text-align: right;\n",
       "    }\n",
       "</style>\n",
       "<table border=\"1\" class=\"dataframe\">\n",
       "  <thead>\n",
       "    <tr style=\"text-align: right;\">\n",
       "      <th></th>\n",
       "      <th>question</th>\n",
       "      <th>answer</th>\n",
       "      <th>token_question</th>\n",
       "      <th>token_answer</th>\n",
       "    </tr>\n",
       "  </thead>\n",
       "  <tbody>\n",
       "    <tr>\n",
       "      <th>0</th>\n",
       "      <td>hi how are you doing</td>\n",
       "      <td>I am fine how about yourself</td>\n",
       "      <td>[hi, how, are, you, doing]</td>\n",
       "      <td>[I, am, fine, how, about, yourself]</td>\n",
       "    </tr>\n",
       "    <tr>\n",
       "      <th>1</th>\n",
       "      <td>I am fine how about yourself</td>\n",
       "      <td>I am pretty good thanks for asking</td>\n",
       "      <td>[I, am, fine, how, about, yourself]</td>\n",
       "      <td>[I, am, pretty, good, thanks, for, asking]</td>\n",
       "    </tr>\n",
       "    <tr>\n",
       "      <th>2</th>\n",
       "      <td>I am pretty good thanks for asking</td>\n",
       "      <td>no problem so how have you been</td>\n",
       "      <td>[I, am, pretty, good, thanks, for, asking]</td>\n",
       "      <td>[no, problem, so, how, have, you, been]</td>\n",
       "    </tr>\n",
       "    <tr>\n",
       "      <th>3</th>\n",
       "      <td>no problem so how have you been</td>\n",
       "      <td>I have been great what about you</td>\n",
       "      <td>[no, problem, so, how, have, you, been]</td>\n",
       "      <td>[I, have, been, great, what, about, you]</td>\n",
       "    </tr>\n",
       "    <tr>\n",
       "      <th>4</th>\n",
       "      <td>I have been great what about you</td>\n",
       "      <td>I have been good I am in school right now</td>\n",
       "      <td>[I, have, been, great, what, about, you]</td>\n",
       "      <td>[I, have, been, good, I, am, in, school, right...</td>\n",
       "    </tr>\n",
       "  </tbody>\n",
       "</table>\n",
       "</div>"
      ],
      "text/plain": [
       "                             question  \\\n",
       "0                hi how are you doing   \n",
       "1        I am fine how about yourself   \n",
       "2  I am pretty good thanks for asking   \n",
       "3     no problem so how have you been   \n",
       "4    I have been great what about you   \n",
       "\n",
       "                                      answer  \\\n",
       "0               I am fine how about yourself   \n",
       "1         I am pretty good thanks for asking   \n",
       "2            no problem so how have you been   \n",
       "3           I have been great what about you   \n",
       "4  I have been good I am in school right now   \n",
       "\n",
       "                               token_question  \\\n",
       "0                  [hi, how, are, you, doing]   \n",
       "1         [I, am, fine, how, about, yourself]   \n",
       "2  [I, am, pretty, good, thanks, for, asking]   \n",
       "3     [no, problem, so, how, have, you, been]   \n",
       "4    [I, have, been, great, what, about, you]   \n",
       "\n",
       "                                        token_answer  \n",
       "0                [I, am, fine, how, about, yourself]  \n",
       "1         [I, am, pretty, good, thanks, for, asking]  \n",
       "2            [no, problem, so, how, have, you, been]  \n",
       "3           [I, have, been, great, what, about, you]  \n",
       "4  [I, have, been, good, I, am, in, school, right...  "
      ]
     },
     "execution_count": 8,
     "metadata": {},
     "output_type": "execute_result"
    }
   ],
   "source": [
    "# Tokenization\n",
    "chatbot_df['token_question'] = chatbot_df['question'].apply(nltk.word_tokenize)\n",
    "chatbot_df['token_answer'] = chatbot_df['answer'].apply(nltk.word_tokenize)\n",
    "chatbot_df.head()"
   ]
  },
  {
   "cell_type": "code",
   "execution_count": 9,
   "metadata": {
    "id": "5vP4gdpozHvG",
    "outputId": "2640e919-2bed-4133-efdb-b5260f67d224"
   },
   "outputs": [
    {
     "data": {
      "text/html": [
       "<div>\n",
       "<style scoped>\n",
       "    .dataframe tbody tr th:only-of-type {\n",
       "        vertical-align: middle;\n",
       "    }\n",
       "\n",
       "    .dataframe tbody tr th {\n",
       "        vertical-align: top;\n",
       "    }\n",
       "\n",
       "    .dataframe thead th {\n",
       "        text-align: right;\n",
       "    }\n",
       "</style>\n",
       "<table border=\"1\" class=\"dataframe\">\n",
       "  <thead>\n",
       "    <tr style=\"text-align: right;\">\n",
       "      <th></th>\n",
       "      <th>question</th>\n",
       "      <th>answer</th>\n",
       "      <th>token_question</th>\n",
       "      <th>token_answer</th>\n",
       "      <th>lem_question</th>\n",
       "      <th>lem_answer</th>\n",
       "    </tr>\n",
       "  </thead>\n",
       "  <tbody>\n",
       "    <tr>\n",
       "      <th>0</th>\n",
       "      <td>hi how are you doing</td>\n",
       "      <td>I am fine how about yourself</td>\n",
       "      <td>[hi, how, are, you, doing]</td>\n",
       "      <td>[I, am, fine, how, about, yourself]</td>\n",
       "      <td>[hi, how, be, you, do]</td>\n",
       "      <td>[I, be, fine, how, about, yourself]</td>\n",
       "    </tr>\n",
       "    <tr>\n",
       "      <th>1</th>\n",
       "      <td>I am fine how about yourself</td>\n",
       "      <td>I am pretty good thanks for asking</td>\n",
       "      <td>[I, am, fine, how, about, yourself]</td>\n",
       "      <td>[I, am, pretty, good, thanks, for, asking]</td>\n",
       "      <td>[I, be, fine, how, about, yourself]</td>\n",
       "      <td>[I, be, pretty, good, thanks, for, ask]</td>\n",
       "    </tr>\n",
       "    <tr>\n",
       "      <th>2</th>\n",
       "      <td>I am pretty good thanks for asking</td>\n",
       "      <td>no problem so how have you been</td>\n",
       "      <td>[I, am, pretty, good, thanks, for, asking]</td>\n",
       "      <td>[no, problem, so, how, have, you, been]</td>\n",
       "      <td>[I, be, pretty, good, thanks, for, ask]</td>\n",
       "      <td>[no, problem, so, how, have, you, be]</td>\n",
       "    </tr>\n",
       "    <tr>\n",
       "      <th>3</th>\n",
       "      <td>no problem so how have you been</td>\n",
       "      <td>I have been great what about you</td>\n",
       "      <td>[no, problem, so, how, have, you, been]</td>\n",
       "      <td>[I, have, been, great, what, about, you]</td>\n",
       "      <td>[no, problem, so, how, have, you, be]</td>\n",
       "      <td>[I, have, be, great, what, about, you]</td>\n",
       "    </tr>\n",
       "    <tr>\n",
       "      <th>4</th>\n",
       "      <td>I have been great what about you</td>\n",
       "      <td>I have been good I am in school right now</td>\n",
       "      <td>[I, have, been, great, what, about, you]</td>\n",
       "      <td>[I, have, been, good, I, am, in, school, right...</td>\n",
       "      <td>[I, have, be, great, what, about, you]</td>\n",
       "      <td>[I, have, be, good, I, be, in, school, right, ...</td>\n",
       "    </tr>\n",
       "  </tbody>\n",
       "</table>\n",
       "</div>"
      ],
      "text/plain": [
       "                             question  \\\n",
       "0                hi how are you doing   \n",
       "1        I am fine how about yourself   \n",
       "2  I am pretty good thanks for asking   \n",
       "3     no problem so how have you been   \n",
       "4    I have been great what about you   \n",
       "\n",
       "                                      answer  \\\n",
       "0               I am fine how about yourself   \n",
       "1         I am pretty good thanks for asking   \n",
       "2            no problem so how have you been   \n",
       "3           I have been great what about you   \n",
       "4  I have been good I am in school right now   \n",
       "\n",
       "                               token_question  \\\n",
       "0                  [hi, how, are, you, doing]   \n",
       "1         [I, am, fine, how, about, yourself]   \n",
       "2  [I, am, pretty, good, thanks, for, asking]   \n",
       "3     [no, problem, so, how, have, you, been]   \n",
       "4    [I, have, been, great, what, about, you]   \n",
       "\n",
       "                                        token_answer  \\\n",
       "0                [I, am, fine, how, about, yourself]   \n",
       "1         [I, am, pretty, good, thanks, for, asking]   \n",
       "2            [no, problem, so, how, have, you, been]   \n",
       "3           [I, have, been, great, what, about, you]   \n",
       "4  [I, have, been, good, I, am, in, school, right...   \n",
       "\n",
       "                              lem_question  \\\n",
       "0                   [hi, how, be, you, do]   \n",
       "1      [I, be, fine, how, about, yourself]   \n",
       "2  [I, be, pretty, good, thanks, for, ask]   \n",
       "3    [no, problem, so, how, have, you, be]   \n",
       "4   [I, have, be, great, what, about, you]   \n",
       "\n",
       "                                          lem_answer  \n",
       "0                [I, be, fine, how, about, yourself]  \n",
       "1            [I, be, pretty, good, thanks, for, ask]  \n",
       "2              [no, problem, so, how, have, you, be]  \n",
       "3             [I, have, be, great, what, about, you]  \n",
       "4  [I, have, be, good, I, be, in, school, right, ...  "
      ]
     },
     "execution_count": 9,
     "metadata": {},
     "output_type": "execute_result"
    }
   ],
   "source": [
    "# Lemmatization\n",
    "\n",
    "# Function to obtain the right positional tagging prior to lemmatization\n",
    "# Same function presented in Python – Lemmatization Approaches with Examples (n.d.)\n",
    "def right_pos_tagging(tag):\n",
    "    if tag.startswith('J'):\n",
    "        return wordnet.ADJ\n",
    "    elif tag.startswith('V'):\n",
    "        return wordnet.VERB\n",
    "    elif tag.startswith('N'):\n",
    "        return wordnet.NOUN\n",
    "    elif tag.startswith('R'):\n",
    "        return wordnet.ADV\n",
    "    else:\n",
    "        return None\n",
    "\n",
    "# Obtain the right positional tagging prior to lemmatization\n",
    "# Positional tags were modified as suggested by Python – Lemmatization Approaches with Examples (n.d.)\n",
    "\n",
    "tokens = chatbot_df['token_question']\n",
    "new_tag_tokens = []\n",
    "for jj in range(len(tokens)):\n",
    "    tokens_jj = tokens[jj] # tokens at the jjth row\n",
    "    tag_tokens_jj = nltk.pos_tag(tokens_jj) # POS tags for the generic tokens_jj\n",
    "    new_tag_tokens.append(list(map(lambda x: (x[0], right_pos_tagging(x[1])), tag_tokens_jj))) # modified POS tags for the generic tokens_jj (as Python – Lemmatization Approaches with Examples, n.d.)\n",
    "tagged_token_question = new_tag_tokens\n",
    "\n",
    "tokens = chatbot_df['token_answer']\n",
    "new_tag_tokens = []\n",
    "for jj in range(len(tokens)):\n",
    "    tokens_jj = tokens[jj] # tokens at the jjth row\n",
    "    tag_tokens_jj = nltk.pos_tag(tokens_jj) # POS tags for the generic tokens_jj\n",
    "    new_tag_tokens.append(list(map(lambda x: (x[0], right_pos_tagging(x[1])), tag_tokens_jj))) # modified POS tags for the generic tokens_jj (as Python – Lemmatization Approaches with Examples, n.d.)\n",
    "tagged_token_answer = new_tag_tokens\n",
    "\n",
    "# Implement lemmatization on the tokens\n",
    "# A procedure similar to the one described in Python – Lemmatization Approaches with Examples (n.d.) and by Kumar (2021) was applied\n",
    "\n",
    "wnl = WordNetLemmatizer()\n",
    "Lemmatization = []\n",
    "for jj in range(len(tagged_token_question)):\n",
    "    lemmatized_question = []\n",
    "# Same lines of codes used in Python – Lemmatization Approaches with Examples (n.d.)\n",
    "    for word, tag in tagged_token_question[jj]:\n",
    "        if tag is None:\n",
    "            lemmatized_question.append(word)\n",
    "        else:\n",
    "            lemmatized_question.append(wnl.lemmatize(word, tag))\n",
    "    Lemmatization.append(lemmatized_question)\n",
    "chatbot_df['lem_question'] = Lemmatization\n",
    "\n",
    "Lemmatization = []\n",
    "for jj in range(len(tagged_token_answer)):\n",
    "    lemmatized_answer = []\n",
    "# Same lines of codes used in Python – Lemmatization Approaches with Examples (n.d.)\n",
    "    for word, tag in tagged_token_answer[jj]:\n",
    "        if tag is None:\n",
    "            lemmatized_answer.append(word)\n",
    "        else:\n",
    "            lemmatized_answer.append(wnl.lemmatize(word, tag))\n",
    "    Lemmatization.append(lemmatized_answer)\n",
    "chatbot_df['lem_answer'] = Lemmatization\n",
    "\n",
    "chatbot_df.head()\n",
    "\n",
    "# References\n",
    "# Kumar, R. (2021, August 6). Natural Language Processing | Text Preprocessing | Spacy vs NLTK. Medium. https://medium.com/nerd-for-tech/natural-language-processing-text-preprocessing-spacy-vs-nltk-b70b734f5560\n",
    "# Python – Lemmatization Approaches with Examples. (n.d.). Geeks for Geeks.  https://www.geeksforgeeks.org/python-lemmatization-approaches-with-examples/"
   ]
  },
  {
   "cell_type": "markdown",
   "metadata": {},
   "source": [
    "## T5 Fine Tuning"
   ]
  },
  {
   "cell_type": "markdown",
   "metadata": {},
   "source": [
    "This section was created based on a combination of the following references.\n",
    "\n",
    "References: \n",
    "https://www.kaggle.com/code/ajinkyabhandare2002/fine-tune-flan-t5-base-for-chat-with-peft-lora"
   ]
  },
  {
   "cell_type": "markdown",
   "metadata": {},
   "source": [
    "#### Import tokenizer and model"
   ]
  },
  {
   "cell_type": "code",
   "execution_count": 10,
   "metadata": {},
   "outputs": [],
   "source": [
    "model_name = 'google/flan-t5-base'\n",
    "model = AutoModelForSeq2SeqLM.from_pretrained(model_name, torch_dtype = torch.bfloat16)\n",
    "tokenizer = AutoTokenizer.from_pretrained(model_name)"
   ]
  },
  {
   "cell_type": "code",
   "execution_count": 11,
   "metadata": {},
   "outputs": [
    {
     "name": "stdout",
     "output_type": "stream",
     "text": [
      "trainable model parameters: 247577856\n",
      "all model parameters: 247577856\n",
      "percentage of trainable model parameters: 100.00%\n"
     ]
    }
   ],
   "source": [
    "# Check number of parameters to train\n",
    "def model_parameters(model):\n",
    "    trainable_model_params = 0\n",
    "    all_model_params = 0\n",
    "    for _, param in model.named_parameters():\n",
    "        all_model_params += param.numel()\n",
    "        if param.requires_grad:\n",
    "            trainable_model_params += param.numel()\n",
    "    return f\"trainable model parameters: {trainable_model_params}\\nall model parameters: {all_model_params}\\npercentage of trainable model parameters: {100 * trainable_model_params / all_model_params:.2f}%\"\n",
    "\n",
    "print(model_parameters(model))"
   ]
  },
  {
   "cell_type": "markdown",
   "metadata": {},
   "source": [
    "### Preprocess Data for Retrain"
   ]
  },
  {
   "cell_type": "code",
   "execution_count": 12,
   "metadata": {},
   "outputs": [],
   "source": [
    "chatbot_df=chatbot_df.drop(columns=['token_question','token_answer','lem_question','lem_answer'])"
   ]
  },
  {
   "cell_type": "code",
   "execution_count": 13,
   "metadata": {},
   "outputs": [],
   "source": [
    "train_data, temp_data = train_test_split(chatbot_df, test_size=0.2, random_state=42)\n",
    "val_data, test_data = train_test_split(temp_data, test_size=0.5, random_state=42)\n",
    "train_dataset = Dataset.from_pandas(train_data)\n",
    "val_dataset = Dataset.from_pandas(val_data)\n",
    "test_dataset = Dataset.from_pandas(test_data)"
   ]
  },
  {
   "cell_type": "code",
   "execution_count": 14,
   "metadata": {},
   "outputs": [],
   "source": [
    "from datasets import DatasetDict\n",
    "working_dataset = DatasetDict({\n",
    "    \"train\": train_dataset,\n",
    "    \"validation\": val_dataset,\n",
    "    \"test\": test_dataset,\n",
    "})"
   ]
  },
  {
   "cell_type": "code",
   "execution_count": 15,
   "metadata": {},
   "outputs": [
    {
     "data": {
      "text/plain": [
       "DatasetDict({\n",
       "    train: Dataset({\n",
       "        features: ['question', 'answer', '__index_level_0__'],\n",
       "        num_rows: 2980\n",
       "    })\n",
       "    validation: Dataset({\n",
       "        features: ['question', 'answer', '__index_level_0__'],\n",
       "        num_rows: 372\n",
       "    })\n",
       "    test: Dataset({\n",
       "        features: ['question', 'answer', '__index_level_0__'],\n",
       "        num_rows: 373\n",
       "    })\n",
       "})"
      ]
     },
     "execution_count": 15,
     "metadata": {},
     "output_type": "execute_result"
    }
   ],
   "source": [
    "working_dataset"
   ]
  },
  {
   "cell_type": "code",
   "execution_count": 16,
   "metadata": {},
   "outputs": [
    {
     "data": {
      "text/plain": [
       "DatasetDict({\n",
       "    train: Dataset({\n",
       "        features: ['question', 'answer'],\n",
       "        num_rows: 2980\n",
       "    })\n",
       "    validation: Dataset({\n",
       "        features: ['question', 'answer'],\n",
       "        num_rows: 372\n",
       "    })\n",
       "    test: Dataset({\n",
       "        features: ['question', 'answer'],\n",
       "        num_rows: 373\n",
       "    })\n",
       "})"
      ]
     },
     "execution_count": 16,
     "metadata": {},
     "output_type": "execute_result"
    }
   ],
   "source": [
    "working_dataset[\"train\"] = working_dataset[\"train\"].remove_columns(\"__index_level_0__\")\n",
    "working_dataset[\"validation\"] = working_dataset[\"validation\"].remove_columns(\"__index_level_0__\")\n",
    "working_dataset[\"test\"] = working_dataset[\"test\"].remove_columns(\"__index_level_0__\")\n",
    "working_dataset"
   ]
  },
  {
   "cell_type": "code",
   "execution_count": 17,
   "metadata": {},
   "outputs": [
    {
     "name": "stderr",
     "output_type": "stream",
     "text": [
      "Map: 100%|██████████| 2980/2980 [00:00<00:00, 5327.93 examples/s]\n",
      "Map: 100%|██████████| 372/372 [00:00<00:00, 6009.08 examples/s]\n",
      "Map: 100%|██████████| 373/373 [00:00<00:00, 6893.48 examples/s]\n"
     ]
    }
   ],
   "source": [
    "def tokenize_function(example):\n",
    "    # start_prompt = 'Answer the following question.\\n\\n'\n",
    "    # end_prompt = '\\n\\nSummary: '\n",
    "    # prompt = [start_prompt + question + end_prompt for question in example[\"question\"]]\n",
    "    example['input_ids'] = tokenizer(example['question'], padding='max_length', truncation=True, return_tensors=\"pt\").input_ids\n",
    "    example['labels'] = tokenizer(example[\"answer\"], padding='max_length', truncation=True, return_tensors=\"pt\").input_ids\n",
    "\n",
    "    return example\n",
    "\n",
    "# The dataset actually contains 3 diff splits: train, validation, test.\n",
    "# The tokenize_function code is handling all data across all splits in batches.\n",
    "tokenized_datasets = working_dataset.map(tokenize_function, batched=True)\n",
    "tokenized_datasets = tokenized_datasets.remove_columns(['question', 'answer'])"
   ]
  },
  {
   "cell_type": "code",
   "execution_count": 18,
   "metadata": {},
   "outputs": [
    {
     "data": {
      "text/plain": [
       "DatasetDict({\n",
       "    train: Dataset({\n",
       "        features: ['input_ids', 'labels'],\n",
       "        num_rows: 2980\n",
       "    })\n",
       "    validation: Dataset({\n",
       "        features: ['input_ids', 'labels'],\n",
       "        num_rows: 372\n",
       "    })\n",
       "    test: Dataset({\n",
       "        features: ['input_ids', 'labels'],\n",
       "        num_rows: 373\n",
       "    })\n",
       "})"
      ]
     },
     "execution_count": 18,
     "metadata": {},
     "output_type": "execute_result"
    }
   ],
   "source": [
    "tokenized_datasets"
   ]
  },
  {
   "cell_type": "code",
   "execution_count": 19,
   "metadata": {},
   "outputs": [
    {
     "name": "stdout",
     "output_type": "stream",
     "text": [
      "Shapes of the datasets:\n",
      "Dataset: {'train': (2980, 2), 'validation': (372, 2), 'test': (373, 2)}\n",
      "DatasetDict({\n",
      "    train: Dataset({\n",
      "        features: ['input_ids', 'labels'],\n",
      "        num_rows: 2980\n",
      "    })\n",
      "    validation: Dataset({\n",
      "        features: ['input_ids', 'labels'],\n",
      "        num_rows: 372\n",
      "    })\n",
      "    test: Dataset({\n",
      "        features: ['input_ids', 'labels'],\n",
      "        num_rows: 373\n",
      "    })\n",
      "})\n"
     ]
    }
   ],
   "source": [
    "print(f\"Shapes of the datasets:\")\n",
    "print(f\"Dataset: {tokenized_datasets.shape}\")\n",
    "print(tokenized_datasets)"
   ]
  },
  {
   "cell_type": "markdown",
   "metadata": {},
   "source": [
    "#### Setup the PEFT/LoRA model for Fine-Tuning"
   ]
  },
  {
   "cell_type": "code",
   "execution_count": 20,
   "metadata": {},
   "outputs": [],
   "source": [
    "lora_config = LoraConfig(\n",
    "    r=8, # Rank\n",
    "    lora_alpha=8,\n",
    "    target_modules=[\"q\", \"v\"],\n",
    "    lora_dropout=0.05,\n",
    "    bias=\"none\",\n",
    "    task_type=TaskType.SEQ_2_SEQ_LM # FLAN-T5\n",
    ")"
   ]
  },
  {
   "cell_type": "markdown",
   "metadata": {},
   "source": [
    "#### Add LoRA adapter layers/prameters to the LLM model to be trained"
   ]
  },
  {
   "cell_type": "code",
   "execution_count": 21,
   "metadata": {},
   "outputs": [
    {
     "name": "stdout",
     "output_type": "stream",
     "text": [
      "bin c:\\Users\\Paul\\anaconda3\\envs\\torch\\lib\\site-packages\\bitsandbytes\\libbitsandbytes_cuda118.dll\n",
      "trainable model parameters: 884736\n",
      "all model parameters: 248462592\n",
      "percentage of trainable model parameters: 0.36%\n"
     ]
    }
   ],
   "source": [
    "peft_model = get_peft_model(model, lora_config)\n",
    "print(model_parameters(peft_model))"
   ]
  },
  {
   "cell_type": "markdown",
   "metadata": {},
   "source": [
    "#### Train PEFT Adapter"
   ]
  },
  {
   "cell_type": "code",
   "execution_count": 22,
   "metadata": {},
   "outputs": [
    {
     "name": "stderr",
     "output_type": "stream",
     "text": [
      "c:\\Users\\Paul\\anaconda3\\envs\\torch\\lib\\site-packages\\transformers\\training_args.py:1525: FutureWarning: `evaluation_strategy` is deprecated and will be removed in version 4.46 of 🤗 Transformers. Use `eval_strategy` instead\n",
      "  warnings.warn(\n"
     ]
    }
   ],
   "source": [
    "# Define Trianing Arguements\n",
    "output_dir = f'./peft-conversation-training'\n",
    "\n",
    "peft_training_args = TrainingArguments(\n",
    "    output_dir=output_dir,\n",
    "    auto_find_batch_size=True,\n",
    "    learning_rate=1e-3, # Higher learning rate than full fine-tuning.\n",
    "    num_train_epochs=5,\n",
    "    save_steps=100,\n",
    "    save_strategy='steps',\n",
    "    evaluation_strategy='steps',\n",
    "    eval_steps=10,\n",
    ")\n",
    "\n",
    "peft_trainer = Trainer(\n",
    "    model=peft_model,\n",
    "    args=peft_training_args,\n",
    "    train_dataset=tokenized_datasets[\"train\"],\n",
    "    eval_dataset = tokenized_datasets['validation']\n",
    ")"
   ]
  },
  {
   "cell_type": "markdown",
   "metadata": {},
   "source": [
    "#### Train the model"
   ]
  },
  {
   "cell_type": "code",
   "execution_count": 23,
   "metadata": {},
   "outputs": [
    {
     "name": "stderr",
     "output_type": "stream",
     "text": [
      "  1%|          | 10/1865 [00:02<05:55,  5.21it/s]\n",
      "  1%|          | 11/1865 [00:05<35:46,  1.16s/it]"
     ]
    },
    {
     "name": "stdout",
     "output_type": "stream",
     "text": [
      "{'eval_loss': 30.860214233398438, 'eval_runtime': 3.1556, 'eval_samples_per_second': 117.886, 'eval_steps_per_second': 14.894, 'epoch': 0.03}\n"
     ]
    },
    {
     "name": "stderr",
     "output_type": "stream",
     "text": [
      "                                                 \n",
      "  1%|          | 21/1865 [00:11<39:59,  1.30s/it]"
     ]
    },
    {
     "name": "stdout",
     "output_type": "stream",
     "text": [
      "{'eval_loss': 14.452284812927246, 'eval_runtime': 3.6103, 'eval_samples_per_second': 103.039, 'eval_steps_per_second': 13.018, 'epoch': 0.05}\n"
     ]
    },
    {
     "name": "stderr",
     "output_type": "stream",
     "text": [
      "                                                 \n",
      "  2%|▏         | 31/1865 [00:16<35:48,  1.17s/it]"
     ]
    },
    {
     "name": "stdout",
     "output_type": "stream",
     "text": [
      "{'eval_loss': 4.510080814361572, 'eval_runtime': 3.1676, 'eval_samples_per_second': 117.44, 'eval_steps_per_second': 14.838, 'epoch': 0.08}\n"
     ]
    },
    {
     "name": "stderr",
     "output_type": "stream",
     "text": [
      "                                                 \n",
      "  2%|▏         | 41/1865 [00:21<35:20,  1.16s/it]"
     ]
    },
    {
     "name": "stdout",
     "output_type": "stream",
     "text": [
      "{'eval_loss': 4.096774101257324, 'eval_runtime': 3.1505, 'eval_samples_per_second': 118.075, 'eval_steps_per_second': 14.918, 'epoch': 0.11}\n"
     ]
    },
    {
     "name": "stderr",
     "output_type": "stream",
     "text": [
      "                                                 \n",
      "  3%|▎         | 51/1865 [00:26<35:10,  1.16s/it]"
     ]
    },
    {
     "name": "stdout",
     "output_type": "stream",
     "text": [
      "{'eval_loss': 2.7189180850982666, 'eval_runtime': 3.1536, 'eval_samples_per_second': 117.962, 'eval_steps_per_second': 14.904, 'epoch': 0.13}\n"
     ]
    },
    {
     "name": "stderr",
     "output_type": "stream",
     "text": [
      "                                                 \n",
      "  3%|▎         | 61/1865 [00:31<38:45,  1.29s/it]"
     ]
    },
    {
     "name": "stdout",
     "output_type": "stream",
     "text": [
      "{'eval_loss': 1.0347782373428345, 'eval_runtime': 3.5698, 'eval_samples_per_second': 104.208, 'eval_steps_per_second': 13.166, 'epoch': 0.16}\n"
     ]
    },
    {
     "name": "stderr",
     "output_type": "stream",
     "text": [
      "                                                 \n",
      "  4%|▍         | 71/1865 [00:36<34:48,  1.16s/it]"
     ]
    },
    {
     "name": "stdout",
     "output_type": "stream",
     "text": [
      "{'eval_loss': 0.5599378347396851, 'eval_runtime': 3.1425, 'eval_samples_per_second': 118.377, 'eval_steps_per_second': 14.956, 'epoch': 0.19}\n"
     ]
    },
    {
     "name": "stderr",
     "output_type": "stream",
     "text": [
      "                                                 \n",
      "  4%|▍         | 81/1865 [00:41<34:31,  1.16s/it]"
     ]
    },
    {
     "name": "stdout",
     "output_type": "stream",
     "text": [
      "{'eval_loss': 0.33358535170555115, 'eval_runtime': 3.1468, 'eval_samples_per_second': 118.214, 'eval_steps_per_second': 14.936, 'epoch': 0.21}\n"
     ]
    },
    {
     "name": "stderr",
     "output_type": "stream",
     "text": [
      "                                                 \n",
      "  5%|▍         | 91/1865 [00:46<34:17,  1.16s/it]"
     ]
    },
    {
     "name": "stdout",
     "output_type": "stream",
     "text": [
      "{'eval_loss': 0.2514490783214569, 'eval_runtime': 3.1435, 'eval_samples_per_second': 118.34, 'eval_steps_per_second': 14.952, 'epoch': 0.24}\n"
     ]
    },
    {
     "name": "stderr",
     "output_type": "stream",
     "text": [
      "                                                  \n",
      "  5%|▌         | 100/1865 [00:51<06:41,  4.40it/s]"
     ]
    },
    {
     "name": "stdout",
     "output_type": "stream",
     "text": [
      "{'eval_loss': 0.1840347796678543, 'eval_runtime': 3.1439, 'eval_samples_per_second': 118.326, 'eval_steps_per_second': 14.95, 'epoch': 0.27}\n"
     ]
    },
    {
     "name": "stderr",
     "output_type": "stream",
     "text": [
      "                                                  \n",
      "  6%|▌         | 111/1865 [00:57<34:00,  1.16s/it]"
     ]
    },
    {
     "name": "stdout",
     "output_type": "stream",
     "text": [
      "{'eval_loss': 0.16665616631507874, 'eval_runtime': 3.1478, 'eval_samples_per_second': 118.177, 'eval_steps_per_second': 14.931, 'epoch': 0.29}\n"
     ]
    },
    {
     "name": "stderr",
     "output_type": "stream",
     "text": [
      "                                                  \n",
      "  6%|▋         | 121/1865 [01:02<33:37,  1.16s/it]"
     ]
    },
    {
     "name": "stdout",
     "output_type": "stream",
     "text": [
      "{'eval_loss': 0.1538243442773819, 'eval_runtime': 3.1331, 'eval_samples_per_second': 118.731, 'eval_steps_per_second': 15.001, 'epoch': 0.32}\n"
     ]
    },
    {
     "name": "stderr",
     "output_type": "stream",
     "text": [
      "                                                  \n",
      "  7%|▋         | 131/1865 [01:07<33:29,  1.16s/it]"
     ]
    },
    {
     "name": "stdout",
     "output_type": "stream",
     "text": [
      "{'eval_loss': 0.14440524578094482, 'eval_runtime': 3.1422, 'eval_samples_per_second': 118.39, 'eval_steps_per_second': 14.958, 'epoch': 0.35}\n"
     ]
    },
    {
     "name": "stderr",
     "output_type": "stream",
     "text": [
      "                                                  \n",
      "  8%|▊         | 141/1865 [01:12<33:15,  1.16s/it]"
     ]
    },
    {
     "name": "stdout",
     "output_type": "stream",
     "text": [
      "{'eval_loss': 0.13718077540397644, 'eval_runtime': 3.1381, 'eval_samples_per_second': 118.544, 'eval_steps_per_second': 14.977, 'epoch': 0.38}\n"
     ]
    },
    {
     "name": "stderr",
     "output_type": "stream",
     "text": [
      "                                                  \n",
      "  8%|▊         | 151/1865 [01:17<33:01,  1.16s/it]"
     ]
    },
    {
     "name": "stdout",
     "output_type": "stream",
     "text": [
      "{'eval_loss': 0.13080687820911407, 'eval_runtime': 3.1309, 'eval_samples_per_second': 118.817, 'eval_steps_per_second': 15.012, 'epoch': 0.4}\n"
     ]
    },
    {
     "name": "stderr",
     "output_type": "stream",
     "text": [
      "                                                  \n",
      "  9%|▊         | 161/1865 [01:22<32:56,  1.16s/it]"
     ]
    },
    {
     "name": "stdout",
     "output_type": "stream",
     "text": [
      "{'eval_loss': 0.1274886578321457, 'eval_runtime': 3.1428, 'eval_samples_per_second': 118.367, 'eval_steps_per_second': 14.955, 'epoch': 0.43}\n"
     ]
    },
    {
     "name": "stderr",
     "output_type": "stream",
     "text": [
      "                                                  \n",
      "  9%|▉         | 171/1865 [01:27<32:44,  1.16s/it]"
     ]
    },
    {
     "name": "stdout",
     "output_type": "stream",
     "text": [
      "{'eval_loss': 0.12263734638690948, 'eval_runtime': 3.1424, 'eval_samples_per_second': 118.381, 'eval_steps_per_second': 14.957, 'epoch': 0.46}\n"
     ]
    },
    {
     "name": "stderr",
     "output_type": "stream",
     "text": [
      "                                                  \n",
      " 10%|▉         | 180/1865 [01:32<06:22,  4.40it/s]"
     ]
    },
    {
     "name": "stdout",
     "output_type": "stream",
     "text": [
      "{'eval_loss': 0.11838982999324799, 'eval_runtime': 3.5633, 'eval_samples_per_second': 104.399, 'eval_steps_per_second': 13.19, 'epoch': 0.48}\n"
     ]
    },
    {
     "name": "stderr",
     "output_type": "stream",
     "text": [
      "                                                  \n",
      " 10%|█         | 191/1865 [01:37<32:24,  1.16s/it]"
     ]
    },
    {
     "name": "stdout",
     "output_type": "stream",
     "text": [
      "{'eval_loss': 0.11515036970376968, 'eval_runtime': 3.1372, 'eval_samples_per_second': 118.578, 'eval_steps_per_second': 14.982, 'epoch': 0.51}\n"
     ]
    },
    {
     "name": "stderr",
     "output_type": "stream",
     "text": [
      "                                                  \n",
      " 11%|█         | 200/1865 [01:42<06:17,  4.41it/s]"
     ]
    },
    {
     "name": "stdout",
     "output_type": "stream",
     "text": [
      "{'eval_loss': 0.11255670338869095, 'eval_runtime': 3.1597, 'eval_samples_per_second': 117.734, 'eval_steps_per_second': 14.875, 'epoch': 0.54}\n"
     ]
    },
    {
     "name": "stderr",
     "output_type": "stream",
     "text": [
      "                                                  \n",
      " 11%|█▏        | 210/1865 [01:47<06:20,  4.35it/s]"
     ]
    },
    {
     "name": "stdout",
     "output_type": "stream",
     "text": [
      "{'eval_loss': 0.10888146609067917, 'eval_runtime': 3.1586, 'eval_samples_per_second': 117.772, 'eval_steps_per_second': 14.88, 'epoch': 0.56}\n"
     ]
    },
    {
     "name": "stderr",
     "output_type": "stream",
     "text": [
      "                                                  \n",
      " 12%|█▏        | 221/1865 [01:53<31:43,  1.16s/it]"
     ]
    },
    {
     "name": "stdout",
     "output_type": "stream",
     "text": [
      "{'eval_loss': 0.10646631568670273, 'eval_runtime': 3.1392, 'eval_samples_per_second': 118.5, 'eval_steps_per_second': 14.972, 'epoch': 0.59}\n"
     ]
    },
    {
     "name": "stderr",
     "output_type": "stream",
     "text": [
      "                                                  \n",
      " 12%|█▏        | 231/1865 [01:58<31:26,  1.15s/it]"
     ]
    },
    {
     "name": "stdout",
     "output_type": "stream",
     "text": [
      "{'eval_loss': 0.1039881557226181, 'eval_runtime': 3.1258, 'eval_samples_per_second': 119.008, 'eval_steps_per_second': 15.036, 'epoch': 0.62}\n"
     ]
    },
    {
     "name": "stderr",
     "output_type": "stream",
     "text": [
      "                                                  \n",
      " 13%|█▎        | 241/1865 [02:03<31:19,  1.16s/it]"
     ]
    },
    {
     "name": "stdout",
     "output_type": "stream",
     "text": [
      "{'eval_loss': 0.10217154026031494, 'eval_runtime': 3.1362, 'eval_samples_per_second': 118.615, 'eval_steps_per_second': 14.986, 'epoch': 0.64}\n"
     ]
    },
    {
     "name": "stderr",
     "output_type": "stream",
     "text": [
      "                                                  \n",
      " 13%|█▎        | 251/1865 [02:08<31:09,  1.16s/it]"
     ]
    },
    {
     "name": "stdout",
     "output_type": "stream",
     "text": [
      "{'eval_loss': 0.0994623675942421, 'eval_runtime': 3.1405, 'eval_samples_per_second': 118.452, 'eval_steps_per_second': 14.966, 'epoch': 0.67}\n"
     ]
    },
    {
     "name": "stderr",
     "output_type": "stream",
     "text": [
      "                                                  \n",
      " 14%|█▍        | 261/1865 [02:13<31:00,  1.16s/it]"
     ]
    },
    {
     "name": "stdout",
     "output_type": "stream",
     "text": [
      "{'eval_loss': 0.09701045602560043, 'eval_runtime': 3.1432, 'eval_samples_per_second': 118.35, 'eval_steps_per_second': 14.953, 'epoch': 0.7}\n"
     ]
    },
    {
     "name": "stderr",
     "output_type": "stream",
     "text": [
      "                                                  \n",
      " 15%|█▍        | 271/1865 [02:18<30:54,  1.16s/it]"
     ]
    },
    {
     "name": "stdout",
     "output_type": "stream",
     "text": [
      "{'eval_loss': 0.09564012289047241, 'eval_runtime': 3.1535, 'eval_samples_per_second': 117.965, 'eval_steps_per_second': 14.904, 'epoch': 0.72}\n"
     ]
    },
    {
     "name": "stderr",
     "output_type": "stream",
     "text": [
      "                                                  \n",
      " 15%|█▌        | 281/1865 [02:23<30:37,  1.16s/it]"
     ]
    },
    {
     "name": "stdout",
     "output_type": "stream",
     "text": [
      "{'eval_loss': 0.09327221661806107, 'eval_runtime': 3.1428, 'eval_samples_per_second': 118.366, 'eval_steps_per_second': 14.955, 'epoch': 0.75}\n"
     ]
    },
    {
     "name": "stderr",
     "output_type": "stream",
     "text": [
      "                                                  \n",
      " 16%|█▌        | 291/1865 [02:28<30:27,  1.16s/it]"
     ]
    },
    {
     "name": "stdout",
     "output_type": "stream",
     "text": [
      "{'eval_loss': 0.09321446716785431, 'eval_runtime': 3.1481, 'eval_samples_per_second': 118.166, 'eval_steps_per_second': 14.93, 'epoch': 0.78}\n"
     ]
    },
    {
     "name": "stderr",
     "output_type": "stream",
     "text": [
      "                                                  \n",
      " 16%|█▌        | 300/1865 [02:33<05:55,  4.40it/s]"
     ]
    },
    {
     "name": "stdout",
     "output_type": "stream",
     "text": [
      "{'eval_loss': 0.09120358526706696, 'eval_runtime': 3.1441, 'eval_samples_per_second': 118.315, 'eval_steps_per_second': 14.948, 'epoch': 0.8}\n"
     ]
    },
    {
     "name": "stderr",
     "output_type": "stream",
     "text": [
      "                                                  \n",
      " 17%|█▋        | 311/1865 [02:38<30:07,  1.16s/it]"
     ]
    },
    {
     "name": "stdout",
     "output_type": "stream",
     "text": [
      "{'eval_loss': 0.08915070444345474, 'eval_runtime': 3.148, 'eval_samples_per_second': 118.169, 'eval_steps_per_second': 14.93, 'epoch': 0.83}\n"
     ]
    },
    {
     "name": "stderr",
     "output_type": "stream",
     "text": [
      "                                                  \n",
      " 17%|█▋        | 321/1865 [02:43<30:01,  1.17s/it]"
     ]
    },
    {
     "name": "stdout",
     "output_type": "stream",
     "text": [
      "{'eval_loss': 0.08911395072937012, 'eval_runtime': 3.1618, 'eval_samples_per_second': 117.656, 'eval_steps_per_second': 14.865, 'epoch': 0.86}\n"
     ]
    },
    {
     "name": "stderr",
     "output_type": "stream",
     "text": [
      "                                                  \n",
      " 18%|█▊        | 331/1865 [02:48<29:43,  1.16s/it]"
     ]
    },
    {
     "name": "stdout",
     "output_type": "stream",
     "text": [
      "{'eval_loss': 0.08748109638690948, 'eval_runtime': 3.1512, 'eval_samples_per_second': 118.052, 'eval_steps_per_second': 14.915, 'epoch': 0.88}\n"
     ]
    },
    {
     "name": "stderr",
     "output_type": "stream",
     "text": [
      "                                                  \n",
      " 18%|█▊        | 341/1865 [02:53<29:30,  1.16s/it]"
     ]
    },
    {
     "name": "stdout",
     "output_type": "stream",
     "text": [
      "{'eval_loss': 0.0862787738442421, 'eval_runtime': 3.1497, 'eval_samples_per_second': 118.105, 'eval_steps_per_second': 14.922, 'epoch': 0.91}\n"
     ]
    },
    {
     "name": "stderr",
     "output_type": "stream",
     "text": [
      "                                                  \n",
      " 19%|█▉        | 350/1865 [02:58<05:45,  4.39it/s]"
     ]
    },
    {
     "name": "stdout",
     "output_type": "stream",
     "text": [
      "{'eval_loss': 0.08584299683570862, 'eval_runtime': 3.1394, 'eval_samples_per_second': 118.494, 'eval_steps_per_second': 14.971, 'epoch': 0.94}\n"
     ]
    },
    {
     "name": "stderr",
     "output_type": "stream",
     "text": [
      "                                                  \n",
      " 19%|█▉        | 361/1865 [03:03<29:02,  1.16s/it]"
     ]
    },
    {
     "name": "stdout",
     "output_type": "stream",
     "text": [
      "{'eval_loss': 0.08338584005832672, 'eval_runtime': 3.139, 'eval_samples_per_second': 118.511, 'eval_steps_per_second': 14.973, 'epoch': 0.97}\n"
     ]
    },
    {
     "name": "stderr",
     "output_type": "stream",
     "text": [
      "                                                  \n",
      " 20%|█▉        | 370/1865 [03:08<05:39,  4.40it/s]"
     ]
    },
    {
     "name": "stdout",
     "output_type": "stream",
     "text": [
      "{'eval_loss': 0.08290805667638779, 'eval_runtime': 3.3862, 'eval_samples_per_second': 109.857, 'eval_steps_per_second': 13.88, 'epoch': 0.99}\n"
     ]
    },
    {
     "name": "stderr",
     "output_type": "stream",
     "text": [
      "                                                  \n",
      " 20%|██        | 381/1865 [03:14<31:50,  1.29s/it]"
     ]
    },
    {
     "name": "stdout",
     "output_type": "stream",
     "text": [
      "{'eval_loss': 0.08205749839544296, 'eval_runtime': 3.5065, 'eval_samples_per_second': 106.089, 'eval_steps_per_second': 13.404, 'epoch': 1.02}\n"
     ]
    },
    {
     "name": "stderr",
     "output_type": "stream",
     "text": [
      "                                                  \n",
      " 21%|██        | 391/1865 [03:19<28:32,  1.16s/it]"
     ]
    },
    {
     "name": "stdout",
     "output_type": "stream",
     "text": [
      "{'eval_loss': 0.08042464405298233, 'eval_runtime': 3.1366, 'eval_samples_per_second': 118.6, 'eval_steps_per_second': 14.984, 'epoch': 1.05}\n"
     ]
    },
    {
     "name": "stderr",
     "output_type": "stream",
     "text": [
      "                                                  \n",
      " 21%|██▏       | 400/1865 [03:24<05:31,  4.42it/s]"
     ]
    },
    {
     "name": "stdout",
     "output_type": "stream",
     "text": [
      "{'eval_loss': 0.07961084693670273, 'eval_runtime': 3.1192, 'eval_samples_per_second': 119.262, 'eval_steps_per_second': 15.068, 'epoch': 1.07}\n"
     ]
    },
    {
     "name": "stderr",
     "output_type": "stream",
     "text": [
      "                                                  \n",
      " 22%|██▏       | 410/1865 [03:29<05:32,  4.37it/s]"
     ]
    },
    {
     "name": "stdout",
     "output_type": "stream",
     "text": [
      "{'eval_loss': 0.0802408829331398, 'eval_runtime': 3.0914, 'eval_samples_per_second': 120.335, 'eval_steps_per_second': 15.204, 'epoch': 1.1}\n"
     ]
    },
    {
     "name": "stderr",
     "output_type": "stream",
     "text": [
      "                                                  \n",
      " 23%|██▎       | 421/1865 [03:35<27:45,  1.15s/it]"
     ]
    },
    {
     "name": "stdout",
     "output_type": "stream",
     "text": [
      "{'eval_loss': 0.07775222510099411, 'eval_runtime': 3.1211, 'eval_samples_per_second': 119.19, 'eval_steps_per_second': 15.059, 'epoch': 1.13}\n"
     ]
    },
    {
     "name": "stderr",
     "output_type": "stream",
     "text": [
      "                                                  \n",
      " 23%|██▎       | 431/1865 [03:40<27:22,  1.15s/it]"
     ]
    },
    {
     "name": "stdout",
     "output_type": "stream",
     "text": [
      "{'eval_loss': 0.07681766897439957, 'eval_runtime': 3.1029, 'eval_samples_per_second': 119.887, 'eval_steps_per_second': 15.147, 'epoch': 1.15}\n"
     ]
    },
    {
     "name": "stderr",
     "output_type": "stream",
     "text": [
      "                                                  \n",
      " 24%|██▎       | 441/1865 [03:45<27:32,  1.16s/it]"
     ]
    },
    {
     "name": "stdout",
     "output_type": "stream",
     "text": [
      "{'eval_loss': 0.0776052176952362, 'eval_runtime': 3.154, 'eval_samples_per_second': 117.944, 'eval_steps_per_second': 14.902, 'epoch': 1.18}\n"
     ]
    },
    {
     "name": "stderr",
     "output_type": "stream",
     "text": [
      "                                                  \n",
      " 24%|██▍       | 451/1865 [03:50<27:07,  1.15s/it]"
     ]
    },
    {
     "name": "stdout",
     "output_type": "stream",
     "text": [
      "{'eval_loss': 0.07609836757183075, 'eval_runtime': 3.1235, 'eval_samples_per_second': 119.098, 'eval_steps_per_second': 15.047, 'epoch': 1.21}\n"
     ]
    },
    {
     "name": "stderr",
     "output_type": "stream",
     "text": [
      "                                                  \n",
      " 25%|██▍       | 461/1865 [03:55<27:02,  1.16s/it]"
     ]
    },
    {
     "name": "stdout",
     "output_type": "stream",
     "text": [
      "{'eval_loss': 0.07625062763690948, 'eval_runtime': 3.1318, 'eval_samples_per_second': 118.781, 'eval_steps_per_second': 15.007, 'epoch': 1.23}\n"
     ]
    },
    {
     "name": "stderr",
     "output_type": "stream",
     "text": [
      "                                                  \n",
      " 25%|██▌       | 471/1865 [04:00<26:41,  1.15s/it]"
     ]
    },
    {
     "name": "stdout",
     "output_type": "stream",
     "text": [
      "{'eval_loss': 0.07512180507183075, 'eval_runtime': 3.1189, 'eval_samples_per_second': 119.271, 'eval_steps_per_second': 15.069, 'epoch': 1.26}\n"
     ]
    },
    {
     "name": "stderr",
     "output_type": "stream",
     "text": [
      "                                                  \n",
      " 26%|██▌       | 481/1865 [04:05<26:15,  1.14s/it]"
     ]
    },
    {
     "name": "stdout",
     "output_type": "stream",
     "text": [
      "{'eval_loss': 0.07464402914047241, 'eval_runtime': 3.0789, 'eval_samples_per_second': 120.824, 'eval_steps_per_second': 15.265, 'epoch': 1.29}\n"
     ]
    },
    {
     "name": "stderr",
     "output_type": "stream",
     "text": [
      "                                                  \n",
      " 26%|██▋       | 491/1865 [04:10<26:20,  1.15s/it]"
     ]
    },
    {
     "name": "stdout",
     "output_type": "stream",
     "text": [
      "{'eval_loss': 0.07493279874324799, 'eval_runtime': 3.136, 'eval_samples_per_second': 118.624, 'eval_steps_per_second': 14.987, 'epoch': 1.31}\n"
     ]
    },
    {
     "name": "stderr",
     "output_type": "stream",
     "text": [
      " 27%|██▋       | 500/1865 [04:11<04:59,  4.56it/s]"
     ]
    },
    {
     "name": "stdout",
     "output_type": "stream",
     "text": [
      "{'loss': 1.6373, 'grad_norm': 0.07249174267053604, 'learning_rate': 0.0007319034852546918, 'epoch': 1.34}\n"
     ]
    },
    {
     "name": "stderr",
     "output_type": "stream",
     "text": [
      "                                                  \n",
      " 27%|██▋       | 500/1865 [04:14<04:59,  4.56it/s]"
     ]
    },
    {
     "name": "stdout",
     "output_type": "stream",
     "text": [
      "{'eval_loss': 0.0734049454331398, 'eval_runtime': 3.1305, 'eval_samples_per_second': 118.831, 'eval_steps_per_second': 15.014, 'epoch': 1.34}\n"
     ]
    },
    {
     "name": "stderr",
     "output_type": "stream",
     "text": [
      "                                                  \n",
      " 27%|██▋       | 511/1865 [04:20<26:12,  1.16s/it]"
     ]
    },
    {
     "name": "stdout",
     "output_type": "stream",
     "text": [
      "{'eval_loss': 0.07353095710277557, 'eval_runtime': 3.1432, 'eval_samples_per_second': 118.352, 'eval_steps_per_second': 14.953, 'epoch': 1.37}\n"
     ]
    },
    {
     "name": "stderr",
     "output_type": "stream",
     "text": [
      "                                                  \n",
      " 28%|██▊       | 521/1865 [04:25<26:37,  1.19s/it]"
     ]
    },
    {
     "name": "stdout",
     "output_type": "stream",
     "text": [
      "{'eval_loss': 0.07254914194345474, 'eval_runtime': 3.2222, 'eval_samples_per_second': 115.449, 'eval_steps_per_second': 14.586, 'epoch': 1.39}\n"
     ]
    },
    {
     "name": "stderr",
     "output_type": "stream",
     "text": [
      "                                                  \n",
      " 28%|██▊       | 531/1865 [04:30<26:04,  1.17s/it]"
     ]
    },
    {
     "name": "stdout",
     "output_type": "stream",
     "text": [
      "{'eval_loss': 0.07197685539722443, 'eval_runtime': 3.1853, 'eval_samples_per_second': 116.786, 'eval_steps_per_second': 14.755, 'epoch': 1.42}\n"
     ]
    },
    {
     "name": "stderr",
     "output_type": "stream",
     "text": [
      "                                                  \n",
      " 29%|██▉       | 541/1865 [04:35<25:45,  1.17s/it]"
     ]
    },
    {
     "name": "stdout",
     "output_type": "stream",
     "text": [
      "{'eval_loss': 0.0715988352894783, 'eval_runtime': 3.1645, 'eval_samples_per_second': 117.553, 'eval_steps_per_second': 14.852, 'epoch': 1.45}\n"
     ]
    },
    {
     "name": "stderr",
     "output_type": "stream",
     "text": [
      "                                                  \n",
      " 30%|██▉       | 551/1865 [04:40<25:11,  1.15s/it]"
     ]
    },
    {
     "name": "stdout",
     "output_type": "stream",
     "text": [
      "{'eval_loss': 0.07134681940078735, 'eval_runtime': 3.1136, 'eval_samples_per_second': 119.474, 'eval_steps_per_second': 15.095, 'epoch': 1.47}\n"
     ]
    },
    {
     "name": "stderr",
     "output_type": "stream",
     "text": [
      "                                                  \n",
      " 30%|███       | 561/1865 [04:45<24:54,  1.15s/it]"
     ]
    },
    {
     "name": "stdout",
     "output_type": "stream",
     "text": [
      "{'eval_loss': 0.0711420550942421, 'eval_runtime': 3.1238, 'eval_samples_per_second': 119.087, 'eval_steps_per_second': 15.046, 'epoch': 1.5}\n"
     ]
    },
    {
     "name": "stderr",
     "output_type": "stream",
     "text": [
      "                                                  \n",
      " 31%|███       | 571/1865 [04:50<24:46,  1.15s/it]"
     ]
    },
    {
     "name": "stdout",
     "output_type": "stream",
     "text": [
      "{'eval_loss': 0.07077453285455704, 'eval_runtime': 3.1249, 'eval_samples_per_second': 119.045, 'eval_steps_per_second': 15.041, 'epoch': 1.53}\n"
     ]
    },
    {
     "name": "stderr",
     "output_type": "stream",
     "text": [
      "                                                  \n",
      " 31%|███       | 581/1865 [04:55<24:46,  1.16s/it]"
     ]
    },
    {
     "name": "stdout",
     "output_type": "stream",
     "text": [
      "{'eval_loss': 0.06965620815753937, 'eval_runtime': 3.155, 'eval_samples_per_second': 117.908, 'eval_steps_per_second': 14.897, 'epoch': 1.55}\n"
     ]
    },
    {
     "name": "stderr",
     "output_type": "stream",
     "text": [
      "                                                  \n",
      " 32%|███▏      | 591/1865 [05:00<24:31,  1.15s/it]"
     ]
    },
    {
     "name": "stdout",
     "output_type": "stream",
     "text": [
      "{'eval_loss': 0.06988197565078735, 'eval_runtime': 3.1339, 'eval_samples_per_second': 118.703, 'eval_steps_per_second': 14.997, 'epoch': 1.58}\n"
     ]
    },
    {
     "name": "stderr",
     "output_type": "stream",
     "text": [
      "                                                  \n",
      " 32%|███▏      | 600/1865 [05:05<04:45,  4.42it/s]"
     ]
    },
    {
     "name": "stdout",
     "output_type": "stream",
     "text": [
      "{'eval_loss': 0.06925718486309052, 'eval_runtime': 3.1055, 'eval_samples_per_second': 119.786, 'eval_steps_per_second': 15.134, 'epoch': 1.61}\n"
     ]
    },
    {
     "name": "stderr",
     "output_type": "stream",
     "text": [
      "                                                  \n",
      " 33%|███▎      | 611/1865 [05:10<24:07,  1.15s/it]"
     ]
    },
    {
     "name": "stdout",
     "output_type": "stream",
     "text": [
      "{'eval_loss': 0.06922043114900589, 'eval_runtime': 3.1206, 'eval_samples_per_second': 119.208, 'eval_steps_per_second': 15.061, 'epoch': 1.64}\n"
     ]
    },
    {
     "name": "stderr",
     "output_type": "stream",
     "text": [
      "                                                  \n",
      " 33%|███▎      | 621/1865 [05:15<23:36,  1.14s/it]"
     ]
    },
    {
     "name": "stdout",
     "output_type": "stream",
     "text": [
      "{'eval_loss': 0.06869539618492126, 'eval_runtime': 3.0973, 'eval_samples_per_second': 120.106, 'eval_steps_per_second': 15.175, 'epoch': 1.66}\n"
     ]
    },
    {
     "name": "stderr",
     "output_type": "stream",
     "text": [
      "                                                  \n",
      " 34%|███▍      | 631/1865 [05:20<23:35,  1.15s/it]"
     ]
    },
    {
     "name": "stdout",
     "output_type": "stream",
     "text": [
      "{'eval_loss': 0.0683436244726181, 'eval_runtime': 3.1211, 'eval_samples_per_second': 119.187, 'eval_steps_per_second': 15.059, 'epoch': 1.69}\n"
     ]
    },
    {
     "name": "stderr",
     "output_type": "stream",
     "text": [
      "                                                  \n",
      " 34%|███▍      | 641/1865 [05:25<23:12,  1.14s/it]"
     ]
    },
    {
     "name": "stdout",
     "output_type": "stream",
     "text": [
      "{'eval_loss': 0.06796559691429138, 'eval_runtime': 3.0717, 'eval_samples_per_second': 121.106, 'eval_steps_per_second': 15.301, 'epoch': 1.72}\n"
     ]
    },
    {
     "name": "stderr",
     "output_type": "stream",
     "text": [
      "                                                  \n",
      " 35%|███▍      | 651/1865 [05:30<23:02,  1.14s/it]"
     ]
    },
    {
     "name": "stdout",
     "output_type": "stream",
     "text": [
      "{'eval_loss': 0.06760332733392715, 'eval_runtime': 3.0862, 'eval_samples_per_second': 120.535, 'eval_steps_per_second': 15.229, 'epoch': 1.74}\n"
     ]
    },
    {
     "name": "stderr",
     "output_type": "stream",
     "text": [
      "                                                  \n",
      " 35%|███▌      | 661/1865 [05:35<22:51,  1.14s/it]"
     ]
    },
    {
     "name": "stdout",
     "output_type": "stream",
     "text": [
      "{'eval_loss': 0.06821761280298233, 'eval_runtime': 3.0976, 'eval_samples_per_second': 120.092, 'eval_steps_per_second': 15.173, 'epoch': 1.77}\n"
     ]
    },
    {
     "name": "stderr",
     "output_type": "stream",
     "text": [
      "                                                  \n",
      " 36%|███▌      | 671/1865 [05:40<22:50,  1.15s/it]"
     ]
    },
    {
     "name": "stdout",
     "output_type": "stream",
     "text": [
      "{'eval_loss': 0.06681577861309052, 'eval_runtime': 3.1167, 'eval_samples_per_second': 119.359, 'eval_steps_per_second': 15.08, 'epoch': 1.8}\n"
     ]
    },
    {
     "name": "stderr",
     "output_type": "stream",
     "text": [
      "                                                  \n",
      " 37%|███▋      | 681/1865 [05:45<23:15,  1.18s/it]"
     ]
    },
    {
     "name": "stdout",
     "output_type": "stream",
     "text": [
      "{'eval_loss': 0.06684202700853348, 'eval_runtime': 3.2144, 'eval_samples_per_second': 115.73, 'eval_steps_per_second': 14.622, 'epoch': 1.82}\n"
     ]
    },
    {
     "name": "stderr",
     "output_type": "stream",
     "text": [
      "                                                  \n",
      " 37%|███▋      | 691/1865 [05:50<22:42,  1.16s/it]"
     ]
    },
    {
     "name": "stdout",
     "output_type": "stream",
     "text": [
      "{'eval_loss': 0.06701003760099411, 'eval_runtime': 3.1479, 'eval_samples_per_second': 118.173, 'eval_steps_per_second': 14.93, 'epoch': 1.85}\n"
     ]
    },
    {
     "name": "stderr",
     "output_type": "stream",
     "text": [
      "                                                  \n",
      " 38%|███▊      | 700/1865 [05:55<04:23,  4.42it/s]"
     ]
    },
    {
     "name": "stdout",
     "output_type": "stream",
     "text": [
      "{'eval_loss': 0.06670551747083664, 'eval_runtime': 3.1369, 'eval_samples_per_second': 118.588, 'eval_steps_per_second': 14.983, 'epoch': 1.88}\n"
     ]
    },
    {
     "name": "stderr",
     "output_type": "stream",
     "text": [
      "                                                  \n",
      " 38%|███▊      | 711/1865 [06:00<22:48,  1.19s/it]"
     ]
    },
    {
     "name": "stdout",
     "output_type": "stream",
     "text": [
      "{'eval_loss': 0.06666351854801178, 'eval_runtime': 3.2274, 'eval_samples_per_second': 115.262, 'eval_steps_per_second': 14.563, 'epoch': 1.9}\n"
     ]
    },
    {
     "name": "stderr",
     "output_type": "stream",
     "text": [
      "                                                  \n",
      " 39%|███▊      | 721/1865 [06:05<22:00,  1.15s/it]"
     ]
    },
    {
     "name": "stdout",
     "output_type": "stream",
     "text": [
      "{'eval_loss': 0.06557144969701767, 'eval_runtime': 3.1177, 'eval_samples_per_second': 119.318, 'eval_steps_per_second': 15.075, 'epoch': 1.93}\n"
     ]
    },
    {
     "name": "stderr",
     "output_type": "stream",
     "text": [
      "                                                  \n",
      " 39%|███▉      | 731/1865 [06:10<21:51,  1.16s/it]"
     ]
    },
    {
     "name": "stdout",
     "output_type": "stream",
     "text": [
      "{'eval_loss': 0.06646400690078735, 'eval_runtime': 3.1507, 'eval_samples_per_second': 118.07, 'eval_steps_per_second': 14.917, 'epoch': 1.96}\n"
     ]
    },
    {
     "name": "stderr",
     "output_type": "stream",
     "text": [
      "                                                  \n",
      " 40%|███▉      | 741/1865 [06:15<21:38,  1.15s/it]"
     ]
    },
    {
     "name": "stdout",
     "output_type": "stream",
     "text": [
      "{'eval_loss': 0.06565020233392715, 'eval_runtime': 3.1346, 'eval_samples_per_second': 118.674, 'eval_steps_per_second': 14.994, 'epoch': 1.98}\n"
     ]
    },
    {
     "name": "stderr",
     "output_type": "stream",
     "text": [
      "                                                  \n",
      " 40%|████      | 751/1865 [06:20<21:11,  1.14s/it]"
     ]
    },
    {
     "name": "stdout",
     "output_type": "stream",
     "text": [
      "{'eval_loss': 0.06534568220376968, 'eval_runtime': 3.0999, 'eval_samples_per_second': 120.002, 'eval_steps_per_second': 15.162, 'epoch': 2.01}\n"
     ]
    },
    {
     "name": "stderr",
     "output_type": "stream",
     "text": [
      "                                                  \n",
      " 41%|████      | 761/1865 [06:25<20:55,  1.14s/it]"
     ]
    },
    {
     "name": "stdout",
     "output_type": "stream",
     "text": [
      "{'eval_loss': 0.0649729073047638, 'eval_runtime': 3.0918, 'eval_samples_per_second': 120.319, 'eval_steps_per_second': 15.202, 'epoch': 2.04}\n"
     ]
    },
    {
     "name": "stderr",
     "output_type": "stream",
     "text": [
      "                                                  \n",
      " 41%|████▏     | 771/1865 [06:31<24:36,  1.35s/it]"
     ]
    },
    {
     "name": "stdout",
     "output_type": "stream",
     "text": [
      "{'eval_loss': 0.06561870127916336, 'eval_runtime': 3.7772, 'eval_samples_per_second': 98.486, 'eval_steps_per_second': 12.443, 'epoch': 2.06}\n"
     ]
    },
    {
     "name": "stderr",
     "output_type": "stream",
     "text": [
      "                                                  \n",
      " 42%|████▏     | 781/1865 [06:36<21:20,  1.18s/it]"
     ]
    },
    {
     "name": "stdout",
     "output_type": "stream",
     "text": [
      "{'eval_loss': 0.06476814299821854, 'eval_runtime': 3.1965, 'eval_samples_per_second': 116.379, 'eval_steps_per_second': 14.704, 'epoch': 2.09}\n"
     ]
    },
    {
     "name": "stderr",
     "output_type": "stream",
     "text": [
      "                                                  \n",
      " 42%|████▏     | 790/1865 [06:41<03:57,  4.52it/s]"
     ]
    },
    {
     "name": "stdout",
     "output_type": "stream",
     "text": [
      "{'eval_loss': 0.0649571567773819, 'eval_runtime': 3.1845, 'eval_samples_per_second': 116.815, 'eval_steps_per_second': 14.759, 'epoch': 2.12}\n"
     ]
    },
    {
     "name": "stderr",
     "output_type": "stream",
     "text": [
      "                                                  \n",
      " 43%|████▎     | 800/1865 [06:46<04:09,  4.27it/s]"
     ]
    },
    {
     "name": "stdout",
     "output_type": "stream",
     "text": [
      "{'eval_loss': 0.06444787234067917, 'eval_runtime': 3.2269, 'eval_samples_per_second': 115.28, 'eval_steps_per_second': 14.565, 'epoch': 2.14}\n"
     ]
    },
    {
     "name": "stderr",
     "output_type": "stream",
     "text": [
      "                                                  \n",
      " 43%|████▎     | 811/1865 [06:51<20:49,  1.19s/it]"
     ]
    },
    {
     "name": "stdout",
     "output_type": "stream",
     "text": [
      "{'eval_loss': 0.06427986174821854, 'eval_runtime': 3.2121, 'eval_samples_per_second': 115.813, 'eval_steps_per_second': 14.632, 'epoch': 2.17}\n"
     ]
    },
    {
     "name": "stderr",
     "output_type": "stream",
     "text": [
      "                                                  \n",
      " 44%|████▍     | 821/1865 [06:56<20:19,  1.17s/it]"
     ]
    },
    {
     "name": "stdout",
     "output_type": "stream",
     "text": [
      "{'eval_loss': 0.06420110911130905, 'eval_runtime': 3.11, 'eval_samples_per_second': 119.614, 'eval_steps_per_second': 15.113, 'epoch': 2.2}\n"
     ]
    },
    {
     "name": "stderr",
     "output_type": "stream",
     "text": [
      "                                                  \n",
      " 45%|████▍     | 831/1865 [07:01<19:38,  1.14s/it]"
     ]
    },
    {
     "name": "stdout",
     "output_type": "stream",
     "text": [
      "{'eval_loss': 0.06432186812162399, 'eval_runtime': 3.0931, 'eval_samples_per_second': 120.266, 'eval_steps_per_second': 15.195, 'epoch': 2.23}\n"
     ]
    },
    {
     "name": "stderr",
     "output_type": "stream",
     "text": [
      "                                                  \n",
      " 45%|████▌     | 841/1865 [07:06<19:30,  1.14s/it]"
     ]
    },
    {
     "name": "stdout",
     "output_type": "stream",
     "text": [
      "{'eval_loss': 0.06439536809921265, 'eval_runtime': 3.103, 'eval_samples_per_second': 119.885, 'eval_steps_per_second': 15.147, 'epoch': 2.25}\n"
     ]
    },
    {
     "name": "stderr",
     "output_type": "stream",
     "text": [
      "                                                  \n",
      " 46%|████▌     | 851/1865 [07:11<19:18,  1.14s/it]"
     ]
    },
    {
     "name": "stdout",
     "output_type": "stream",
     "text": [
      "{'eval_loss': 0.06362882256507874, 'eval_runtime': 3.0985, 'eval_samples_per_second': 120.06, 'eval_steps_per_second': 15.169, 'epoch': 2.28}\n"
     ]
    },
    {
     "name": "stderr",
     "output_type": "stream",
     "text": [
      "                                                  \n",
      " 46%|████▌     | 861/1865 [07:16<19:09,  1.14s/it]"
     ]
    },
    {
     "name": "stdout",
     "output_type": "stream",
     "text": [
      "{'eval_loss': 0.06394384056329727, 'eval_runtime': 3.1175, 'eval_samples_per_second': 119.326, 'eval_steps_per_second': 15.076, 'epoch': 2.31}\n"
     ]
    },
    {
     "name": "stderr",
     "output_type": "stream",
     "text": [
      "                                                  \n",
      " 47%|████▋     | 871/1865 [07:21<19:06,  1.15s/it]"
     ]
    },
    {
     "name": "stdout",
     "output_type": "stream",
     "text": [
      "{'eval_loss': 0.06408035010099411, 'eval_runtime': 3.1478, 'eval_samples_per_second': 118.178, 'eval_steps_per_second': 14.931, 'epoch': 2.33}\n"
     ]
    },
    {
     "name": "stderr",
     "output_type": "stream",
     "text": [
      "                                                  \n",
      " 47%|████▋     | 880/1865 [07:26<03:38,  4.51it/s]"
     ]
    },
    {
     "name": "stdout",
     "output_type": "stream",
     "text": [
      "{'eval_loss': 0.06355531513690948, 'eval_runtime': 3.1621, 'eval_samples_per_second': 117.644, 'eval_steps_per_second': 14.864, 'epoch': 2.36}\n"
     ]
    },
    {
     "name": "stderr",
     "output_type": "stream",
     "text": [
      "                                                  \n",
      " 48%|████▊     | 891/1865 [07:31<18:46,  1.16s/it]"
     ]
    },
    {
     "name": "stdout",
     "output_type": "stream",
     "text": [
      "{'eval_loss': 0.06349756568670273, 'eval_runtime': 3.1363, 'eval_samples_per_second': 118.611, 'eval_steps_per_second': 14.986, 'epoch': 2.39}\n"
     ]
    },
    {
     "name": "stderr",
     "output_type": "stream",
     "text": [
      "                                                  \n",
      " 48%|████▊     | 900/1865 [07:36<03:29,  4.61it/s]"
     ]
    },
    {
     "name": "stdout",
     "output_type": "stream",
     "text": [
      "{'eval_loss': 0.06337680667638779, 'eval_runtime': 3.1118, 'eval_samples_per_second': 119.545, 'eval_steps_per_second': 15.104, 'epoch': 2.41}\n"
     ]
    },
    {
     "name": "stderr",
     "output_type": "stream",
     "text": [
      "                                                  \n",
      " 49%|████▉     | 911/1865 [07:41<18:29,  1.16s/it]"
     ]
    },
    {
     "name": "stdout",
     "output_type": "stream",
     "text": [
      "{'eval_loss': 0.06334005296230316, 'eval_runtime': 3.1486, 'eval_samples_per_second': 118.146, 'eval_steps_per_second': 14.927, 'epoch': 2.44}\n"
     ]
    },
    {
     "name": "stderr",
     "output_type": "stream",
     "text": [
      "                                                  \n",
      " 49%|████▉     | 921/1865 [07:46<18:11,  1.16s/it]"
     ]
    },
    {
     "name": "stdout",
     "output_type": "stream",
     "text": [
      "{'eval_loss': 0.0629725307226181, 'eval_runtime': 3.1474, 'eval_samples_per_second': 118.194, 'eval_steps_per_second': 14.933, 'epoch': 2.47}\n"
     ]
    },
    {
     "name": "stderr",
     "output_type": "stream",
     "text": [
      "                                                  \n",
      " 50%|████▉     | 931/1865 [07:51<17:55,  1.15s/it]"
     ]
    },
    {
     "name": "stdout",
     "output_type": "stream",
     "text": [
      "{'eval_loss': 0.06289377808570862, 'eval_runtime': 3.1327, 'eval_samples_per_second': 118.747, 'eval_steps_per_second': 15.003, 'epoch': 2.49}\n"
     ]
    },
    {
     "name": "stderr",
     "output_type": "stream",
     "text": [
      "                                                  \n",
      " 50%|█████     | 941/1865 [07:56<17:48,  1.16s/it]"
     ]
    },
    {
     "name": "stdout",
     "output_type": "stream",
     "text": [
      "{'eval_loss': 0.0631667897105217, 'eval_runtime': 3.1346, 'eval_samples_per_second': 118.675, 'eval_steps_per_second': 14.994, 'epoch': 2.52}\n"
     ]
    },
    {
     "name": "stderr",
     "output_type": "stream",
     "text": [
      "                                                  \n",
      " 51%|█████     | 951/1865 [08:01<17:35,  1.15s/it]"
     ]
    },
    {
     "name": "stdout",
     "output_type": "stream",
     "text": [
      "{'eval_loss': 0.06275201588869095, 'eval_runtime': 3.1367, 'eval_samples_per_second': 118.597, 'eval_steps_per_second': 14.984, 'epoch': 2.55}\n"
     ]
    },
    {
     "name": "stderr",
     "output_type": "stream",
     "text": [
      "                                                  \n",
      " 52%|█████▏    | 961/1865 [08:06<17:25,  1.16s/it]"
     ]
    },
    {
     "name": "stdout",
     "output_type": "stream",
     "text": [
      "{'eval_loss': 0.06255775690078735, 'eval_runtime': 3.1397, 'eval_samples_per_second': 118.481, 'eval_steps_per_second': 14.969, 'epoch': 2.57}\n"
     ]
    },
    {
     "name": "stderr",
     "output_type": "stream",
     "text": [
      "                                                  \n",
      " 52%|█████▏    | 971/1865 [08:11<17:21,  1.16s/it]"
     ]
    },
    {
     "name": "stdout",
     "output_type": "stream",
     "text": [
      "{'eval_loss': 0.06283076852560043, 'eval_runtime': 3.1586, 'eval_samples_per_second': 117.774, 'eval_steps_per_second': 14.88, 'epoch': 2.6}\n"
     ]
    },
    {
     "name": "stderr",
     "output_type": "stream",
     "text": [
      "                                                  \n",
      " 53%|█████▎    | 980/1865 [08:16<03:18,  4.46it/s]"
     ]
    },
    {
     "name": "stdout",
     "output_type": "stream",
     "text": [
      "{'eval_loss': 0.06289902329444885, 'eval_runtime': 3.1331, 'eval_samples_per_second': 118.733, 'eval_steps_per_second': 15.001, 'epoch': 2.63}\n"
     ]
    },
    {
     "name": "stderr",
     "output_type": "stream",
     "text": [
      "                                                  \n",
      " 53%|█████▎    | 991/1865 [08:21<16:53,  1.16s/it]"
     ]
    },
    {
     "name": "stdout",
     "output_type": "stream",
     "text": [
      "{'eval_loss': 0.06371808052062988, 'eval_runtime': 3.1439, 'eval_samples_per_second': 118.324, 'eval_steps_per_second': 14.95, 'epoch': 2.65}\n"
     ]
    },
    {
     "name": "stderr",
     "output_type": "stream",
     "text": [
      " 54%|█████▎    | 1000/1865 [08:23<03:15,  4.43it/s]"
     ]
    },
    {
     "name": "stdout",
     "output_type": "stream",
     "text": [
      "{'loss': 0.0888, 'grad_norm': 0.06895048171281815, 'learning_rate': 0.00046380697050938335, 'epoch': 2.68}\n"
     ]
    },
    {
     "name": "stderr",
     "output_type": "stream",
     "text": [
      "                                                   \n",
      " 54%|█████▎    | 1000/1865 [08:26<03:15,  4.43it/s]"
     ]
    },
    {
     "name": "stdout",
     "output_type": "stream",
     "text": [
      "{'eval_loss': 0.06247112154960632, 'eval_runtime': 3.1341, 'eval_samples_per_second': 118.695, 'eval_steps_per_second': 14.996, 'epoch': 2.68}\n"
     ]
    },
    {
     "name": "stderr",
     "output_type": "stream",
     "text": [
      "                                                   \n",
      " 54%|█████▍    | 1011/1865 [08:32<16:33,  1.16s/it]"
     ]
    },
    {
     "name": "stdout",
     "output_type": "stream",
     "text": [
      "{'eval_loss': 0.06292002648115158, 'eval_runtime': 3.1485, 'eval_samples_per_second': 118.152, 'eval_steps_per_second': 14.928, 'epoch': 2.71}\n"
     ]
    },
    {
     "name": "stderr",
     "output_type": "stream",
     "text": [
      "                                                   \n",
      " 55%|█████▍    | 1020/1865 [08:36<03:11,  4.42it/s]"
     ]
    },
    {
     "name": "stdout",
     "output_type": "stream",
     "text": [
      "{'eval_loss': 0.06193558871746063, 'eval_runtime': 3.1539, 'eval_samples_per_second': 117.95, 'eval_steps_per_second': 14.902, 'epoch': 2.73}\n"
     ]
    },
    {
     "name": "stderr",
     "output_type": "stream",
     "text": [
      "                                                   \n",
      " 55%|█████▌    | 1031/1865 [08:42<16:03,  1.16s/it]"
     ]
    },
    {
     "name": "stdout",
     "output_type": "stream",
     "text": [
      "{'eval_loss': 0.06236349046230316, 'eval_runtime': 3.1324, 'eval_samples_per_second': 118.757, 'eval_steps_per_second': 15.004, 'epoch': 2.76}\n"
     ]
    },
    {
     "name": "stderr",
     "output_type": "stream",
     "text": [
      "                                                   \n",
      " 56%|█████▌    | 1041/1865 [08:47<15:56,  1.16s/it]"
     ]
    },
    {
     "name": "stdout",
     "output_type": "stream",
     "text": [
      "{'eval_loss': 0.062022220343351364, 'eval_runtime': 3.1458, 'eval_samples_per_second': 118.254, 'eval_steps_per_second': 14.941, 'epoch': 2.79}\n"
     ]
    },
    {
     "name": "stderr",
     "output_type": "stream",
     "text": [
      "                                                   \n",
      " 56%|█████▋    | 1051/1865 [08:52<15:46,  1.16s/it]"
     ]
    },
    {
     "name": "stdout",
     "output_type": "stream",
     "text": [
      "{'eval_loss': 0.06223485618829727, 'eval_runtime': 3.1529, 'eval_samples_per_second': 117.986, 'eval_steps_per_second': 14.907, 'epoch': 2.82}\n"
     ]
    },
    {
     "name": "stderr",
     "output_type": "stream",
     "text": [
      "                                                   \n",
      " 57%|█████▋    | 1061/1865 [08:57<15:33,  1.16s/it]"
     ]
    },
    {
     "name": "stdout",
     "output_type": "stream",
     "text": [
      "{'eval_loss': 0.06181482970714569, 'eval_runtime': 3.1482, 'eval_samples_per_second': 118.163, 'eval_steps_per_second': 14.929, 'epoch': 2.84}\n"
     ]
    },
    {
     "name": "stderr",
     "output_type": "stream",
     "text": [
      "                                                   \n",
      " 57%|█████▋    | 1071/1865 [09:02<15:20,  1.16s/it]"
     ]
    },
    {
     "name": "stdout",
     "output_type": "stream",
     "text": [
      "{'eval_loss': 0.06191721186041832, 'eval_runtime': 3.1405, 'eval_samples_per_second': 118.453, 'eval_steps_per_second': 14.966, 'epoch': 2.87}\n"
     ]
    },
    {
     "name": "stderr",
     "output_type": "stream",
     "text": [
      "                                                   \n",
      " 58%|█████▊    | 1081/1865 [09:07<15:10,  1.16s/it]"
     ]
    },
    {
     "name": "stdout",
     "output_type": "stream",
     "text": [
      "{'eval_loss': 0.061615318059921265, 'eval_runtime': 3.1487, 'eval_samples_per_second': 118.146, 'eval_steps_per_second': 14.927, 'epoch': 2.9}\n"
     ]
    },
    {
     "name": "stderr",
     "output_type": "stream",
     "text": [
      "                                                   \n",
      " 58%|█████▊    | 1091/1865 [09:12<15:00,  1.16s/it]"
     ]
    },
    {
     "name": "stdout",
     "output_type": "stream",
     "text": [
      "{'eval_loss': 0.06182270497083664, 'eval_runtime': 3.1543, 'eval_samples_per_second': 117.933, 'eval_steps_per_second': 14.9, 'epoch': 2.92}\n"
     ]
    },
    {
     "name": "stderr",
     "output_type": "stream",
     "text": [
      "                                                   \n",
      " 59%|█████▉    | 1100/1865 [09:17<02:53,  4.40it/s]"
     ]
    },
    {
     "name": "stdout",
     "output_type": "stream",
     "text": [
      "{'eval_loss': 0.06146305799484253, 'eval_runtime': 3.1463, 'eval_samples_per_second': 118.234, 'eval_steps_per_second': 14.938, 'epoch': 2.95}\n"
     ]
    },
    {
     "name": "stderr",
     "output_type": "stream",
     "text": [
      "                                                   \n",
      " 60%|█████▉    | 1111/1865 [09:22<14:36,  1.16s/it]"
     ]
    },
    {
     "name": "stdout",
     "output_type": "stream",
     "text": [
      "{'eval_loss': 0.0617518275976181, 'eval_runtime': 3.143, 'eval_samples_per_second': 118.357, 'eval_steps_per_second': 14.954, 'epoch': 2.98}\n"
     ]
    },
    {
     "name": "stderr",
     "output_type": "stream",
     "text": [
      "                                                   \n",
      " 60%|██████    | 1121/1865 [09:27<14:16,  1.15s/it]"
     ]
    },
    {
     "name": "stdout",
     "output_type": "stream",
     "text": [
      "{'eval_loss': 0.061581190675497055, 'eval_runtime': 3.1535, 'eval_samples_per_second': 117.963, 'eval_steps_per_second': 14.904, 'epoch': 3.0}\n"
     ]
    },
    {
     "name": "stderr",
     "output_type": "stream",
     "text": [
      "                                                   \n",
      " 61%|██████    | 1131/1865 [09:32<14:16,  1.17s/it]"
     ]
    },
    {
     "name": "stdout",
     "output_type": "stream",
     "text": [
      "{'eval_loss': 0.061342302709817886, 'eval_runtime': 3.1654, 'eval_samples_per_second': 117.521, 'eval_steps_per_second': 14.848, 'epoch': 3.03}\n"
     ]
    },
    {
     "name": "stderr",
     "output_type": "stream",
     "text": [
      "                                                   \n",
      " 61%|██████    | 1141/1865 [09:37<13:57,  1.16s/it]"
     ]
    },
    {
     "name": "stdout",
     "output_type": "stream",
     "text": [
      "{'eval_loss': 0.06129767373204231, 'eval_runtime': 3.1319, 'eval_samples_per_second': 118.779, 'eval_steps_per_second': 15.007, 'epoch': 3.06}\n"
     ]
    },
    {
     "name": "stderr",
     "output_type": "stream",
     "text": [
      "                                                   \n",
      " 62%|██████▏   | 1151/1865 [09:42<13:49,  1.16s/it]"
     ]
    },
    {
     "name": "stdout",
     "output_type": "stream",
     "text": [
      "{'eval_loss': 0.06148406118154526, 'eval_runtime': 3.1509, 'eval_samples_per_second': 118.06, 'eval_steps_per_second': 14.916, 'epoch': 3.08}\n"
     ]
    },
    {
     "name": "stderr",
     "output_type": "stream",
     "text": [
      "                                                   \n",
      " 62%|██████▏   | 1161/1865 [09:47<13:39,  1.16s/it]"
     ]
    },
    {
     "name": "stdout",
     "output_type": "stream",
     "text": [
      "{'eval_loss': 0.06157331541180611, 'eval_runtime': 3.1553, 'eval_samples_per_second': 117.899, 'eval_steps_per_second': 14.896, 'epoch': 3.11}\n"
     ]
    },
    {
     "name": "stderr",
     "output_type": "stream",
     "text": [
      "                                                   \n",
      " 63%|██████▎   | 1171/1865 [09:52<13:30,  1.17s/it]"
     ]
    },
    {
     "name": "stdout",
     "output_type": "stream",
     "text": [
      "{'eval_loss': 0.06095639988780022, 'eval_runtime': 3.1642, 'eval_samples_per_second': 117.565, 'eval_steps_per_second': 14.854, 'epoch': 3.14}\n"
     ]
    },
    {
     "name": "stderr",
     "output_type": "stream",
     "text": [
      "                                                   \n",
      " 63%|██████▎   | 1181/1865 [09:57<13:14,  1.16s/it]"
     ]
    },
    {
     "name": "stdout",
     "output_type": "stream",
     "text": [
      "{'eval_loss': 0.06116903945803642, 'eval_runtime': 3.1497, 'eval_samples_per_second': 118.106, 'eval_steps_per_second': 14.922, 'epoch': 3.16}\n"
     ]
    },
    {
     "name": "stderr",
     "output_type": "stream",
     "text": [
      "                                                   \n",
      " 64%|██████▍   | 1191/1865 [10:02<13:04,  1.16s/it]"
     ]
    },
    {
     "name": "stdout",
     "output_type": "stream",
     "text": [
      "{'eval_loss': 0.06092489883303642, 'eval_runtime': 3.1533, 'eval_samples_per_second': 117.971, 'eval_steps_per_second': 14.905, 'epoch': 3.19}\n"
     ]
    },
    {
     "name": "stderr",
     "output_type": "stream",
     "text": [
      "                                                   \n",
      " 64%|██████▍   | 1200/1865 [10:07<02:31,  4.39it/s]"
     ]
    },
    {
     "name": "stdout",
     "output_type": "stream",
     "text": [
      "{'eval_loss': 0.060990527272224426, 'eval_runtime': 3.1583, 'eval_samples_per_second': 117.785, 'eval_steps_per_second': 14.881, 'epoch': 3.22}\n"
     ]
    },
    {
     "name": "stderr",
     "output_type": "stream",
     "text": [
      "                                                   \n",
      " 65%|██████▍   | 1211/1865 [10:13<12:43,  1.17s/it]"
     ]
    },
    {
     "name": "stdout",
     "output_type": "stream",
     "text": [
      "{'eval_loss': 0.06089864671230316, 'eval_runtime': 3.1593, 'eval_samples_per_second': 117.749, 'eval_steps_per_second': 14.877, 'epoch': 3.24}\n"
     ]
    },
    {
     "name": "stderr",
     "output_type": "stream",
     "text": [
      "                                                   \n",
      " 65%|██████▌   | 1221/1865 [10:18<12:27,  1.16s/it]"
     ]
    },
    {
     "name": "stdout",
     "output_type": "stream",
     "text": [
      "{'eval_loss': 0.060612503439188004, 'eval_runtime': 3.1453, 'eval_samples_per_second': 118.271, 'eval_steps_per_second': 14.943, 'epoch': 3.27}\n"
     ]
    },
    {
     "name": "stderr",
     "output_type": "stream",
     "text": [
      "                                                   \n",
      " 66%|██████▌   | 1231/1865 [10:23<12:21,  1.17s/it]"
     ]
    },
    {
     "name": "stdout",
     "output_type": "stream",
     "text": [
      "{'eval_loss': 0.0606440044939518, 'eval_runtime': 3.1714, 'eval_samples_per_second': 117.298, 'eval_steps_per_second': 14.82, 'epoch': 3.3}\n"
     ]
    },
    {
     "name": "stderr",
     "output_type": "stream",
     "text": [
      "                                                   \n",
      " 67%|██████▋   | 1241/1865 [10:28<12:07,  1.17s/it]"
     ]
    },
    {
     "name": "stdout",
     "output_type": "stream",
     "text": [
      "{'eval_loss': 0.06070176139473915, 'eval_runtime': 3.1617, 'eval_samples_per_second': 117.659, 'eval_steps_per_second': 14.866, 'epoch': 3.32}\n"
     ]
    },
    {
     "name": "stderr",
     "output_type": "stream",
     "text": [
      "                                                   \n",
      " 67%|██████▋   | 1251/1865 [10:33<11:56,  1.17s/it]"
     ]
    },
    {
     "name": "stdout",
     "output_type": "stream",
     "text": [
      "{'eval_loss': 0.06057312712073326, 'eval_runtime': 3.1614, 'eval_samples_per_second': 117.668, 'eval_steps_per_second': 14.867, 'epoch': 3.35}\n"
     ]
    },
    {
     "name": "stderr",
     "output_type": "stream",
     "text": [
      "                                                   \n",
      " 68%|██████▊   | 1261/1865 [10:38<11:44,  1.17s/it]"
     ]
    },
    {
     "name": "stdout",
     "output_type": "stream",
     "text": [
      "{'eval_loss': 0.060515373945236206, 'eval_runtime': 3.1634, 'eval_samples_per_second': 117.593, 'eval_steps_per_second': 14.857, 'epoch': 3.38}\n"
     ]
    },
    {
     "name": "stderr",
     "output_type": "stream",
     "text": [
      "                                                   \n",
      " 68%|██████▊   | 1271/1865 [10:43<11:32,  1.17s/it]"
     ]
    },
    {
     "name": "stdout",
     "output_type": "stream",
     "text": [
      "{'eval_loss': 0.060686007142066956, 'eval_runtime': 3.1601, 'eval_samples_per_second': 117.719, 'eval_steps_per_second': 14.873, 'epoch': 3.4}\n"
     ]
    },
    {
     "name": "stderr",
     "output_type": "stream",
     "text": [
      "                                                   \n",
      " 69%|██████▊   | 1281/1865 [10:48<11:21,  1.17s/it]"
     ]
    },
    {
     "name": "stdout",
     "output_type": "stream",
     "text": [
      "{'eval_loss': 0.06065713241696358, 'eval_runtime': 3.1646, 'eval_samples_per_second': 117.549, 'eval_steps_per_second': 14.852, 'epoch': 3.43}\n"
     ]
    },
    {
     "name": "stderr",
     "output_type": "stream",
     "text": [
      "                                                   \n",
      " 69%|██████▉   | 1291/1865 [10:53<11:09,  1.17s/it]"
     ]
    },
    {
     "name": "stdout",
     "output_type": "stream",
     "text": [
      "{'eval_loss': 0.06052849814295769, 'eval_runtime': 3.1598, 'eval_samples_per_second': 117.728, 'eval_steps_per_second': 14.874, 'epoch': 3.46}\n"
     ]
    },
    {
     "name": "stderr",
     "output_type": "stream",
     "text": [
      "                                                   \n",
      " 70%|██████▉   | 1300/1865 [10:58<02:09,  4.37it/s]"
     ]
    },
    {
     "name": "stdout",
     "output_type": "stream",
     "text": [
      "{'eval_loss': 0.06049437075853348, 'eval_runtime': 3.153, 'eval_samples_per_second': 117.984, 'eval_steps_per_second': 14.907, 'epoch': 3.49}\n"
     ]
    },
    {
     "name": "stderr",
     "output_type": "stream",
     "text": [
      "                                                   \n",
      " 70%|███████   | 1311/1865 [11:04<10:45,  1.17s/it]"
     ]
    },
    {
     "name": "stdout",
     "output_type": "stream",
     "text": [
      "{'eval_loss': 0.06041036546230316, 'eval_runtime': 3.1549, 'eval_samples_per_second': 117.912, 'eval_steps_per_second': 14.898, 'epoch': 3.51}\n"
     ]
    },
    {
     "name": "stderr",
     "output_type": "stream",
     "text": [
      "                                                   \n",
      " 71%|███████   | 1321/1865 [11:09<10:33,  1.17s/it]"
     ]
    },
    {
     "name": "stdout",
     "output_type": "stream",
     "text": [
      "{'eval_loss': 0.06034473702311516, 'eval_runtime': 3.1586, 'eval_samples_per_second': 117.775, 'eval_steps_per_second': 14.88, 'epoch': 3.54}\n"
     ]
    },
    {
     "name": "stderr",
     "output_type": "stream",
     "text": [
      "                                                   \n",
      " 71%|███████▏  | 1331/1865 [11:14<10:25,  1.17s/it]"
     ]
    },
    {
     "name": "stdout",
     "output_type": "stream",
     "text": [
      "{'eval_loss': 0.06049174815416336, 'eval_runtime': 3.1793, 'eval_samples_per_second': 117.006, 'eval_steps_per_second': 14.783, 'epoch': 3.57}\n"
     ]
    },
    {
     "name": "stderr",
     "output_type": "stream",
     "text": [
      "                                                   \n",
      " 72%|███████▏  | 1341/1865 [11:19<10:09,  1.16s/it]"
     ]
    },
    {
     "name": "stdout",
     "output_type": "stream",
     "text": [
      "{'eval_loss': 0.06027385592460632, 'eval_runtime': 3.1525, 'eval_samples_per_second': 118.003, 'eval_steps_per_second': 14.909, 'epoch': 3.59}\n"
     ]
    },
    {
     "name": "stderr",
     "output_type": "stream",
     "text": [
      "                                                   \n",
      " 72%|███████▏  | 1351/1865 [11:24<09:57,  1.16s/it]"
     ]
    },
    {
     "name": "stdout",
     "output_type": "stream",
     "text": [
      "{'eval_loss': 0.060386739671230316, 'eval_runtime': 3.1509, 'eval_samples_per_second': 118.062, 'eval_steps_per_second': 14.916, 'epoch': 3.62}\n"
     ]
    },
    {
     "name": "stderr",
     "output_type": "stream",
     "text": [
      "                                                   \n",
      " 73%|███████▎  | 1361/1865 [11:29<09:45,  1.16s/it]"
     ]
    },
    {
     "name": "stdout",
     "output_type": "stream",
     "text": [
      "{'eval_loss': 0.06023447960615158, 'eval_runtime': 3.1534, 'eval_samples_per_second': 117.967, 'eval_steps_per_second': 14.904, 'epoch': 3.65}\n"
     ]
    },
    {
     "name": "stderr",
     "output_type": "stream",
     "text": [
      "                                                   \n",
      " 74%|███████▎  | 1371/1865 [11:34<09:57,  1.21s/it]"
     ]
    },
    {
     "name": "stdout",
     "output_type": "stream",
     "text": [
      "{'eval_loss': 0.06025548279285431, 'eval_runtime': 3.1619, 'eval_samples_per_second': 117.651, 'eval_steps_per_second': 14.865, 'epoch': 3.67}\n"
     ]
    },
    {
     "name": "stderr",
     "output_type": "stream",
     "text": [
      "                                                   \n",
      " 74%|███████▍  | 1381/1865 [11:39<09:24,  1.17s/it]"
     ]
    },
    {
     "name": "stdout",
     "output_type": "stream",
     "text": [
      "{'eval_loss': 0.06031585857272148, 'eval_runtime': 3.1625, 'eval_samples_per_second': 117.627, 'eval_steps_per_second': 14.861, 'epoch': 3.7}\n"
     ]
    },
    {
     "name": "stderr",
     "output_type": "stream",
     "text": [
      "                                                   \n",
      " 75%|███████▍  | 1391/1865 [11:44<09:11,  1.16s/it]"
     ]
    },
    {
     "name": "stdout",
     "output_type": "stream",
     "text": [
      "{'eval_loss': 0.0602213554084301, 'eval_runtime': 3.1567, 'eval_samples_per_second': 117.846, 'eval_steps_per_second': 14.889, 'epoch': 3.73}\n"
     ]
    },
    {
     "name": "stderr",
     "output_type": "stream",
     "text": [
      "                                                   \n",
      " 75%|███████▌  | 1400/1865 [11:49<01:45,  4.39it/s]"
     ]
    },
    {
     "name": "stdout",
     "output_type": "stream",
     "text": [
      "{'eval_loss': 0.060142599046230316, 'eval_runtime': 3.1484, 'eval_samples_per_second': 118.154, 'eval_steps_per_second': 14.928, 'epoch': 3.75}\n"
     ]
    },
    {
     "name": "stderr",
     "output_type": "stream",
     "text": [
      "                                                   \n",
      " 76%|███████▌  | 1411/1865 [11:55<08:50,  1.17s/it]"
     ]
    },
    {
     "name": "stdout",
     "output_type": "stream",
     "text": [
      "{'eval_loss': 0.05994571000337601, 'eval_runtime': 3.1597, 'eval_samples_per_second': 117.731, 'eval_steps_per_second': 14.875, 'epoch': 3.78}\n"
     ]
    },
    {
     "name": "stderr",
     "output_type": "stream",
     "text": [
      "                                                   \n",
      " 76%|███████▌  | 1421/1865 [12:00<08:38,  1.17s/it]"
     ]
    },
    {
     "name": "stdout",
     "output_type": "stream",
     "text": [
      "{'eval_loss': 0.06015310063958168, 'eval_runtime': 3.1601, 'eval_samples_per_second': 117.717, 'eval_steps_per_second': 14.873, 'epoch': 3.81}\n"
     ]
    },
    {
     "name": "stderr",
     "output_type": "stream",
     "text": [
      "                                                   \n",
      " 77%|███████▋  | 1431/1865 [12:05<08:25,  1.16s/it]"
     ]
    },
    {
     "name": "stdout",
     "output_type": "stream",
     "text": [
      "{'eval_loss': 0.06013735011219978, 'eval_runtime': 3.1552, 'eval_samples_per_second': 117.901, 'eval_steps_per_second': 14.896, 'epoch': 3.83}\n"
     ]
    },
    {
     "name": "stderr",
     "output_type": "stream",
     "text": [
      "                                                   \n",
      " 77%|███████▋  | 1440/1865 [12:10<01:36,  4.40it/s]"
     ]
    },
    {
     "name": "stdout",
     "output_type": "stream",
     "text": [
      "{'eval_loss': 0.05998246371746063, 'eval_runtime': 3.1542, 'eval_samples_per_second': 117.937, 'eval_steps_per_second': 14.901, 'epoch': 3.86}\n"
     ]
    },
    {
     "name": "stderr",
     "output_type": "stream",
     "text": [
      "                                                   \n",
      " 78%|███████▊  | 1451/1865 [12:15<08:00,  1.16s/it]"
     ]
    },
    {
     "name": "stdout",
     "output_type": "stream",
     "text": [
      "{'eval_loss': 0.059974588453769684, 'eval_runtime': 3.1464, 'eval_samples_per_second': 118.231, 'eval_steps_per_second': 14.938, 'epoch': 3.89}\n"
     ]
    },
    {
     "name": "stderr",
     "output_type": "stream",
     "text": [
      "                                                   \n",
      " 78%|███████▊  | 1461/1865 [12:20<07:50,  1.17s/it]"
     ]
    },
    {
     "name": "stdout",
     "output_type": "stream",
     "text": [
      "{'eval_loss': 0.05992733687162399, 'eval_runtime': 3.1653, 'eval_samples_per_second': 117.526, 'eval_steps_per_second': 14.849, 'epoch': 3.91}\n"
     ]
    },
    {
     "name": "stderr",
     "output_type": "stream",
     "text": [
      "                                                   \n",
      " 79%|███████▉  | 1471/1865 [12:25<07:40,  1.17s/it]"
     ]
    },
    {
     "name": "stdout",
     "output_type": "stream",
     "text": [
      "{'eval_loss': 0.05984333157539368, 'eval_runtime': 3.1685, 'eval_samples_per_second': 117.405, 'eval_steps_per_second': 14.833, 'epoch': 3.94}\n"
     ]
    },
    {
     "name": "stderr",
     "output_type": "stream",
     "text": [
      "                                                   \n",
      " 79%|███████▉  | 1481/1865 [12:30<07:28,  1.17s/it]"
     ]
    },
    {
     "name": "stdout",
     "output_type": "stream",
     "text": [
      "{'eval_loss': 0.0599115826189518, 'eval_runtime': 3.1615, 'eval_samples_per_second': 117.666, 'eval_steps_per_second': 14.866, 'epoch': 3.97}\n"
     ]
    },
    {
     "name": "stderr",
     "output_type": "stream",
     "text": [
      "                                                   \n",
      " 80%|███████▉  | 1491/1865 [12:35<07:14,  1.16s/it]"
     ]
    },
    {
     "name": "stdout",
     "output_type": "stream",
     "text": [
      "{'eval_loss': 0.05967269465327263, 'eval_runtime': 3.1466, 'eval_samples_per_second': 118.224, 'eval_steps_per_second': 14.937, 'epoch': 3.99}\n"
     ]
    },
    {
     "name": "stderr",
     "output_type": "stream",
     "text": [
      " 80%|████████  | 1500/1865 [12:37<01:27,  4.16it/s]"
     ]
    },
    {
     "name": "stdout",
     "output_type": "stream",
     "text": [
      "{'loss': 0.0785, 'grad_norm': 0.04232126846909523, 'learning_rate': 0.00019571045576407506, 'epoch': 4.02}\n"
     ]
    },
    {
     "name": "stderr",
     "output_type": "stream",
     "text": [
      "                                                   \n",
      " 80%|████████  | 1500/1865 [12:40<01:27,  4.16it/s]"
     ]
    },
    {
     "name": "stdout",
     "output_type": "stream",
     "text": [
      "{'eval_loss': 0.05969894677400589, 'eval_runtime': 3.1481, 'eval_samples_per_second': 118.165, 'eval_steps_per_second': 14.929, 'epoch': 4.02}\n"
     ]
    },
    {
     "name": "stderr",
     "output_type": "stream",
     "text": [
      "                                                   \n",
      " 81%|████████  | 1510/1865 [12:45<01:22,  4.32it/s]"
     ]
    },
    {
     "name": "stdout",
     "output_type": "stream",
     "text": [
      "{'eval_loss': 0.05979344993829727, 'eval_runtime': 3.1578, 'eval_samples_per_second': 117.804, 'eval_steps_per_second': 14.884, 'epoch': 4.05}\n"
     ]
    },
    {
     "name": "stderr",
     "output_type": "stream",
     "text": [
      "                                                   \n",
      " 82%|████████▏ | 1521/1865 [12:50<06:41,  1.17s/it]"
     ]
    },
    {
     "name": "stdout",
     "output_type": "stream",
     "text": [
      "{'eval_loss': 0.05973832309246063, 'eval_runtime': 3.163, 'eval_samples_per_second': 117.61, 'eval_steps_per_second': 14.859, 'epoch': 4.08}\n"
     ]
    },
    {
     "name": "stderr",
     "output_type": "stream",
     "text": [
      "                                                   \n",
      " 82%|████████▏ | 1531/1865 [12:55<06:29,  1.16s/it]"
     ]
    },
    {
     "name": "stdout",
     "output_type": "stream",
     "text": [
      "{'eval_loss': 0.05989058315753937, 'eval_runtime': 3.1556, 'eval_samples_per_second': 117.884, 'eval_steps_per_second': 14.894, 'epoch': 4.1}\n"
     ]
    },
    {
     "name": "stderr",
     "output_type": "stream",
     "text": [
      "                                                   \n",
      " 83%|████████▎ | 1540/1865 [13:00<01:14,  4.38it/s]"
     ]
    },
    {
     "name": "stdout",
     "output_type": "stream",
     "text": [
      "{'eval_loss': 0.059838078916072845, 'eval_runtime': 3.1586, 'eval_samples_per_second': 117.772, 'eval_steps_per_second': 14.88, 'epoch': 4.13}\n"
     ]
    },
    {
     "name": "stderr",
     "output_type": "stream",
     "text": [
      "                                                   \n",
      " 83%|████████▎ | 1551/1865 [13:06<06:06,  1.17s/it]"
     ]
    },
    {
     "name": "stdout",
     "output_type": "stream",
     "text": [
      "{'eval_loss': 0.059572938829660416, 'eval_runtime': 3.1631, 'eval_samples_per_second': 117.605, 'eval_steps_per_second': 14.859, 'epoch': 4.16}\n"
     ]
    },
    {
     "name": "stderr",
     "output_type": "stream",
     "text": [
      "                                                   \n",
      " 84%|████████▎ | 1560/1865 [13:10<01:09,  4.40it/s]"
     ]
    },
    {
     "name": "stdout",
     "output_type": "stream",
     "text": [
      "{'eval_loss': 0.05951518565416336, 'eval_runtime': 3.1498, 'eval_samples_per_second': 118.103, 'eval_steps_per_second': 14.922, 'epoch': 4.18}\n"
     ]
    },
    {
     "name": "stderr",
     "output_type": "stream",
     "text": [
      "                                                   \n",
      " 84%|████████▍ | 1571/1865 [13:16<05:42,  1.17s/it]"
     ]
    },
    {
     "name": "stdout",
     "output_type": "stream",
     "text": [
      "{'eval_loss': 0.05953618511557579, 'eval_runtime': 3.1603, 'eval_samples_per_second': 117.709, 'eval_steps_per_second': 14.872, 'epoch': 4.21}\n"
     ]
    },
    {
     "name": "stderr",
     "output_type": "stream",
     "text": [
      "                                                   \n",
      " 85%|████████▍ | 1581/1865 [13:21<05:30,  1.16s/it]"
     ]
    },
    {
     "name": "stdout",
     "output_type": "stream",
     "text": [
      "{'eval_loss': 0.059546686708927155, 'eval_runtime': 3.1552, 'eval_samples_per_second': 117.9, 'eval_steps_per_second': 14.896, 'epoch': 4.24}\n"
     ]
    },
    {
     "name": "stderr",
     "output_type": "stream",
     "text": [
      "                                                   \n",
      " 85%|████████▌ | 1591/1865 [13:26<05:19,  1.16s/it]"
     ]
    },
    {
     "name": "stdout",
     "output_type": "stream",
     "text": [
      "{'eval_loss': 0.05962543934583664, 'eval_runtime': 3.1591, 'eval_samples_per_second': 117.757, 'eval_steps_per_second': 14.878, 'epoch': 4.26}\n"
     ]
    },
    {
     "name": "stderr",
     "output_type": "stream",
     "text": [
      "                                                   \n",
      " 86%|████████▌ | 1600/1865 [13:31<01:00,  4.37it/s]"
     ]
    },
    {
     "name": "stdout",
     "output_type": "stream",
     "text": [
      "{'eval_loss': 0.05946793034672737, 'eval_runtime': 3.1572, 'eval_samples_per_second': 117.824, 'eval_steps_per_second': 14.886, 'epoch': 4.29}\n"
     ]
    },
    {
     "name": "stderr",
     "output_type": "stream",
     "text": [
      "                                                   \n",
      " 86%|████████▋ | 1611/1865 [13:36<04:56,  1.17s/it]"
     ]
    },
    {
     "name": "stdout",
     "output_type": "stream",
     "text": [
      "{'eval_loss': 0.059328798204660416, 'eval_runtime': 3.155, 'eval_samples_per_second': 117.906, 'eval_steps_per_second': 14.897, 'epoch': 4.32}\n"
     ]
    },
    {
     "name": "stderr",
     "output_type": "stream",
     "text": [
      "                                                   \n",
      " 87%|████████▋ | 1620/1865 [13:41<00:55,  4.38it/s]"
     ]
    },
    {
     "name": "stdout",
     "output_type": "stream",
     "text": [
      "{'eval_loss': 0.059478431940078735, 'eval_runtime': 3.1527, 'eval_samples_per_second': 117.996, 'eval_steps_per_second': 14.908, 'epoch': 4.34}\n"
     ]
    },
    {
     "name": "stderr",
     "output_type": "stream",
     "text": [
      "                                                   \n",
      " 87%|████████▋ | 1631/1865 [13:46<04:33,  1.17s/it]"
     ]
    },
    {
     "name": "stdout",
     "output_type": "stream",
     "text": [
      "{'eval_loss': 0.059633318334817886, 'eval_runtime': 3.1661, 'eval_samples_per_second': 117.493, 'eval_steps_per_second': 14.845, 'epoch': 4.37}\n"
     ]
    },
    {
     "name": "stderr",
     "output_type": "stream",
     "text": [
      "                                                   \n",
      " 88%|████████▊ | 1641/1865 [13:51<04:20,  1.16s/it]"
     ]
    },
    {
     "name": "stdout",
     "output_type": "stream",
     "text": [
      "{'eval_loss': 0.05948368087410927, 'eval_runtime': 3.1519, 'eval_samples_per_second': 118.025, 'eval_steps_per_second': 14.912, 'epoch': 4.4}\n"
     ]
    },
    {
     "name": "stderr",
     "output_type": "stream",
     "text": [
      "                                                   \n",
      " 89%|████████▊ | 1651/1865 [13:56<04:07,  1.16s/it]"
     ]
    },
    {
     "name": "stdout",
     "output_type": "stream",
     "text": [
      "{'eval_loss': 0.059504684060811996, 'eval_runtime': 3.1386, 'eval_samples_per_second': 118.523, 'eval_steps_per_second': 14.975, 'epoch': 4.42}\n"
     ]
    },
    {
     "name": "stderr",
     "output_type": "stream",
     "text": [
      "                                                   \n",
      " 89%|████████▉ | 1661/1865 [14:01<03:57,  1.16s/it]"
     ]
    },
    {
     "name": "stdout",
     "output_type": "stream",
     "text": [
      "{'eval_loss': 0.05947580561041832, 'eval_runtime': 3.1523, 'eval_samples_per_second': 118.008, 'eval_steps_per_second': 14.91, 'epoch': 4.45}\n"
     ]
    },
    {
     "name": "stderr",
     "output_type": "stream",
     "text": [
      "                                                   \n",
      " 90%|████████▉ | 1671/1865 [14:06<03:45,  1.16s/it]"
     ]
    },
    {
     "name": "stdout",
     "output_type": "stream",
     "text": [
      "{'eval_loss': 0.05935505032539368, 'eval_runtime': 3.1525, 'eval_samples_per_second': 118.002, 'eval_steps_per_second': 14.909, 'epoch': 4.48}\n"
     ]
    },
    {
     "name": "stderr",
     "output_type": "stream",
     "text": [
      "                                                   \n",
      " 90%|█████████ | 1681/1865 [14:12<03:34,  1.17s/it]"
     ]
    },
    {
     "name": "stdout",
     "output_type": "stream",
     "text": [
      "{'eval_loss': 0.059234291315078735, 'eval_runtime': 3.1612, 'eval_samples_per_second': 117.675, 'eval_steps_per_second': 14.868, 'epoch': 4.5}\n"
     ]
    },
    {
     "name": "stderr",
     "output_type": "stream",
     "text": [
      "                                                   \n",
      " 91%|█████████ | 1691/1865 [14:17<03:22,  1.16s/it]"
     ]
    },
    {
     "name": "stdout",
     "output_type": "stream",
     "text": [
      "{'eval_loss': 0.05947580561041832, 'eval_runtime': 3.1528, 'eval_samples_per_second': 117.989, 'eval_steps_per_second': 14.907, 'epoch': 4.53}\n"
     ]
    },
    {
     "name": "stderr",
     "output_type": "stream",
     "text": [
      "                                                   \n",
      " 91%|█████████ | 1700/1865 [14:21<00:37,  4.40it/s]"
     ]
    },
    {
     "name": "stdout",
     "output_type": "stream",
     "text": [
      "{'eval_loss': 0.05953618511557579, 'eval_runtime': 3.151, 'eval_samples_per_second': 118.057, 'eval_steps_per_second': 14.916, 'epoch': 4.56}\n"
     ]
    },
    {
     "name": "stderr",
     "output_type": "stream",
     "text": [
      "                                                   \n",
      " 92%|█████████▏| 1711/1865 [14:27<02:59,  1.16s/it]"
     ]
    },
    {
     "name": "stdout",
     "output_type": "stream",
     "text": [
      "{'eval_loss': 0.05943642929196358, 'eval_runtime': 3.16, 'eval_samples_per_second': 117.72, 'eval_steps_per_second': 14.873, 'epoch': 4.58}\n"
     ]
    },
    {
     "name": "stderr",
     "output_type": "stream",
     "text": [
      "                                                   \n",
      " 92%|█████████▏| 1721/1865 [14:32<02:48,  1.17s/it]"
     ]
    },
    {
     "name": "stdout",
     "output_type": "stream",
     "text": [
      "{'eval_loss': 0.05929729342460632, 'eval_runtime': 3.1699, 'eval_samples_per_second': 117.355, 'eval_steps_per_second': 14.827, 'epoch': 4.61}\n"
     ]
    },
    {
     "name": "stderr",
     "output_type": "stream",
     "text": [
      "                                                   \n",
      " 93%|█████████▎| 1731/1865 [14:37<02:36,  1.17s/it]"
     ]
    },
    {
     "name": "stdout",
     "output_type": "stream",
     "text": [
      "{'eval_loss': 0.05927629396319389, 'eval_runtime': 3.1641, 'eval_samples_per_second': 117.571, 'eval_steps_per_second': 14.854, 'epoch': 4.64}\n"
     ]
    },
    {
     "name": "stderr",
     "output_type": "stream",
     "text": [
      "                                                   \n",
      " 93%|█████████▎| 1741/1865 [14:42<02:24,  1.17s/it]"
     ]
    },
    {
     "name": "stdout",
     "output_type": "stream",
     "text": [
      "{'eval_loss': 0.05921328812837601, 'eval_runtime': 3.1629, 'eval_samples_per_second': 117.613, 'eval_steps_per_second': 14.86, 'epoch': 4.66}\n"
     ]
    },
    {
     "name": "stderr",
     "output_type": "stream",
     "text": [
      "                                                   \n",
      " 94%|█████████▍| 1751/1865 [14:47<02:12,  1.16s/it]"
     ]
    },
    {
     "name": "stdout",
     "output_type": "stream",
     "text": [
      "{'eval_loss': 0.05922378972172737, 'eval_runtime': 3.1465, 'eval_samples_per_second': 118.227, 'eval_steps_per_second': 14.937, 'epoch': 4.69}\n"
     ]
    },
    {
     "name": "stderr",
     "output_type": "stream",
     "text": [
      "                                                   \n",
      " 94%|█████████▍| 1761/1865 [14:52<02:01,  1.17s/it]"
     ]
    },
    {
     "name": "stdout",
     "output_type": "stream",
     "text": [
      "{'eval_loss': 0.059315670281648636, 'eval_runtime': 3.1629, 'eval_samples_per_second': 117.615, 'eval_steps_per_second': 14.86, 'epoch': 4.72}\n"
     ]
    },
    {
     "name": "stderr",
     "output_type": "stream",
     "text": [
      "                                                   \n",
      " 95%|█████████▍| 1771/1865 [14:57<01:49,  1.16s/it]"
     ]
    },
    {
     "name": "stdout",
     "output_type": "stream",
     "text": [
      "{'eval_loss': 0.05932092294096947, 'eval_runtime': 3.1534, 'eval_samples_per_second': 117.968, 'eval_steps_per_second': 14.905, 'epoch': 4.75}\n"
     ]
    },
    {
     "name": "stderr",
     "output_type": "stream",
     "text": [
      "                                                   \n",
      " 95%|█████████▌| 1780/1865 [15:02<00:19,  4.38it/s]"
     ]
    },
    {
     "name": "stdout",
     "output_type": "stream",
     "text": [
      "{'eval_loss': 0.05931304767727852, 'eval_runtime': 3.1666, 'eval_samples_per_second': 117.477, 'eval_steps_per_second': 14.842, 'epoch': 4.77}\n"
     ]
    },
    {
     "name": "stderr",
     "output_type": "stream",
     "text": [
      "                                                   \n",
      " 96%|█████████▌| 1791/1865 [15:07<01:26,  1.17s/it]"
     ]
    },
    {
     "name": "stdout",
     "output_type": "stream",
     "text": [
      "{'eval_loss': 0.05930516868829727, 'eval_runtime': 3.1578, 'eval_samples_per_second': 117.803, 'eval_steps_per_second': 14.884, 'epoch': 4.8}\n"
     ]
    },
    {
     "name": "stderr",
     "output_type": "stream",
     "text": [
      "                                                   \n",
      " 97%|█████████▋| 1800/1865 [15:12<00:14,  4.39it/s]"
     ]
    },
    {
     "name": "stdout",
     "output_type": "stream",
     "text": [
      "{'eval_loss': 0.059389177709817886, 'eval_runtime': 3.1528, 'eval_samples_per_second': 117.989, 'eval_steps_per_second': 14.907, 'epoch': 4.83}\n"
     ]
    },
    {
     "name": "stderr",
     "output_type": "stream",
     "text": [
      "                                                   \n",
      " 97%|█████████▋| 1811/1865 [15:18<01:02,  1.17s/it]"
     ]
    },
    {
     "name": "stdout",
     "output_type": "stream",
     "text": [
      "{'eval_loss': 0.059315670281648636, 'eval_runtime': 3.1538, 'eval_samples_per_second': 117.951, 'eval_steps_per_second': 14.902, 'epoch': 4.85}\n"
     ]
    },
    {
     "name": "stderr",
     "output_type": "stream",
     "text": [
      "                                                   \n",
      " 98%|█████████▊| 1821/1865 [15:23<00:51,  1.16s/it]"
     ]
    },
    {
     "name": "stdout",
     "output_type": "stream",
     "text": [
      "{'eval_loss': 0.05927892029285431, 'eval_runtime': 3.1529, 'eval_samples_per_second': 117.985, 'eval_steps_per_second': 14.907, 'epoch': 4.88}\n"
     ]
    },
    {
     "name": "stderr",
     "output_type": "stream",
     "text": [
      "                                                   \n",
      " 98%|█████████▊| 1831/1865 [15:28<00:39,  1.16s/it]"
     ]
    },
    {
     "name": "stdout",
     "output_type": "stream",
     "text": [
      "{'eval_loss': 0.05930516868829727, 'eval_runtime': 3.1419, 'eval_samples_per_second': 118.401, 'eval_steps_per_second': 14.959, 'epoch': 4.91}\n"
     ]
    },
    {
     "name": "stderr",
     "output_type": "stream",
     "text": [
      "                                                   \n",
      " 99%|█████████▊| 1841/1865 [15:33<00:27,  1.16s/it]"
     ]
    },
    {
     "name": "stdout",
     "output_type": "stream",
     "text": [
      "{'eval_loss': 0.059289418160915375, 'eval_runtime': 3.1462, 'eval_samples_per_second': 118.238, 'eval_steps_per_second': 14.939, 'epoch': 4.93}\n"
     ]
    },
    {
     "name": "stderr",
     "output_type": "stream",
     "text": [
      "                                                   \n",
      " 99%|█████████▉| 1851/1865 [15:38<00:16,  1.17s/it]"
     ]
    },
    {
     "name": "stdout",
     "output_type": "stream",
     "text": [
      "{'eval_loss': 0.05931304767727852, 'eval_runtime': 3.1648, 'eval_samples_per_second': 117.542, 'eval_steps_per_second': 14.851, 'epoch': 4.96}\n"
     ]
    },
    {
     "name": "stderr",
     "output_type": "stream",
     "text": [
      "                                                   \n",
      "100%|█████████▉| 1861/1865 [15:43<00:04,  1.16s/it]"
     ]
    },
    {
     "name": "stdout",
     "output_type": "stream",
     "text": [
      "{'eval_loss': 0.05931304767727852, 'eval_runtime': 3.1507, 'eval_samples_per_second': 118.07, 'eval_steps_per_second': 14.917, 'epoch': 4.99}\n"
     ]
    },
    {
     "name": "stderr",
     "output_type": "stream",
     "text": [
      "100%|██████████| 1865/1865 [15:44<00:00,  1.97it/s]"
     ]
    },
    {
     "name": "stdout",
     "output_type": "stream",
     "text": [
      "{'train_runtime': 944.3468, 'train_samples_per_second': 15.778, 'train_steps_per_second': 1.975, 'train_loss': 0.4984449616705764, 'epoch': 5.0}\n"
     ]
    },
    {
     "name": "stderr",
     "output_type": "stream",
     "text": [
      "\n"
     ]
    }
   ],
   "source": [
    "try:\n",
    "    peft_trainer.train()\n",
    "except OutOfMemoryError:\n",
    "    print(\"Training interrupted due to OOM. Saving model checkpoint...\")\n",
    "    peft_model_path=\"./peft-conversation-checkpoint-local\"\n",
    "    peft_trainer.model.save_pretrained(peft_model_path)\n",
    "    tokenizer.save_pretrained(peft_model_path)\n",
    "    print(\"Checkpoint saved. You can resume training from here.\")"
   ]
  },
  {
   "cell_type": "code",
   "execution_count": 24,
   "metadata": {},
   "outputs": [
    {
     "name": "stderr",
     "output_type": "stream",
     "text": [
      "100%|██████████| 47/47 [00:03<00:00, 15.16it/s]\n"
     ]
    },
    {
     "data": {
      "text/plain": [
       "{'eval_loss': 0.05931829661130905,\n",
       " 'eval_runtime': 3.1482,\n",
       " 'eval_samples_per_second': 118.162,\n",
       " 'eval_steps_per_second': 14.929,\n",
       " 'epoch': 5.0}"
      ]
     },
     "execution_count": 24,
     "metadata": {},
     "output_type": "execute_result"
    }
   ],
   "source": [
    "# Evaluate using the validation dataset\n",
    "peft_trainer.evaluate(tokenized_datasets['validation'])"
   ]
  },
  {
   "cell_type": "code",
   "execution_count": 26,
   "metadata": {},
   "outputs": [
    {
     "data": {
      "image/png": "[encoded data removed]",
      "text/plain": [
       "<Figure size 1200x600 with 2 Axes>"
      ]
     },
     "metadata": {},
     "output_type": "display_data"
    }
   ],
   "source": [
    "# Path to the log file\n",
    "import json\n",
    "log_file_path = f\"{output_dir}/checkpoint-1865/trainer_state.json\"\n",
    "\n",
    "# Load the log file\n",
    "with open(log_file_path, \"r\") as log_file:\n",
    "    logs = json.load(log_file)\n",
    "\n",
    "# Extract the training losses\n",
    "training_losses = [entry[\"loss\"] for entry in logs[\"log_history\"] if \"loss\" in entry]\n",
    "# Extract validation loss from log history\n",
    "validation_loss = [entry['eval_loss'] for entry in logs[\"log_history\"] if \"eval_loss\" in entry]\n",
    "\n",
    "# Plot the learning curve\n",
    "fig, (ax1, ax2) = plt.subplots(1, 2, figsize=(12, 6))\n",
    "\n",
    "ax1.plot(training_losses, label=\"Training Loss\")\n",
    "ax1.set_xlabel(\"Steps\")\n",
    "ax1.set_ylabel(\"Loss\")\n",
    "ax1.set_title(\"Training Loss Curve\")\n",
    "ax1.legend()\n",
    "\n",
    "ax2.plot(validation_loss, label=\"Validation Loss\")\n",
    "ax2.set_xlabel(\"Steps\")\n",
    "ax2.set_ylabel(\"Evaluation Loss\")\n",
    "ax2.set_title(\"Evaluation Loss Curve\")\n",
    "ax2.legend()\n",
    "\n",
    "plt.tight_layout()\n",
    "\n",
    "plt.show()\n"
   ]
  },
  {
   "cell_type": "markdown",
   "metadata": {},
   "source": [
    "#### Save the fine-tuned model"
   ]
  },
  {
   "cell_type": "code",
   "execution_count": 27,
   "metadata": {},
   "outputs": [
    {
     "data": {
      "text/plain": [
       "('./peft-conversation-checkpoint-local\\\\tokenizer_config.json',\n",
       " './peft-conversation-checkpoint-local\\\\special_tokens_map.json',\n",
       " './peft-conversation-checkpoint-local\\\\tokenizer.json')"
      ]
     },
     "execution_count": 27,
     "metadata": {},
     "output_type": "execute_result"
    }
   ],
   "source": [
    "peft_model_path=\"./peft-conversation-checkpoint-local\"\n",
    "\n",
    "peft_trainer.model.save_pretrained(peft_model_path)\n",
    "tokenizer.save_pretrained(peft_model_path)"
   ]
  },
  {
   "cell_type": "markdown",
   "metadata": {},
   "source": [
    "#### Adding an adapter to the original flan-t5 model"
   ]
  },
  {
   "cell_type": "code",
   "execution_count": 28,
   "metadata": {},
   "outputs": [],
   "source": [
    "from peft import PeftModel\n",
    "\n",
    "peft_model_base = AutoModelForSeq2SeqLM.from_pretrained(\"google/flan-t5-base\", torch_dtype=torch.bfloat16)\n",
    "tokenizer = AutoTokenizer.from_pretrained(\"google/flan-t5-base\")\n",
    "\n",
    "peft_model = PeftModel.from_pretrained(peft_model_base,\n",
    "                                       'peft-conversation-checkpoint-local',\n",
    "                                       torch_dtype=torch.bfloat16,\n",
    "                                       is_trainable=False)"
   ]
  },
  {
   "cell_type": "code",
   "execution_count": 29,
   "metadata": {},
   "outputs": [
    {
     "name": "stdout",
     "output_type": "stream",
     "text": [
      "trainable model parameters: 0\n",
      "all model parameters: 248462592\n",
      "percentage of trainable model parameters: 0.00%\n"
     ]
    }
   ],
   "source": [
    "print(model_parameters(peft_model))"
   ]
  },
  {
   "cell_type": "code",
   "execution_count": 30,
   "metadata": {},
   "outputs": [],
   "source": [
    "def insert_prompt(prompt):\n",
    "    input_ids = tokenizer(prompt, return_tensors=\"pt\").input_ids \n",
    "\n",
    "    peft_model_outputs = peft_model.generate(input_ids=input_ids, generation_config=GenerationConfig(max_new_tokens=200, num_beams=1))\n",
    "    peft_model_text_output = tokenizer.decode(peft_model_outputs[0], skip_special_tokens=True)\n",
    "\n",
    "    return peft_model_text_output"
   ]
  },
  {
   "cell_type": "code",
   "execution_count": 31,
   "metadata": {},
   "outputs": [
    {
     "name": "stdout",
     "output_type": "stream",
     "text": [
      "question:\n",
      "where is paris?\n",
      "PEFT MODEL: France\n"
     ]
    }
   ],
   "source": [
    "prompt = \"where is paris?\"\n",
    "\n",
    "print(f'question:\\n{prompt}')\n",
    "print(f'PEFT MODEL: {insert_prompt(prompt)}')"
   ]
  },
  {
   "cell_type": "code",
   "execution_count": 32,
   "metadata": {},
   "outputs": [
    {
     "name": "stdout",
     "output_type": "stream",
     "text": [
      "question:\n",
      "What is the capital of california?\n",
      "PEFT MODEL: San Francisco\n"
     ]
    }
   ],
   "source": [
    "prompt = \"What is the capital of california?\"\n",
    "\n",
    "print(f'question:\\n{prompt}')\n",
    "print(f'PEFT MODEL: {insert_prompt(prompt)}')"
   ]
  },
  {
   "cell_type": "code",
   "execution_count": 33,
   "metadata": {},
   "outputs": [
    {
     "name": "stdout",
     "output_type": "stream",
     "text": [
      "question:\n",
      "What is the capital of Italy\n",
      "PEFT MODEL: Rome\n"
     ]
    }
   ],
   "source": [
    "prompt = \"What is the capital of Italy\"\n",
    "\n",
    "print(f'question:\\n{prompt}')\n",
    "print(f'PEFT MODEL: {insert_prompt(prompt)}')"
   ]
  },
  {
   "cell_type": "code",
   "execution_count": 35,
   "metadata": {},
   "outputs": [
    {
     "name": "stdout",
     "output_type": "stream",
     "text": [
      "question:\n",
      "What is the best drink for a hangover?\n",
      "PEFT MODEL: a stout\n"
     ]
    }
   ],
   "source": [
    "prompt = \"What is the best drink for a hangover?\"\n",
    "\n",
    "print(f'question:\\n{prompt}')\n",
    "print(f'PEFT MODEL: {insert_prompt(prompt)}')"
   ]
  },
  {
   "cell_type": "code",
   "execution_count": 36,
   "metadata": {},
   "outputs": [
    {
     "name": "stdout",
     "output_type": "stream",
     "text": [
      "question:\n",
      "What is the probability that two apples will fall at the same time?\n",
      "PEFT MODEL: 1 / 2\n"
     ]
    }
   ],
   "source": [
    "prompt = \"What is the probability that two apples will fall at the same time?\"\n",
    "\n",
    "print(f'question:\\n{prompt}')\n",
    "print(f'PEFT MODEL: {insert_prompt(prompt)}')"
   ]
  }
 ],
 "metadata": {
  "colab": {
   "provenance": []
  },
  "kernelspec": {
   "display_name": "Python 3 (ipykernel)",
   "language": "python",
   "name": "python3"
  },
  "language_info": {
   "codemirror_mode": {
    "name": "ipython",
    "version": 3
   },
   "file_extension": ".py",
   "mimetype": "text/x-python",
   "name": "python",
   "nbconvert_exporter": "python",
   "pygments_lexer": "ipython3",
   "version": "3.9.19"
  }
 },
 "nbformat": 4,
 "nbformat_minor": 4
}
