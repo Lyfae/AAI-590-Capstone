{
  "cells": [
    {
      "cell_type": "markdown",
      "metadata": {
        "id": "MraSKD2TzHvE"
      },
      "source": [
        "For this project, we adopted two different datasets, mentioned below."
      ]
    },
    {
      "cell_type": "markdown",
      "metadata": {
        "id": "BXPYmn_wa21i"
      },
      "source": [
        "ASL alphabet dataset : https://www.kaggle.com/datasets/grassknoted/asl-alphabet\n",
        "\n",
        "Chatbot dataset : https://www.kaggle.com/datasets/kreeshrajani/3k-conversations-dataset-for-chatbot"
      ]
    },
    {
      "cell_type": "code",
      "execution_count": null,
      "metadata": {
        "id": "XgVKIyLB2f0U"
      },
      "outputs": [],
      "source": [
        "import pandas as pd\n",
        "import matplotlib.pyplot as plt\n",
        "import seaborn as sns\n",
        "import numpy as np\n",
        "from collections import Counter\n",
        "import re\n",
        "from nltk.corpus import stopwords\n",
        "stop_words = set(stopwords.words('english'))\n",
        "import nltk\n",
        "from nltk.corpus import wordnet\n",
        "from nltk.stem import WordNetLemmatizer"
      ]
    },
    {
      "cell_type": "markdown",
      "metadata": {
        "id": "8EWU_b1dzHvF"
      },
      "source": [
        "## Chatbot Dataset - EDA and preprocessing"
      ]
    },
    {
      "cell_type": "code",
      "execution_count": null,
      "metadata": {
        "id": "svun_FJdzHvF"
      },
      "outputs": [],
      "source": [
        "chatbot_df = pd.read_csv('Conversation.csv')\n",
        "chatbot_df = chatbot_df.drop(columns = ['Unnamed: 0'])"
      ]
    },
    {
      "cell_type": "code",
      "execution_count": null,
      "metadata": {
        "id": "newFd6gvzHvF",
        "outputId": "d612a537-39c4-4f7c-9eeb-367eca092f59"
      },
      "outputs": [
        {
          "data": {
            "text/html": [
              "<div>\n",
              "<style scoped>\n",
              "    .dataframe tbody tr th:only-of-type {\n",
              "        vertical-align: middle;\n",
              "    }\n",
              "\n",
              "    .dataframe tbody tr th {\n",
              "        vertical-align: top;\n",
              "    }\n",
              "\n",
              "    .dataframe thead th {\n",
              "        text-align: right;\n",
              "    }\n",
              "</style>\n",
              "<table border=\"1\" class=\"dataframe\">\n",
              "  <thead>\n",
              "    <tr style=\"text-align: right;\">\n",
              "      <th></th>\n",
              "      <th>question</th>\n",
              "      <th>answer</th>\n",
              "    </tr>\n",
              "  </thead>\n",
              "  <tbody>\n",
              "    <tr>\n",
              "      <th>0</th>\n",
              "      <td>hi, how are you doing?</td>\n",
              "      <td>i'm fine. how about yourself?</td>\n",
              "    </tr>\n",
              "    <tr>\n",
              "      <th>1</th>\n",
              "      <td>i'm fine. how about yourself?</td>\n",
              "      <td>i'm pretty good. thanks for asking.</td>\n",
              "    </tr>\n",
              "    <tr>\n",
              "      <th>2</th>\n",
              "      <td>i'm pretty good. thanks for asking.</td>\n",
              "      <td>no problem. so how have you been?</td>\n",
              "    </tr>\n",
              "    <tr>\n",
              "      <th>3</th>\n",
              "      <td>no problem. so how have you been?</td>\n",
              "      <td>i've been great. what about you?</td>\n",
              "    </tr>\n",
              "    <tr>\n",
              "      <th>4</th>\n",
              "      <td>i've been great. what about you?</td>\n",
              "      <td>i've been good. i'm in school right now.</td>\n",
              "    </tr>\n",
              "  </tbody>\n",
              "</table>\n",
              "</div>"
            ],
            "text/plain": [
              "                              question  \\\n",
              "0               hi, how are you doing?   \n",
              "1        i'm fine. how about yourself?   \n",
              "2  i'm pretty good. thanks for asking.   \n",
              "3    no problem. so how have you been?   \n",
              "4     i've been great. what about you?   \n",
              "\n",
              "                                     answer  \n",
              "0             i'm fine. how about yourself?  \n",
              "1       i'm pretty good. thanks for asking.  \n",
              "2         no problem. so how have you been?  \n",
              "3          i've been great. what about you?  \n",
              "4  i've been good. i'm in school right now.  "
            ]
          },
          "execution_count": 66,
          "metadata": {},
          "output_type": "execute_result"
        }
      ],
      "source": [
        "chatbot_df.head()"
      ]
    },
    {
      "cell_type": "code",
      "execution_count": null,
      "metadata": {
        "id": "2Ob-nsBazHvF",
        "outputId": "787972b5-4faf-4c67-906b-d5c610483566"
      },
      "outputs": [
        {
          "data": {
            "text/plain": [
              "(3725, 2)"
            ]
          },
          "execution_count": 67,
          "metadata": {},
          "output_type": "execute_result"
        }
      ],
      "source": [
        "chatbot_df.shape"
      ]
    },
    {
      "cell_type": "markdown",
      "metadata": {
        "id": "KPUwy4thzHvF"
      },
      "source": [
        "#### EDA"
      ]
    },
    {
      "cell_type": "markdown",
      "metadata": {
        "id": "BltHnu6HzHvF"
      },
      "source": [
        "EDA was performed by following a similar procedure to the one described by Singh (n.d.).\n",
        "\n",
        "References:\n",
        "Singh, H. (n.d.). Complete Guide to EDA on Text Data. Kaggle. https://www.kaggle.com/code/harshsingh2209/complete-guide-to-eda-on-text-data"
      ]
    },
    {
      "cell_type": "code",
      "execution_count": null,
      "metadata": {
        "id": "7ivx5yCjzHvG",
        "outputId": "14c75873-72dd-4112-f7fe-f279b23992e8"
      },
      "outputs": [
        {
          "data": {
            "image/png": "[encoded data removed]",
            "text/plain": [
              "<Figure size 640x480 with 4 Axes>"
            ]
          },
          "metadata": {},
          "output_type": "display_data"
        }
      ],
      "source": [
        "# Function to count the number of words in a sentence\n",
        "def count_words(text):\n",
        "    words = text.split() # extract the words from text\n",
        "    num_words = len(words) # count the number of words\n",
        "    return num_words\n",
        "\n",
        "# Function to count the number of characters in a sentence\n",
        "def count_characters(text):\n",
        "    num_char = len(text) # count the number of chatacters\n",
        "    return num_char\n",
        "\n",
        "num_words_question = chatbot_df['question'].apply(count_words)\n",
        "num_words_answer = chatbot_df['answer'].apply(count_words)\n",
        "num_char_question = chatbot_df['question'].apply(count_characters)\n",
        "num_char_answer = chatbot_df['answer'].apply(count_characters)\n",
        "\n",
        "plt.subplot(2, 2, 1)\n",
        "sns.boxplot(y = num_words_question)\n",
        "plt.ylabel('Words per Question')\n",
        "plt.subplot(2, 2, 2)\n",
        "sns.boxplot(y = num_words_answer)\n",
        "plt.ylabel('Words per Answer')\n",
        "plt.subplot(2, 2, 3)\n",
        "sns.boxplot(y = num_char_question)\n",
        "plt.ylabel('Characters per Question')\n",
        "plt.subplot(2, 2, 4)\n",
        "sns.boxplot(y = num_char_answer)\n",
        "plt.ylabel('Characters per Answer')\n",
        "plt.subplots_adjust(left = 0.1, bottom = 0.1, right = 0.9, top = 0.9, wspace = 0.4, hspace = 0.4)\n",
        "plt.savefig('Figure3.png')\n",
        "plt.show()"
      ]
    },
    {
      "cell_type": "code",
      "execution_count": null,
      "metadata": {
        "id": "SrpqiEVkzHvG",
        "outputId": "f42473c4-be99-484f-a3fb-8414ea998b3d"
      },
      "outputs": [
        {
          "data": {
            "image/png": "[encoded data removed]",
            "text/plain": [
              "<Figure size 640x480 with 1 Axes>"
            ]
          },
          "metadata": {},
          "output_type": "display_data"
        },
        {
          "data": {
            "image/png": "[encoded data removed]",
            "text/plain": [
              "<Figure size 640x480 with 1 Axes>"
            ]
          },
          "metadata": {},
          "output_type": "display_data"
        }
      ],
      "source": [
        "# Identify the most frequent words in the question/answer columns\n",
        "\n",
        "# Function to get the list of words in a sentence\n",
        "def list_words(text):\n",
        "    words = text.split() # extract the words from text\n",
        "    return words\n",
        "\n",
        "# Function to get the top 20 most common words and their counts\n",
        "def words_freq(mostcommon):\n",
        "    words = []\n",
        "    counts = []\n",
        "    for word, count in mostcommon:\n",
        "        words.append(word)\n",
        "        counts.append(count)\n",
        "    return words, counts\n",
        "\n",
        "words_question = chatbot_df['question'].apply(list_words)\n",
        "words_answer = chatbot_df['answer'].apply(list_words)\n",
        "corpus_question = []\n",
        "for jj in range(len(words_question)):\n",
        "    corpus_question += words_question[jj] # all the words in all the questions\n",
        "corpus_answer = []\n",
        "for jj in range(len(words_answer)):\n",
        "    corpus_answer += words_answer[jj] # all the words in all the answers\n",
        "mostcommon_words_question = Counter(corpus_question).most_common(20) # 20 most common words in all the questions\n",
        "mostcommon_words_answer = Counter(corpus_answer).most_common(20) # 20 most common words in all the answers\n",
        "words_question, counts_question = words_freq(mostcommon_words_question) # top 20 most common words and their counts in questions\n",
        "words_answer, counts_answer = words_freq(mostcommon_words_answer) # top 20 most common words and their counts in answers\n",
        "\n",
        "sns.barplot(x = counts_question, y = words_question)\n",
        "plt.title('Top 20 most common words in questions')\n",
        "plt.show()\n",
        "\n",
        "sns.barplot(x = counts_answer, y = words_answer)\n",
        "plt.title('Top 20 most common words in answers')\n",
        "plt.show()"
      ]
    },
    {
      "cell_type": "markdown",
      "metadata": {
        "id": "13ml5Q_RzHvG"
      },
      "source": [
        "#### Preprocessing"
      ]
    },
    {
      "cell_type": "code",
      "execution_count": null,
      "metadata": {
        "id": "GMp8EaY8zHvG",
        "outputId": "328b6aa0-146a-431e-a319-9d1202adae05"
      },
      "outputs": [
        {
          "data": {
            "text/html": [
              "<div>\n",
              "<style scoped>\n",
              "    .dataframe tbody tr th:only-of-type {\n",
              "        vertical-align: middle;\n",
              "    }\n",
              "\n",
              "    .dataframe tbody tr th {\n",
              "        vertical-align: top;\n",
              "    }\n",
              "\n",
              "    .dataframe thead th {\n",
              "        text-align: right;\n",
              "    }\n",
              "</style>\n",
              "<table border=\"1\" class=\"dataframe\">\n",
              "  <thead>\n",
              "    <tr style=\"text-align: right;\">\n",
              "      <th></th>\n",
              "      <th>question</th>\n",
              "      <th>answer</th>\n",
              "    </tr>\n",
              "  </thead>\n",
              "  <tbody>\n",
              "    <tr>\n",
              "      <th>0</th>\n",
              "      <td>hi how are you doing</td>\n",
              "      <td>im fine how about yourself</td>\n",
              "    </tr>\n",
              "    <tr>\n",
              "      <th>1</th>\n",
              "      <td>im fine how about yourself</td>\n",
              "      <td>im pretty good thanks for asking</td>\n",
              "    </tr>\n",
              "    <tr>\n",
              "      <th>2</th>\n",
              "      <td>im pretty good thanks for asking</td>\n",
              "      <td>no problem so how have you been</td>\n",
              "    </tr>\n",
              "    <tr>\n",
              "      <th>3</th>\n",
              "      <td>no problem so how have you been</td>\n",
              "      <td>ive been great what about you</td>\n",
              "    </tr>\n",
              "    <tr>\n",
              "      <th>4</th>\n",
              "      <td>ive been great what about you</td>\n",
              "      <td>ive been good im in school right now</td>\n",
              "    </tr>\n",
              "  </tbody>\n",
              "</table>\n",
              "</div>"
            ],
            "text/plain": [
              "                           question                                answer\n",
              "0              hi how are you doing            im fine how about yourself\n",
              "1        im fine how about yourself      im pretty good thanks for asking\n",
              "2  im pretty good thanks for asking       no problem so how have you been\n",
              "3   no problem so how have you been         ive been great what about you\n",
              "4     ive been great what about you  ive been good im in school right now"
            ]
          },
          "execution_count": 70,
          "metadata": {},
          "output_type": "execute_result"
        }
      ],
      "source": [
        "# Function to remove punctuation and apply lowercase\n",
        "def clear_text(text):\n",
        "    text = re.sub(r'[^\\w\\s]', '', text) # remove punctuation\n",
        "    # words = text.split() # extract the words from text\n",
        "    # text = ' '.join([word for word in text.split() if word not in stop_words]) # remove stop words\n",
        "    text = text.lower() # apply lowercasing\n",
        "    return text\n",
        "\n",
        "chatbot_df['question'] = chatbot_df['question'].apply(clear_text)\n",
        "chatbot_df['answer'] = chatbot_df['answer'].apply(clear_text)\n",
        "chatbot_df.head()"
      ]
    },
    {
      "cell_type": "code",
      "execution_count": null,
      "metadata": {
        "id": "DOCcNii2zHvG",
        "outputId": "df6bcf54-ba75-438d-e7d2-a07952e283eb"
      },
      "outputs": [
        {
          "data": {
            "text/html": [
              "<div>\n",
              "<style scoped>\n",
              "    .dataframe tbody tr th:only-of-type {\n",
              "        vertical-align: middle;\n",
              "    }\n",
              "\n",
              "    .dataframe tbody tr th {\n",
              "        vertical-align: top;\n",
              "    }\n",
              "\n",
              "    .dataframe thead th {\n",
              "        text-align: right;\n",
              "    }\n",
              "</style>\n",
              "<table border=\"1\" class=\"dataframe\">\n",
              "  <thead>\n",
              "    <tr style=\"text-align: right;\">\n",
              "      <th></th>\n",
              "      <th>question</th>\n",
              "      <th>answer</th>\n",
              "      <th>token_question</th>\n",
              "      <th>token_answer</th>\n",
              "    </tr>\n",
              "  </thead>\n",
              "  <tbody>\n",
              "    <tr>\n",
              "      <th>0</th>\n",
              "      <td>hi how are you doing</td>\n",
              "      <td>im fine how about yourself</td>\n",
              "      <td>[hi, how, are, you, doing]</td>\n",
              "      <td>[im, fine, how, about, yourself]</td>\n",
              "    </tr>\n",
              "    <tr>\n",
              "      <th>1</th>\n",
              "      <td>im fine how about yourself</td>\n",
              "      <td>im pretty good thanks for asking</td>\n",
              "      <td>[im, fine, how, about, yourself]</td>\n",
              "      <td>[im, pretty, good, thanks, for, asking]</td>\n",
              "    </tr>\n",
              "    <tr>\n",
              "      <th>2</th>\n",
              "      <td>im pretty good thanks for asking</td>\n",
              "      <td>no problem so how have you been</td>\n",
              "      <td>[im, pretty, good, thanks, for, asking]</td>\n",
              "      <td>[no, problem, so, how, have, you, been]</td>\n",
              "    </tr>\n",
              "    <tr>\n",
              "      <th>3</th>\n",
              "      <td>no problem so how have you been</td>\n",
              "      <td>ive been great what about you</td>\n",
              "      <td>[no, problem, so, how, have, you, been]</td>\n",
              "      <td>[ive, been, great, what, about, you]</td>\n",
              "    </tr>\n",
              "    <tr>\n",
              "      <th>4</th>\n",
              "      <td>ive been great what about you</td>\n",
              "      <td>ive been good im in school right now</td>\n",
              "      <td>[ive, been, great, what, about, you]</td>\n",
              "      <td>[ive, been, good, im, in, school, right, now]</td>\n",
              "    </tr>\n",
              "  </tbody>\n",
              "</table>\n",
              "</div>"
            ],
            "text/plain": [
              "                           question                                answer  \\\n",
              "0              hi how are you doing            im fine how about yourself   \n",
              "1        im fine how about yourself      im pretty good thanks for asking   \n",
              "2  im pretty good thanks for asking       no problem so how have you been   \n",
              "3   no problem so how have you been         ive been great what about you   \n",
              "4     ive been great what about you  ive been good im in school right now   \n",
              "\n",
              "                            token_question  \\\n",
              "0               [hi, how, are, you, doing]   \n",
              "1         [im, fine, how, about, yourself]   \n",
              "2  [im, pretty, good, thanks, for, asking]   \n",
              "3  [no, problem, so, how, have, you, been]   \n",
              "4     [ive, been, great, what, about, you]   \n",
              "\n",
              "                                    token_answer  \n",
              "0               [im, fine, how, about, yourself]  \n",
              "1        [im, pretty, good, thanks, for, asking]  \n",
              "2        [no, problem, so, how, have, you, been]  \n",
              "3           [ive, been, great, what, about, you]  \n",
              "4  [ive, been, good, im, in, school, right, now]  "
            ]
          },
          "execution_count": 71,
          "metadata": {},
          "output_type": "execute_result"
        }
      ],
      "source": [
        "# Tokenization\n",
        "chatbot_df['token_question'] = chatbot_df['question'].apply(nltk.word_tokenize)\n",
        "chatbot_df['token_answer'] = chatbot_df['answer'].apply(nltk.word_tokenize)\n",
        "chatbot_df.head()"
      ]
    },
    {
      "cell_type": "code",
      "execution_count": null,
      "metadata": {
        "id": "5vP4gdpozHvG",
        "outputId": "2640e919-2bed-4133-efdb-b5260f67d224"
      },
      "outputs": [
        {
          "data": {
            "text/html": [
              "<div>\n",
              "<style scoped>\n",
              "    .dataframe tbody tr th:only-of-type {\n",
              "        vertical-align: middle;\n",
              "    }\n",
              "\n",
              "    .dataframe tbody tr th {\n",
              "        vertical-align: top;\n",
              "    }\n",
              "\n",
              "    .dataframe thead th {\n",
              "        text-align: right;\n",
              "    }\n",
              "</style>\n",
              "<table border=\"1\" class=\"dataframe\">\n",
              "  <thead>\n",
              "    <tr style=\"text-align: right;\">\n",
              "      <th></th>\n",
              "      <th>question</th>\n",
              "      <th>answer</th>\n",
              "      <th>token_question</th>\n",
              "      <th>token_answer</th>\n",
              "      <th>lem_question</th>\n",
              "      <th>lem_answer</th>\n",
              "    </tr>\n",
              "  </thead>\n",
              "  <tbody>\n",
              "    <tr>\n",
              "      <th>0</th>\n",
              "      <td>hi how are you doing</td>\n",
              "      <td>im fine how about yourself</td>\n",
              "      <td>[hi, how, are, you, doing]</td>\n",
              "      <td>[im, fine, how, about, yourself]</td>\n",
              "      <td>[hi, how, be, you, do]</td>\n",
              "      <td>[im, fine, how, about, yourself]</td>\n",
              "    </tr>\n",
              "    <tr>\n",
              "      <th>1</th>\n",
              "      <td>im fine how about yourself</td>\n",
              "      <td>im pretty good thanks for asking</td>\n",
              "      <td>[im, fine, how, about, yourself]</td>\n",
              "      <td>[im, pretty, good, thanks, for, asking]</td>\n",
              "      <td>[im, fine, how, about, yourself]</td>\n",
              "      <td>[im, pretty, good, thanks, for, ask]</td>\n",
              "    </tr>\n",
              "    <tr>\n",
              "      <th>2</th>\n",
              "      <td>im pretty good thanks for asking</td>\n",
              "      <td>no problem so how have you been</td>\n",
              "      <td>[im, pretty, good, thanks, for, asking]</td>\n",
              "      <td>[no, problem, so, how, have, you, been]</td>\n",
              "      <td>[im, pretty, good, thanks, for, ask]</td>\n",
              "      <td>[no, problem, so, how, have, you, be]</td>\n",
              "    </tr>\n",
              "    <tr>\n",
              "      <th>3</th>\n",
              "      <td>no problem so how have you been</td>\n",
              "      <td>ive been great what about you</td>\n",
              "      <td>[no, problem, so, how, have, you, been]</td>\n",
              "      <td>[ive, been, great, what, about, you]</td>\n",
              "      <td>[no, problem, so, how, have, you, be]</td>\n",
              "      <td>[ive, be, great, what, about, you]</td>\n",
              "    </tr>\n",
              "    <tr>\n",
              "      <th>4</th>\n",
              "      <td>ive been great what about you</td>\n",
              "      <td>ive been good im in school right now</td>\n",
              "      <td>[ive, been, great, what, about, you]</td>\n",
              "      <td>[ive, been, good, im, in, school, right, now]</td>\n",
              "      <td>[ive, be, great, what, about, you]</td>\n",
              "      <td>[ive, be, good, im, in, school, right, now]</td>\n",
              "    </tr>\n",
              "  </tbody>\n",
              "</table>\n",
              "</div>"
            ],
            "text/plain": [
              "                           question                                answer  \\\n",
              "0              hi how are you doing            im fine how about yourself   \n",
              "1        im fine how about yourself      im pretty good thanks for asking   \n",
              "2  im pretty good thanks for asking       no problem so how have you been   \n",
              "3   no problem so how have you been         ive been great what about you   \n",
              "4     ive been great what about you  ive been good im in school right now   \n",
              "\n",
              "                            token_question  \\\n",
              "0               [hi, how, are, you, doing]   \n",
              "1         [im, fine, how, about, yourself]   \n",
              "2  [im, pretty, good, thanks, for, asking]   \n",
              "3  [no, problem, so, how, have, you, been]   \n",
              "4     [ive, been, great, what, about, you]   \n",
              "\n",
              "                                    token_answer  \\\n",
              "0               [im, fine, how, about, yourself]   \n",
              "1        [im, pretty, good, thanks, for, asking]   \n",
              "2        [no, problem, so, how, have, you, been]   \n",
              "3           [ive, been, great, what, about, you]   \n",
              "4  [ive, been, good, im, in, school, right, now]   \n",
              "\n",
              "                            lem_question  \\\n",
              "0                 [hi, how, be, you, do]   \n",
              "1       [im, fine, how, about, yourself]   \n",
              "2   [im, pretty, good, thanks, for, ask]   \n",
              "3  [no, problem, so, how, have, you, be]   \n",
              "4     [ive, be, great, what, about, you]   \n",
              "\n",
              "                                    lem_answer  \n",
              "0             [im, fine, how, about, yourself]  \n",
              "1         [im, pretty, good, thanks, for, ask]  \n",
              "2        [no, problem, so, how, have, you, be]  \n",
              "3           [ive, be, great, what, about, you]  \n",
              "4  [ive, be, good, im, in, school, right, now]  "
            ]
          },
          "execution_count": 72,
          "metadata": {},
          "output_type": "execute_result"
        }
      ],
      "source": [
        "# Lemmatization\n",
        "\n",
        "# Function to obtain the right positional tagging prior to lemmatization\n",
        "# Same function presented in Python – Lemmatization Approaches with Examples (n.d.)\n",
        "def right_pos_tagging(tag):\n",
        "    if tag.startswith('J'):\n",
        "        return wordnet.ADJ\n",
        "    elif tag.startswith('V'):\n",
        "        return wordnet.VERB\n",
        "    elif tag.startswith('N'):\n",
        "        return wordnet.NOUN\n",
        "    elif tag.startswith('R'):\n",
        "        return wordnet.ADV\n",
        "    else:\n",
        "        return None\n",
        "\n",
        "# Obtain the right positional tagging prior to lemmatization\n",
        "# Positional tags were modified as suggested by Python – Lemmatization Approaches with Examples (n.d.)\n",
        "\n",
        "tokens = chatbot_df['token_question']\n",
        "new_tag_tokens = []\n",
        "for jj in range(len(tokens)):\n",
        "    tokens_jj = tokens[jj] # tokens at the jjth row\n",
        "    tag_tokens_jj = nltk.pos_tag(tokens_jj) # POS tags for the generic tokens_jj\n",
        "    new_tag_tokens.append(list(map(lambda x: (x[0], right_pos_tagging(x[1])), tag_tokens_jj))) # modified POS tags for the generic tokens_jj (as Python – Lemmatization Approaches with Examples, n.d.)\n",
        "tagged_token_question = new_tag_tokens\n",
        "\n",
        "tokens = chatbot_df['token_answer']\n",
        "new_tag_tokens = []\n",
        "for jj in range(len(tokens)):\n",
        "    tokens_jj = tokens[jj] # tokens at the jjth row\n",
        "    tag_tokens_jj = nltk.pos_tag(tokens_jj) # POS tags for the generic tokens_jj\n",
        "    new_tag_tokens.append(list(map(lambda x: (x[0], right_pos_tagging(x[1])), tag_tokens_jj))) # modified POS tags for the generic tokens_jj (as Python – Lemmatization Approaches with Examples, n.d.)\n",
        "tagged_token_answer = new_tag_tokens\n",
        "\n",
        "# Implement lemmatization on the tokens\n",
        "# A procedure similar to the one described in Python – Lemmatization Approaches with Examples (n.d.) and by Kumar (2021) was applied\n",
        "\n",
        "wnl = WordNetLemmatizer()\n",
        "Lemmatization = []\n",
        "for jj in range(len(tagged_token_question)):\n",
        "    lemmatized_question = []\n",
        "# Same lines of codes used in Python – Lemmatization Approaches with Examples (n.d.)\n",
        "    for word, tag in tagged_token_question[jj]:\n",
        "        if tag is None:\n",
        "            lemmatized_question.append(word)\n",
        "        else:\n",
        "            lemmatized_question.append(wnl.lemmatize(word, tag))\n",
        "    Lemmatization.append(lemmatized_question)\n",
        "chatbot_df['lem_question'] = Lemmatization\n",
        "\n",
        "Lemmatization = []\n",
        "for jj in range(len(tagged_token_answer)):\n",
        "    lemmatized_answer = []\n",
        "# Same lines of codes used in Python – Lemmatization Approaches with Examples (n.d.)\n",
        "    for word, tag in tagged_token_answer[jj]:\n",
        "        if tag is None:\n",
        "            lemmatized_answer.append(word)\n",
        "        else:\n",
        "            lemmatized_answer.append(wnl.lemmatize(word, tag))\n",
        "    Lemmatization.append(lemmatized_answer)\n",
        "chatbot_df['lem_answer'] = Lemmatization\n",
        "\n",
        "chatbot_df.head()\n",
        "\n",
        "# References\n",
        "# Kumar, R. (2021, August 6). Natural Language Processing | Text Preprocessing | Spacy vs NLTK. Medium. https://medium.com/nerd-for-tech/natural-language-processing-text-preprocessing-spacy-vs-nltk-b70b734f5560\n",
        "# Python – Lemmatization Approaches with Examples. (n.d.). Geeks for Geeks.  https://www.geeksforgeeks.org/python-lemmatization-approaches-with-examples/"
      ]
    }
  ],
  "metadata": {
    "colab": {
      "provenance": []
    },
    "kernelspec": {
      "display_name": "Python 3 (ipykernel)",
      "language": "python",
      "name": "python3"
    },
    "language_info": {
      "codemirror_mode": {
        "name": "ipython",
        "version": 3
      },
      "file_extension": ".py",
      "mimetype": "text/x-python",
      "name": "python",
      "nbconvert_exporter": "python",
      "pygments_lexer": "ipython3",
      "version": "3.9.13"
    }
  },
  "nbformat": 4,
  "nbformat_minor": 0
}